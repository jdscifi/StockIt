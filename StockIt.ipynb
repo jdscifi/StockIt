{
  "nbformat": 4,
  "nbformat_minor": 0,
  "metadata": {
    "colab": {
      "name": "AIDI_1100_01_FINAL-PROJECT_GROUP-1.ipynb",
      "provenance": [],
      "collapsed_sections": []
    },
    "kernelspec": {
      "name": "python3",
      "display_name": "Python 3"
    },
    "language_info": {
      "name": "python"
    }
  },
  "cells": [
    {
      "cell_type": "markdown",
      "metadata": {
        "id": "view-in-github"
      },
      "source": [
        "<a href=\"https://colab.research.google.com/github/jdscifi/StockIt/blob/developement/StockIt.ipynb\" target=\"_parent\"><img src=\"https://colab.research.google.com/assets/colab-badge.svg\" alt=\"Open In Colab\"/></a>"
      ]
    },
    {
      "cell_type": "markdown",
      "metadata": {
        "id": "-RUclGcuPQVT"
      },
      "source": [
        "# Program Description"
      ]
    },
    {
      "cell_type": "markdown",
      "metadata": {
        "id": "cwVKEBDIPxwz"
      },
      "source": [
        "Program used for stock price analysis and prediction."
      ]
    },
    {
      "cell_type": "markdown",
      "metadata": {
        "id": "gJlsuKOyQXiD"
      },
      "source": [
        "Program functions:\n",
        "* Parsing news of stock prices from a website\n",
        "* Logging of parsed information onto file\n",
        "* Analysis of stocks from identified sector\n",
        "* Prediction of stock price for identified stock"
      ]
    },
    {
      "cell_type": "markdown",
      "metadata": {
        "id": "63B5r9HpPTBi"
      },
      "source": [
        "Project Group Members:\n",
        "* Terence Yu\n",
        "* Jaydutt Joshi\n",
        "* Vineth Rajendran\n",
        "* Shail Patel\n",
        "* Swati Pal\n",
        "* Kranthi Kandati"
      ]
    },
    {
      "cell_type": "markdown",
      "metadata": {
        "id": "j7XnEqSGNZiz"
      },
      "source": [
        "# Program Setup"
      ]
    },
    {
      "cell_type": "markdown",
      "metadata": {
        "id": "gagocSSJNczG"
      },
      "source": [
        "Install needed libraries"
      ]
    },
    {
      "cell_type": "code",
      "metadata": {
        "id": "WoXOQUVwTql8",
        "colab": {
          "base_uri": "https://localhost:8080/"
        },
        "outputId": "6418d881-3271-4b3c-b187-9b437ffd4224"
      },
      "source": [
        "% pip install yfinance\n",
        "% pip install talos\n",
        "% pip install ipython-autotime\n",
        "% load_ext autotime"
      ],
      "execution_count": 1,
      "outputs": [
        {
          "output_type": "stream",
          "name": "stdout",
          "text": [
            "Collecting yfinance\n",
            "  Downloading yfinance-0.1.67-py2.py3-none-any.whl (25 kB)\n",
            "Requirement already satisfied: pandas>=0.24 in /usr/local/lib/python3.7/dist-packages (from yfinance) (1.1.5)\n",
            "Collecting lxml>=4.5.1\n",
            "  Downloading lxml-4.7.1-cp37-cp37m-manylinux_2_17_x86_64.manylinux2014_x86_64.manylinux_2_24_x86_64.whl (6.4 MB)\n",
            "\u001b[K     |████████████████████████████████| 6.4 MB 38.4 MB/s \n",
            "\u001b[?25hRequirement already satisfied: multitasking>=0.0.7 in /usr/local/lib/python3.7/dist-packages (from yfinance) (0.0.10)\n",
            "Requirement already satisfied: numpy>=1.15 in /usr/local/lib/python3.7/dist-packages (from yfinance) (1.19.5)\n",
            "Requirement already satisfied: requests>=2.20 in /usr/local/lib/python3.7/dist-packages (from yfinance) (2.23.0)\n",
            "Requirement already satisfied: pytz>=2017.2 in /usr/local/lib/python3.7/dist-packages (from pandas>=0.24->yfinance) (2018.9)\n",
            "Requirement already satisfied: python-dateutil>=2.7.3 in /usr/local/lib/python3.7/dist-packages (from pandas>=0.24->yfinance) (2.8.2)\n",
            "Requirement already satisfied: six>=1.5 in /usr/local/lib/python3.7/dist-packages (from python-dateutil>=2.7.3->pandas>=0.24->yfinance) (1.15.0)\n",
            "Requirement already satisfied: chardet<4,>=3.0.2 in /usr/local/lib/python3.7/dist-packages (from requests>=2.20->yfinance) (3.0.4)\n",
            "Requirement already satisfied: idna<3,>=2.5 in /usr/local/lib/python3.7/dist-packages (from requests>=2.20->yfinance) (2.10)\n",
            "Requirement already satisfied: urllib3!=1.25.0,!=1.25.1,<1.26,>=1.21.1 in /usr/local/lib/python3.7/dist-packages (from requests>=2.20->yfinance) (1.24.3)\n",
            "Requirement already satisfied: certifi>=2017.4.17 in /usr/local/lib/python3.7/dist-packages (from requests>=2.20->yfinance) (2021.10.8)\n",
            "Installing collected packages: lxml, yfinance\n",
            "  Attempting uninstall: lxml\n",
            "    Found existing installation: lxml 4.2.6\n",
            "    Uninstalling lxml-4.2.6:\n",
            "      Successfully uninstalled lxml-4.2.6\n",
            "Successfully installed lxml-4.7.1 yfinance-0.1.67\n",
            "Collecting talos\n",
            "  Downloading talos-1.0-py3-none-any.whl (53 kB)\n",
            "\u001b[K     |████████████████████████████████| 53 kB 2.0 MB/s \n",
            "\u001b[?25hRequirement already satisfied: numpy in /usr/local/lib/python3.7/dist-packages (from talos) (1.19.5)\n",
            "Collecting wrangle\n",
            "  Downloading wrangle-0.6.9-py3-none-any.whl (51 kB)\n",
            "\u001b[K     |████████████████████████████████| 51 kB 467 kB/s \n",
            "\u001b[?25hRequirement already satisfied: tqdm in /usr/local/lib/python3.7/dist-packages (from talos) (4.62.3)\n",
            "Requirement already satisfied: requests in /usr/local/lib/python3.7/dist-packages (from talos) (2.23.0)\n",
            "Requirement already satisfied: sklearn in /usr/local/lib/python3.7/dist-packages (from talos) (0.0)\n",
            "Collecting chances\n",
            "  Downloading chances-0.1.9.tar.gz (35 kB)\n",
            "Collecting astetik\n",
            "  Downloading astetik-1.11.1-py3-none-any.whl (5.4 MB)\n",
            "\u001b[K     |████████████████████████████████| 5.4 MB 34.0 MB/s \n",
            "\u001b[?25hCollecting kerasplotlib\n",
            "  Downloading kerasplotlib-0.1.6.tar.gz (3.5 kB)\n",
            "Requirement already satisfied: tensorflow>=2.0.0 in /usr/local/lib/python3.7/dist-packages (from talos) (2.7.0)\n",
            "Collecting statsmodels>=0.11.0\n",
            "  Downloading statsmodels-0.13.1-cp37-cp37m-manylinux_2_17_x86_64.manylinux2014_x86_64.whl (9.8 MB)\n",
            "\u001b[K     |████████████████████████████████| 9.8 MB 37.3 MB/s \n",
            "\u001b[?25hRequirement already satisfied: pandas in /usr/local/lib/python3.7/dist-packages (from talos) (1.1.5)\n",
            "Requirement already satisfied: scipy>=1.3 in /usr/local/lib/python3.7/dist-packages (from statsmodels>=0.11.0->talos) (1.4.1)\n",
            "Requirement already satisfied: patsy>=0.5.2 in /usr/local/lib/python3.7/dist-packages (from statsmodels>=0.11.0->talos) (0.5.2)\n",
            "Requirement already satisfied: python-dateutil>=2.7.3 in /usr/local/lib/python3.7/dist-packages (from pandas->talos) (2.8.2)\n",
            "Requirement already satisfied: pytz>=2017.2 in /usr/local/lib/python3.7/dist-packages (from pandas->talos) (2018.9)\n",
            "Requirement already satisfied: six in /usr/local/lib/python3.7/dist-packages (from patsy>=0.5.2->statsmodels>=0.11.0->talos) (1.15.0)\n",
            "Requirement already satisfied: opt-einsum>=2.3.2 in /usr/local/lib/python3.7/dist-packages (from tensorflow>=2.0.0->talos) (3.3.0)\n",
            "Requirement already satisfied: grpcio<2.0,>=1.24.3 in /usr/local/lib/python3.7/dist-packages (from tensorflow>=2.0.0->talos) (1.42.0)\n",
            "Requirement already satisfied: libclang>=9.0.1 in /usr/local/lib/python3.7/dist-packages (from tensorflow>=2.0.0->talos) (12.0.0)\n",
            "Requirement already satisfied: tensorboard~=2.6 in /usr/local/lib/python3.7/dist-packages (from tensorflow>=2.0.0->talos) (2.7.0)\n",
            "Requirement already satisfied: keras-preprocessing>=1.1.1 in /usr/local/lib/python3.7/dist-packages (from tensorflow>=2.0.0->talos) (1.1.2)\n",
            "Requirement already satisfied: keras<2.8,>=2.7.0rc0 in /usr/local/lib/python3.7/dist-packages (from tensorflow>=2.0.0->talos) (2.7.0)\n",
            "Requirement already satisfied: protobuf>=3.9.2 in /usr/local/lib/python3.7/dist-packages (from tensorflow>=2.0.0->talos) (3.17.3)\n",
            "Requirement already satisfied: google-pasta>=0.1.1 in /usr/local/lib/python3.7/dist-packages (from tensorflow>=2.0.0->talos) (0.2.0)\n",
            "Requirement already satisfied: tensorflow-estimator<2.8,~=2.7.0rc0 in /usr/local/lib/python3.7/dist-packages (from tensorflow>=2.0.0->talos) (2.7.0)\n",
            "Requirement already satisfied: h5py>=2.9.0 in /usr/local/lib/python3.7/dist-packages (from tensorflow>=2.0.0->talos) (3.1.0)\n",
            "Requirement already satisfied: wrapt>=1.11.0 in /usr/local/lib/python3.7/dist-packages (from tensorflow>=2.0.0->talos) (1.13.3)\n",
            "Requirement already satisfied: wheel<1.0,>=0.32.0 in /usr/local/lib/python3.7/dist-packages (from tensorflow>=2.0.0->talos) (0.37.0)\n",
            "Requirement already satisfied: typing-extensions>=3.6.6 in /usr/local/lib/python3.7/dist-packages (from tensorflow>=2.0.0->talos) (3.10.0.2)\n",
            "Requirement already satisfied: flatbuffers<3.0,>=1.12 in /usr/local/lib/python3.7/dist-packages (from tensorflow>=2.0.0->talos) (2.0)\n",
            "Requirement already satisfied: termcolor>=1.1.0 in /usr/local/lib/python3.7/dist-packages (from tensorflow>=2.0.0->talos) (1.1.0)\n",
            "Requirement already satisfied: tensorflow-io-gcs-filesystem>=0.21.0 in /usr/local/lib/python3.7/dist-packages (from tensorflow>=2.0.0->talos) (0.22.0)\n",
            "Requirement already satisfied: absl-py>=0.4.0 in /usr/local/lib/python3.7/dist-packages (from tensorflow>=2.0.0->talos) (0.12.0)\n",
            "Requirement already satisfied: astunparse>=1.6.0 in /usr/local/lib/python3.7/dist-packages (from tensorflow>=2.0.0->talos) (1.6.3)\n",
            "Requirement already satisfied: gast<0.5.0,>=0.2.1 in /usr/local/lib/python3.7/dist-packages (from tensorflow>=2.0.0->talos) (0.4.0)\n",
            "Requirement already satisfied: cached-property in /usr/local/lib/python3.7/dist-packages (from h5py>=2.9.0->tensorflow>=2.0.0->talos) (1.5.2)\n",
            "Requirement already satisfied: google-auth<3,>=1.6.3 in /usr/local/lib/python3.7/dist-packages (from tensorboard~=2.6->tensorflow>=2.0.0->talos) (1.35.0)\n",
            "Requirement already satisfied: tensorboard-plugin-wit>=1.6.0 in /usr/local/lib/python3.7/dist-packages (from tensorboard~=2.6->tensorflow>=2.0.0->talos) (1.8.0)\n",
            "Requirement already satisfied: werkzeug>=0.11.15 in /usr/local/lib/python3.7/dist-packages (from tensorboard~=2.6->tensorflow>=2.0.0->talos) (1.0.1)\n",
            "Requirement already satisfied: google-auth-oauthlib<0.5,>=0.4.1 in /usr/local/lib/python3.7/dist-packages (from tensorboard~=2.6->tensorflow>=2.0.0->talos) (0.4.6)\n",
            "Requirement already satisfied: setuptools>=41.0.0 in /usr/local/lib/python3.7/dist-packages (from tensorboard~=2.6->tensorflow>=2.0.0->talos) (57.4.0)\n",
            "Requirement already satisfied: tensorboard-data-server<0.7.0,>=0.6.0 in /usr/local/lib/python3.7/dist-packages (from tensorboard~=2.6->tensorflow>=2.0.0->talos) (0.6.1)\n",
            "Requirement already satisfied: markdown>=2.6.8 in /usr/local/lib/python3.7/dist-packages (from tensorboard~=2.6->tensorflow>=2.0.0->talos) (3.3.6)\n",
            "Requirement already satisfied: cachetools<5.0,>=2.0.0 in /usr/local/lib/python3.7/dist-packages (from google-auth<3,>=1.6.3->tensorboard~=2.6->tensorflow>=2.0.0->talos) (4.2.4)\n",
            "Requirement already satisfied: rsa<5,>=3.1.4 in /usr/local/lib/python3.7/dist-packages (from google-auth<3,>=1.6.3->tensorboard~=2.6->tensorflow>=2.0.0->talos) (4.8)\n",
            "Requirement already satisfied: pyasn1-modules>=0.2.1 in /usr/local/lib/python3.7/dist-packages (from google-auth<3,>=1.6.3->tensorboard~=2.6->tensorflow>=2.0.0->talos) (0.2.8)\n",
            "Requirement already satisfied: requests-oauthlib>=0.7.0 in /usr/local/lib/python3.7/dist-packages (from google-auth-oauthlib<0.5,>=0.4.1->tensorboard~=2.6->tensorflow>=2.0.0->talos) (1.3.0)\n",
            "Requirement already satisfied: importlib-metadata>=4.4 in /usr/local/lib/python3.7/dist-packages (from markdown>=2.6.8->tensorboard~=2.6->tensorflow>=2.0.0->talos) (4.8.2)\n",
            "Requirement already satisfied: zipp>=0.5 in /usr/local/lib/python3.7/dist-packages (from importlib-metadata>=4.4->markdown>=2.6.8->tensorboard~=2.6->tensorflow>=2.0.0->talos) (3.6.0)\n",
            "Requirement already satisfied: pyasn1<0.5.0,>=0.4.6 in /usr/local/lib/python3.7/dist-packages (from pyasn1-modules>=0.2.1->google-auth<3,>=1.6.3->tensorboard~=2.6->tensorflow>=2.0.0->talos) (0.4.8)\n",
            "Requirement already satisfied: chardet<4,>=3.0.2 in /usr/local/lib/python3.7/dist-packages (from requests->talos) (3.0.4)\n",
            "Requirement already satisfied: certifi>=2017.4.17 in /usr/local/lib/python3.7/dist-packages (from requests->talos) (2021.10.8)\n",
            "Requirement already satisfied: idna<3,>=2.5 in /usr/local/lib/python3.7/dist-packages (from requests->talos) (2.10)\n",
            "Requirement already satisfied: urllib3!=1.25.0,!=1.25.1,<1.26,>=1.21.1 in /usr/local/lib/python3.7/dist-packages (from requests->talos) (1.24.3)\n",
            "Requirement already satisfied: oauthlib>=3.0.0 in /usr/local/lib/python3.7/dist-packages (from requests-oauthlib>=0.7.0->google-auth-oauthlib<0.5,>=0.4.1->tensorboard~=2.6->tensorflow>=2.0.0->talos) (3.1.1)\n",
            "Requirement already satisfied: seaborn in /usr/local/lib/python3.7/dist-packages (from astetik->talos) (0.11.2)\n",
            "Collecting geonamescache\n",
            "  Downloading geonamescache-1.3.0-py3-none-any.whl (2.6 MB)\n",
            "\u001b[K     |████████████████████████████████| 2.6 MB 36.6 MB/s \n",
            "\u001b[?25hRequirement already satisfied: IPython in /usr/local/lib/python3.7/dist-packages (from astetik->talos) (5.5.0)\n",
            "Requirement already satisfied: pygments in /usr/local/lib/python3.7/dist-packages (from IPython->astetik->talos) (2.6.1)\n",
            "Requirement already satisfied: pexpect in /usr/local/lib/python3.7/dist-packages (from IPython->astetik->talos) (4.8.0)\n",
            "Requirement already satisfied: simplegeneric>0.8 in /usr/local/lib/python3.7/dist-packages (from IPython->astetik->talos) (0.8.1)\n",
            "Requirement already satisfied: prompt-toolkit<2.0.0,>=1.0.4 in /usr/local/lib/python3.7/dist-packages (from IPython->astetik->talos) (1.0.18)\n",
            "Requirement already satisfied: pickleshare in /usr/local/lib/python3.7/dist-packages (from IPython->astetik->talos) (0.7.5)\n",
            "Requirement already satisfied: decorator in /usr/local/lib/python3.7/dist-packages (from IPython->astetik->talos) (4.4.2)\n",
            "Requirement already satisfied: traitlets>=4.2 in /usr/local/lib/python3.7/dist-packages (from IPython->astetik->talos) (5.1.1)\n",
            "Requirement already satisfied: wcwidth in /usr/local/lib/python3.7/dist-packages (from prompt-toolkit<2.0.0,>=1.0.4->IPython->astetik->talos) (0.2.5)\n",
            "Requirement already satisfied: ptyprocess>=0.5 in /usr/local/lib/python3.7/dist-packages (from pexpect->IPython->astetik->talos) (0.7.0)\n",
            "Requirement already satisfied: matplotlib>=2.2 in /usr/local/lib/python3.7/dist-packages (from seaborn->astetik->talos) (3.2.2)\n",
            "Requirement already satisfied: cycler>=0.10 in /usr/local/lib/python3.7/dist-packages (from matplotlib>=2.2->seaborn->astetik->talos) (0.11.0)\n",
            "Requirement already satisfied: pyparsing!=2.0.4,!=2.1.2,!=2.1.6,>=2.0.1 in /usr/local/lib/python3.7/dist-packages (from matplotlib>=2.2->seaborn->astetik->talos) (3.0.6)\n",
            "Requirement already satisfied: kiwisolver>=1.0.1 in /usr/local/lib/python3.7/dist-packages (from matplotlib>=2.2->seaborn->astetik->talos) (1.3.2)\n",
            "Requirement already satisfied: scikit-learn in /usr/local/lib/python3.7/dist-packages (from sklearn->talos) (1.0.1)\n",
            "Requirement already satisfied: threadpoolctl>=2.0.0 in /usr/local/lib/python3.7/dist-packages (from scikit-learn->sklearn->talos) (3.0.0)\n",
            "Requirement already satisfied: joblib>=0.11 in /usr/local/lib/python3.7/dist-packages (from scikit-learn->sklearn->talos) (1.1.0)\n",
            "Building wheels for collected packages: chances, kerasplotlib\n",
            "  Building wheel for chances (setup.py) ... \u001b[?25l\u001b[?25hdone\n",
            "  Created wheel for chances: filename=chances-0.1.9-py3-none-any.whl size=41609 sha256=6815bc06fe0579f6ca8563cd64fd816ad5855fe4f3cea32f6241e0d3f6951067\n",
            "  Stored in directory: /root/.cache/pip/wheels/f3/2e/7e/316f7da11ccf2195ff05e4a0186a4b5975be9bd0b0004198b6\n",
            "  Building wheel for kerasplotlib (setup.py) ... \u001b[?25l\u001b[?25hdone\n",
            "  Created wheel for kerasplotlib: filename=kerasplotlib-0.1.6-py3-none-any.whl size=3603 sha256=af3286a9591905843a8afd455eea3cc735cdf517893e61d5bc4f952e8de43962\n",
            "  Stored in directory: /root/.cache/pip/wheels/1c/b4/c8/d1533d85f7fc617e3201c3f41b79fe49ae9284c8fc4a5bd4b2\n",
            "Successfully built chances kerasplotlib\n",
            "Installing collected packages: statsmodels, wrangle, geonamescache, kerasplotlib, chances, astetik, talos\n",
            "  Attempting uninstall: statsmodels\n",
            "    Found existing installation: statsmodels 0.10.2\n",
            "    Uninstalling statsmodels-0.10.2:\n",
            "      Successfully uninstalled statsmodels-0.10.2\n",
            "Successfully installed astetik-1.11.1 chances-0.1.9 geonamescache-1.3.0 kerasplotlib-0.1.6 statsmodels-0.13.1 talos-1.0 wrangle-0.6.9\n",
            "Collecting ipython-autotime\n",
            "  Downloading ipython_autotime-0.3.1-py2.py3-none-any.whl (6.8 kB)\n",
            "Requirement already satisfied: ipython in /usr/local/lib/python3.7/dist-packages (from ipython-autotime) (5.5.0)\n",
            "Requirement already satisfied: decorator in /usr/local/lib/python3.7/dist-packages (from ipython->ipython-autotime) (4.4.2)\n",
            "Requirement already satisfied: prompt-toolkit<2.0.0,>=1.0.4 in /usr/local/lib/python3.7/dist-packages (from ipython->ipython-autotime) (1.0.18)\n",
            "Requirement already satisfied: pickleshare in /usr/local/lib/python3.7/dist-packages (from ipython->ipython-autotime) (0.7.5)\n",
            "Requirement already satisfied: traitlets>=4.2 in /usr/local/lib/python3.7/dist-packages (from ipython->ipython-autotime) (5.1.1)\n",
            "Requirement already satisfied: pygments in /usr/local/lib/python3.7/dist-packages (from ipython->ipython-autotime) (2.6.1)\n",
            "Requirement already satisfied: setuptools>=18.5 in /usr/local/lib/python3.7/dist-packages (from ipython->ipython-autotime) (57.4.0)\n",
            "Requirement already satisfied: simplegeneric>0.8 in /usr/local/lib/python3.7/dist-packages (from ipython->ipython-autotime) (0.8.1)\n",
            "Requirement already satisfied: pexpect in /usr/local/lib/python3.7/dist-packages (from ipython->ipython-autotime) (4.8.0)\n",
            "Requirement already satisfied: six>=1.9.0 in /usr/local/lib/python3.7/dist-packages (from prompt-toolkit<2.0.0,>=1.0.4->ipython->ipython-autotime) (1.15.0)\n",
            "Requirement already satisfied: wcwidth in /usr/local/lib/python3.7/dist-packages (from prompt-toolkit<2.0.0,>=1.0.4->ipython->ipython-autotime) (0.2.5)\n",
            "Requirement already satisfied: ptyprocess>=0.5 in /usr/local/lib/python3.7/dist-packages (from pexpect->ipython->ipython-autotime) (0.7.0)\n",
            "Installing collected packages: ipython-autotime\n",
            "Successfully installed ipython-autotime-0.3.1\n",
            "time: 3.15 ms (started: 2021-12-14 14:51:36 +00:00)\n"
          ]
        }
      ]
    },
    {
      "cell_type": "markdown",
      "metadata": {
        "id": "46BiLVAzNqwB"
      },
      "source": [
        "Import required libraries"
      ]
    },
    {
      "cell_type": "code",
      "metadata": {
        "id": "f4emtFlcRCta",
        "colab": {
          "base_uri": "https://localhost:8080/"
        },
        "outputId": "5ceea13d-88a9-4d99-c2b8-83001768eb30"
      },
      "source": [
        "import os\n",
        "import time\n",
        "import datetime\n",
        "import logging\n",
        "import talos\n",
        "\n",
        "import requests as rq\n",
        "import pandas as pd\n",
        "import numpy as np\n",
        "import threading as thr\n",
        "import yfinance as yf\n",
        "import matplotlib.pyplot as plt\n",
        "\n",
        "from bokeh.layouts import row\n",
        "from bokeh.plotting import figure\n",
        "from bokeh.io import show, output_notebook\n",
        "from bs4 import BeautifulSoup\n",
        "from IPython.display import clear_output \n",
        "from IPython.core.display import display, HTML\n",
        "from sklearn.preprocessing import MinMaxScaler\n",
        "from keras.models import Sequential\n",
        "from keras.layers import Dense\n",
        "from keras.layers import LSTM\n",
        "from keras.layers import Dropout"
      ],
      "execution_count": 2,
      "outputs": [
        {
          "output_type": "stream",
          "name": "stdout",
          "text": [
            "time: 4.29 s (started: 2021-12-14 14:51:37 +00:00)\n"
          ]
        }
      ]
    },
    {
      "cell_type": "markdown",
      "metadata": {
        "id": "jEaq1OSLN-iq"
      },
      "source": [
        "Define constants"
      ]
    },
    {
      "cell_type": "code",
      "metadata": {
        "colab": {
          "base_uri": "https://localhost:8080/"
        },
        "id": "kiNr_uFP5-el",
        "outputId": "3910fe6a-bb0d-4c22-f02e-039f1e6c71ff"
      },
      "source": [
        "# Constants and Run Parameters\n",
        "NEWS_DAYS_LIMIT = 7\n",
        "STOCK_TICKER_FOR_PREDICTION='KO'\n",
        "TRAIN_SAMPLE_SET_SIZE=0.8\n",
        "STOCK_PRICE_HISTORY_PERIOD_SIZE='5y'\n",
        "WINDOW_SIZE=60\n",
        "AHEAD=1\n",
        "LSTM_LAYER_UNIT_SIZE=50\n",
        "DROPOUT_REGULARISATION_SIZE=0.2"
      ],
      "execution_count": 3,
      "outputs": [
        {
          "output_type": "stream",
          "name": "stdout",
          "text": [
            "time: 4.32 ms (started: 2021-12-14 14:51:41 +00:00)\n"
          ]
        }
      ]
    },
    {
      "cell_type": "markdown",
      "metadata": {
        "id": "_lUenpkxTKpk"
      },
      "source": [
        "# Website Scraping"
      ]
    },
    {
      "cell_type": "markdown",
      "metadata": {
        "id": "SSAeB7HZVbk_"
      },
      "source": [
        "Now we are setting parameter for displaying News, where we want 7 days news which will not contain today's date. Also, logging/saving article in log file and using method which will check whether all elements are True, potentially over an axis."
      ]
    },
    {
      "cell_type": "code",
      "metadata": {
        "id": "VvsnnmPhRk5f",
        "colab": {
          "base_uri": "https://localhost:8080/"
        },
        "outputId": "b97b7e32-167b-4466-8d82-fb521d95d8dc"
      },
      "source": [
        "lock = thr.Lock()\n",
        "date_threshold = datetime.datetime.now() - datetime.timedelta(NEWS_DAYS_LIMIT)\n",
        "logging.basicConfig(filename=\"StockIt.log\")\n",
        "all_articles = pd.DataFrame()\n",
        "stop_flag = False"
      ],
      "execution_count": 4,
      "outputs": [
        {
          "output_type": "stream",
          "name": "stdout",
          "text": [
            "time: 5.4 ms (started: 2021-12-14 14:51:41 +00:00)\n"
          ]
        }
      ]
    },
    {
      "cell_type": "markdown",
      "metadata": {
        "id": "A6twCeFaWTrU"
      },
      "source": [
        "Functions used to scrape the articles from the PR News Site"
      ]
    },
    {
      "cell_type": "code",
      "metadata": {
        "id": "n-0n1RrdRztn",
        "colab": {
          "base_uri": "https://localhost:8080/"
        },
        "outputId": "14fb1c19-c704-4e4d-ffdb-6b84ddfeefa7"
      },
      "source": [
        "'''\n",
        "Function to save the data retrieved into a CSV file\n",
        "'''\n",
        "def store_data():\n",
        "    try:\n",
        "        global all_articles\n",
        "        all_articles['time'] = all_articles[\"time\"].dt.strftime(\"%b %d %Y %H:%M:%S\")\n",
        "        all_articles.to_csv(\"articles.csv\", index=False)\n",
        "    except Exception:\n",
        "        logging.exception(\"Exception store_data\\n\", exc_info=True)\n",
        "\n",
        "\n",
        "'''\n",
        "Function to parse the web page for relevant news information\n",
        "'''\n",
        "def parse_page(page_html,organisation):\n",
        "    try:\n",
        "        global all_articles, stop_flag, lock, date_threshold\n",
        "        soup_parser = BeautifulSoup(page_html, features=\"html.parser\")\n",
        "        news_articles = soup_parser.findAll('a', class_='newsreleaseconsolidatelink')\n",
        "        page_articles = []\n",
        "        for article in news_articles:\n",
        "            try:\n",
        "                article_data = {\"link\": article['href'], \"header\": \"\", \"time\": None, \"thumbnail\": \"\", \"summary\": \"\",\"org\":organisation}\n",
        "                try:\n",
        "                    date_tag = article.select(\"h3 > small\")[0].text\n",
        "                    article_data[\"time\"] = datetime.datetime.strptime(date_tag, \"%b %d, %Y, %H:%M ET\")\n",
        "                except Exception:\n",
        "                    today = datetime.datetime.today()\n",
        "                    article_data[\"time\"] = datetime.datetime.strptime(date_tag, \"%H:%M ET\")\n",
        "                    article_data[\"time\"] = article_data[\"time\"].replace(year=today.year, month=today.month,\n",
        "                                                                        day=today.day)\n",
        "                if article_data[\"time\"] < date_threshold:\n",
        "                    stop_flag = True\n",
        "                    break\n",
        "                articles_images = article.findAll(\"img\")\n",
        "                if len(articles_images) > 0:\n",
        "                    article_data[\"thumbnail\"] = article.findAll(\"img\")[0]['src']\n",
        "                article_data[\"header\"] = str(article.select(\"h3\")[0].text).split(\"\\n\")[2]\n",
        "                article.small.decompose()\n",
        "                article_data[\"summary\"] = article.select(\"p\")[0].text\n",
        "                page_articles.append(article_data)\n",
        "            except Exception:\n",
        "                logging.exception(\"Exception article read!\\n\", exc_info=True)\n",
        "        with lock:\n",
        "            all_articles = all_articles.append(pd.DataFrame(page_articles))\n",
        "            last_read = all_articles['time'].min()\n",
        "            clear_output()\n",
        "            print(\"Earliest News: {}\\nNumber of articles scrapped: {}\".format(last_read, len(all_articles)))\n",
        "    except Exception:\n",
        "        logging.exception(\"Exception parse_page\", exc_info=True)\n",
        "\n",
        "\n",
        "'''\n",
        "Function to iterate through different pages to get news articles\n",
        "'''\n",
        "def collect_articles(page_no_,url_,organisation=None):\n",
        "    try:\n",
        "        attempts = 0\n",
        "        while attempts < 5:\n",
        "            try:\n",
        "                temp = url_\n",
        "                if page_no_ > 0:\n",
        "                    temp = url_.format(page_no_)\n",
        "                logging.info(temp)\n",
        "                result = rq.get(temp)\n",
        "                if result.status_code == 200:\n",
        "                    parse_page(result.text,organisation)\n",
        "                    break\n",
        "                else:\n",
        "                    logging.info(\"For page number {}, response received: {}\\n\".format(page_no_, str(result)))\n",
        "            except Exception:\n",
        "                logging.exception(\"Exception collect_articles\\n\", exc_info=True)\n",
        "                attempts += 1\n",
        "        if attempts > 5:\n",
        "            logging.error(\"Could not read page number: {}\".format(page_no_))\n",
        "    except Exception:\n",
        "        logging.exception(\"Exception collect_articles\", exc_info=True)"
      ],
      "execution_count": 5,
      "outputs": [
        {
          "output_type": "stream",
          "name": "stdout",
          "text": [
            "time: 62.1 ms (started: 2021-12-14 14:51:41 +00:00)\n"
          ]
        }
      ]
    },
    {
      "cell_type": "markdown",
      "metadata": {
        "id": "y-5toflthQyF"
      },
      "source": [
        "Threaded call to scrape the website"
      ]
    },
    {
      "cell_type": "code",
      "metadata": {
        "id": "z6JJ-dBJR0PF",
        "colab": {
          "base_uri": "https://localhost:8080/"
        },
        "outputId": "d743a6c3-c749-4934-a182-f4feeeea2608"
      },
      "source": [
        "try:\n",
        "    page_no = 1\n",
        "    while not stop_flag:\n",
        "        thread = thr.Thread(target=collect_articles, args=(page_no,\"https://www.prnewswire.com/news-releases/news-releases-list/?page={}&pagesize=100\"))\n",
        "        while thr.active_count() > 20:\n",
        "            time.sleep(10)\n",
        "        page_no += 1\n",
        "        thread.start()\n",
        "    wep = 0\n",
        "    while thr.active_count() != 1:\n",
        "        wep += 1\n",
        "        if wep >= 10:\n",
        "            break\n",
        "        time.sleep(10)\n",
        "    store_data()\n",
        "except KeyboardInterrupt:\n",
        "    store_data()\n",
        "except Exception as e:\n",
        "    print(e)\n",
        "    logging.exception(\"main exception!\", exc_info=True)"
      ],
      "execution_count": 6,
      "outputs": [
        {
          "output_type": "stream",
          "name": "stdout",
          "text": [
            "Earliest News: 2021-12-07 14:56:00\n",
            "Number of articles scrapped: 5258\n",
            "time: 2min 20s (started: 2021-12-14 14:51:41 +00:00)\n"
          ]
        }
      ]
    },
    {
      "cell_type": "markdown",
      "source": [
        "! Important note: this cell requires user input and will not complete until provided"
      ],
      "metadata": {
        "id": "knIniHiodmBX"
      }
    },
    {
      "cell_type": "code",
      "metadata": {
        "id": "xE5Rtq8hZAPL",
        "colab": {
          "base_uri": "https://localhost:8080/",
          "height": 527
        },
        "outputId": "7f8db308-aef1-4944-844b-bed39d0a1061"
      },
      "source": [
        "try:\n",
        "    article_start = 0\n",
        "    while True:\n",
        "        clear_output()\n",
        "        articles_html = \"\"\"\"\"\"\n",
        "        for index, na in all_articles.iloc[article_start: article_start+5].iterrows():\n",
        "            art = \"\"\"<a style=\"text-decoration:none;\" href=\"{}\"\n",
        "        <h4><img width=\"50px\" src=\"{}\"> {}</h4>\n",
        "        <p>{}</p>\n",
        "        </a>\n",
        "        <hr>\n",
        "        <br>\n",
        "        \"\"\".format(na['link'],na['thumbnail'],na['header'],na['summary'])\n",
        "    #print(art)\n",
        "            articles_html = articles_html + art\n",
        "# print(articles_html)\n",
        "        display(HTML(articles_html))\n",
        "        user_input= input(\"Read more? y/n\")\n",
        "        if user_input != \"y\":\n",
        "            break\n",
        "        article_start +=5\n",
        "        if (article_start + 5) > len(all_articles):\n",
        "            break\n",
        "except KeyboardInterrupt:\n",
        "    print(\"Done Viewing\")\n",
        "except Exception as e:\n",
        "    print(e)\n",
        "    logging.exception(\"Exception News view\", exc_info=True)"
      ],
      "execution_count": 7,
      "outputs": [
        {
          "output_type": "display_data",
          "data": {
            "text/html": [
              "<a style=\"text-decoration:none;\" href=\"/news-releases/american-urological-association-names-new-assistant-secretary-301444190.html\"\n",
              "        <h4><img width=\"50px\" src=\"https://mma.prnewswire.com/media/1708707/American_Urological_Association_Gutierrez_Aceves.jpg?p=thumbnail\"> American Urological Association Names New Assistant Secretary</h4>\n",
              "        <p>The American Urological Association (AUA) is pleased to announce Jorge Gutiérrez-Aceves, MD has been named by the Board of Directors as AUA Assistant ...</p>\n",
              "        </a>\n",
              "        <hr>\n",
              "        <br>\n",
              "        <a style=\"text-decoration:none;\" href=\"/news-releases/forsta-announces-2021-air-award-winners-recognizing-achievement-in-insight-and-research-301444319.html\"\n",
              "        <h4><img width=\"50px\" src=\"https://mma.prnewswire.com/media/1709435/Forsta_Air.jpg?p=thumbnail\"> Forsta Announces 2021 AIR Award Winners, Recognizing Achievement in Insight and Research</h4>\n",
              "        <p>Forsta, the leading Customer Experience and Research Technology company, is announcing the winners in its fourth annual Achievement in Insight and...</p>\n",
              "        </a>\n",
              "        <hr>\n",
              "        <br>\n",
              "        <a style=\"text-decoration:none;\" href=\"/news-releases/menarini-silicon-biosystems-announces-study-results-presented-at-american-society-of-hematology-ash-annual-meeting-highlighting-cellsearch-cmmc-assay-a-non-invasive-liquid-biopsy-for-the-quantification-and-molecular-characteri-301444321.html\"\n",
              "        <h4><img width=\"50px\" src=\"https://mma.prnewswire.com/media/1362208/Menarini_Logo.jpg?p=thumbnail\"> Menarini Silicon Biosystems Announces Study Results Presented at American Society of Hematology (ASH) Annual Meeting Highlighting CELLSEARCH® CMMC assay, a Non-Invasive Liquid Biopsy for the Quantification and Molecular Characterization of Circulating Multiple Myeloma Cells</h4>\n",
              "        <p>Menarini Silicon Biosystems (MSB), a pioneer of liquid biopsy and single cell technologies today announced that Dana-Farber Cancer Institute and the...</p>\n",
              "        </a>\n",
              "        <hr>\n",
              "        <br>\n",
              "        <a style=\"text-decoration:none;\" href=\"/news-releases/leadership-advisory-firm-ghsmart-announces-first-ever-chief-marketing-officer-and-2021-leadership-promotions-301444317.html\"\n",
              "        <h4><img width=\"50px\" src=\"https://mma.prnewswire.com/media/1420037/ghSMART_Logo.jpg?p=thumbnail\"> Leadership advisory firm ghSMART announces first-ever Chief Marketing Officer and 2021 leadership promotions</h4>\n",
              "        <p>G.H. Smart & Company, LLC announced today that it has hired and promoted several colleagues into leadership positions. Each of these A Players has an ...</p>\n",
              "        </a>\n",
              "        <hr>\n",
              "        <br>\n",
              "        <a style=\"text-decoration:none;\" href=\"/news-releases/gaming-innovation-group-signs-platform-agreement-with-retail-player-rank-entertainment-holdings-301444316.html\"\n",
              "        <h4><img width=\"50px\" src=\"\"> Gaming Innovation Group signs platform agreement with retail player Rank Entertainment Holdings</h4>\n",
              "        <p>Gaming Innovation Group Inc. (GiG) has today signed a long-term agreement with Rank Entertainment Holdings, for the provision of GiG's iGaming...</p>\n",
              "        </a>\n",
              "        <hr>\n",
              "        <br>\n",
              "        "
            ],
            "text/plain": [
              "<IPython.core.display.HTML object>"
            ]
          },
          "metadata": {}
        },
        {
          "output_type": "stream",
          "name": "stdout",
          "text": [
            "Read more? y/nn\n",
            "time: 6min 6s (started: 2021-12-14 14:54:01 +00:00)\n"
          ]
        }
      ]
    },
    {
      "cell_type": "code",
      "metadata": {
        "id": "QlkXkmjLqJ1N",
        "colab": {
          "base_uri": "https://localhost:8080/"
        },
        "outputId": "fa427b5b-5f96-4c38-a150-ea78136bde2f"
      },
      "source": [
        "date_threshold = datetime.datetime.today() - datetime.timedelta(days=90)\n",
        "pepsi_articles = []\n",
        "print(len(all_articles))\n",
        "try:\n",
        "    pepsi_news = rq.get(\"https://www.prnewswire.com/news/pepsico%2C-inc./?page=1&pagesize=100\")\n",
        "    if pepsi_news.status_code == 200:\n",
        "        parse_page(pepsi_news.text,\"Pepsi\")\n",
        "    print(len(all_articles))\n",
        "    coca_news = rq.get(\"https://www.prnewswire.com/search/news/?keyword=Coca%20Cola\")\n",
        "    if pepsi_news.status_code == 200:\n",
        "        parse_page(pepsi_news.text,\"Coca cola\")\n",
        "    print(len(all_articles))\n",
        "except Exception as e:\n",
        "    print(e)\n",
        "    logging.exception(\"pepsi collection\", exc_info=True)\n",
        "finally:\n",
        "    store_data()\n",
        "    #"
      ],
      "execution_count": 8,
      "outputs": [
        {
          "output_type": "stream",
          "name": "stdout",
          "text": [
            "5258\n",
            "5269\n",
            "5280\n",
            "time: 3.95 s (started: 2021-12-14 15:00:08 +00:00)\n"
          ]
        }
      ]
    },
    {
      "cell_type": "markdown",
      "source": [
        "! Important note: this cell requires user input and will not complete until provided"
      ],
      "metadata": {
        "id": "m4EGQRuWddb_"
      }
    },
    {
      "cell_type": "code",
      "metadata": {
        "id": "-0QpeZLR2U76",
        "colab": {
          "base_uri": "https://localhost:8080/",
          "height": 601
        },
        "outputId": "485b759c-8f33-4c83-81fb-373b4a9dadbd"
      },
      "source": [
        "try:\n",
        "    article_start = 0\n",
        "    pc_news_articles = all_articles[all_articles['org']!=None]\n",
        "    while True:\n",
        "        clear_output()\n",
        "        pc_articles_html = \"\"\"\"\"\"\n",
        "        for index, na in pc_news_articles.iloc[article_start:article_start+5].iterrows():\n",
        "            art = \"\"\"<a style=\"text-decoration:none;\" href=\"{}\"\n",
        "        <h4><img width=\"50px\" src=\"{}\"> {}</h4>\n",
        "        <p>{}</p>\n",
        "        </a>\n",
        "        <hr>\n",
        "        <br>\n",
        "        \"\"\".format(na['link'],na['thumbnail'],na['header'],na['summary'])\n",
        "    #print(art)\n",
        "            pc_articles_html = articles_html + art\n",
        "# print(articles_html)\n",
        "        display(HTML(pc_articles_html))\n",
        "        user_input= input(\"Read more? y/n\")\n",
        "        if user_input != \"y\":\n",
        "            break\n",
        "        article_start +=5\n",
        "        if (article_start + 5) > len(all_articles):\n",
        "            break\n",
        "except KeyboardInterrupt:\n",
        "    print(\"Done Viewing\")\n",
        "except Exception as e:\n",
        "    print(e)\n",
        "    logging.exception(\"Exception News view\", exc_info=True)"
      ],
      "execution_count": 9,
      "outputs": [
        {
          "output_type": "display_data",
          "data": {
            "text/html": [
              "<a style=\"text-decoration:none;\" href=\"/news-releases/american-urological-association-names-new-assistant-secretary-301444190.html\"\n",
              "        <h4><img width=\"50px\" src=\"https://mma.prnewswire.com/media/1708707/American_Urological_Association_Gutierrez_Aceves.jpg?p=thumbnail\"> American Urological Association Names New Assistant Secretary</h4>\n",
              "        <p>The American Urological Association (AUA) is pleased to announce Jorge Gutiérrez-Aceves, MD has been named by the Board of Directors as AUA Assistant ...</p>\n",
              "        </a>\n",
              "        <hr>\n",
              "        <br>\n",
              "        <a style=\"text-decoration:none;\" href=\"/news-releases/forsta-announces-2021-air-award-winners-recognizing-achievement-in-insight-and-research-301444319.html\"\n",
              "        <h4><img width=\"50px\" src=\"https://mma.prnewswire.com/media/1709435/Forsta_Air.jpg?p=thumbnail\"> Forsta Announces 2021 AIR Award Winners, Recognizing Achievement in Insight and Research</h4>\n",
              "        <p>Forsta, the leading Customer Experience and Research Technology company, is announcing the winners in its fourth annual Achievement in Insight and...</p>\n",
              "        </a>\n",
              "        <hr>\n",
              "        <br>\n",
              "        <a style=\"text-decoration:none;\" href=\"/news-releases/menarini-silicon-biosystems-announces-study-results-presented-at-american-society-of-hematology-ash-annual-meeting-highlighting-cellsearch-cmmc-assay-a-non-invasive-liquid-biopsy-for-the-quantification-and-molecular-characteri-301444321.html\"\n",
              "        <h4><img width=\"50px\" src=\"https://mma.prnewswire.com/media/1362208/Menarini_Logo.jpg?p=thumbnail\"> Menarini Silicon Biosystems Announces Study Results Presented at American Society of Hematology (ASH) Annual Meeting Highlighting CELLSEARCH® CMMC assay, a Non-Invasive Liquid Biopsy for the Quantification and Molecular Characterization of Circulating Multiple Myeloma Cells</h4>\n",
              "        <p>Menarini Silicon Biosystems (MSB), a pioneer of liquid biopsy and single cell technologies today announced that Dana-Farber Cancer Institute and the...</p>\n",
              "        </a>\n",
              "        <hr>\n",
              "        <br>\n",
              "        <a style=\"text-decoration:none;\" href=\"/news-releases/leadership-advisory-firm-ghsmart-announces-first-ever-chief-marketing-officer-and-2021-leadership-promotions-301444317.html\"\n",
              "        <h4><img width=\"50px\" src=\"https://mma.prnewswire.com/media/1420037/ghSMART_Logo.jpg?p=thumbnail\"> Leadership advisory firm ghSMART announces first-ever Chief Marketing Officer and 2021 leadership promotions</h4>\n",
              "        <p>G.H. Smart & Company, LLC announced today that it has hired and promoted several colleagues into leadership positions. Each of these A Players has an ...</p>\n",
              "        </a>\n",
              "        <hr>\n",
              "        <br>\n",
              "        <a style=\"text-decoration:none;\" href=\"/news-releases/gaming-innovation-group-signs-platform-agreement-with-retail-player-rank-entertainment-holdings-301444316.html\"\n",
              "        <h4><img width=\"50px\" src=\"\"> Gaming Innovation Group signs platform agreement with retail player Rank Entertainment Holdings</h4>\n",
              "        <p>Gaming Innovation Group Inc. (GiG) has today signed a long-term agreement with Rank Entertainment Holdings, for the provision of GiG's iGaming...</p>\n",
              "        </a>\n",
              "        <hr>\n",
              "        <br>\n",
              "        <a style=\"text-decoration:none;\" href=\"/news-releases/gaming-innovation-group-signs-platform-agreement-with-retail-player-rank-entertainment-holdings-301444316.html\"\n",
              "        <h4><img width=\"50px\" src=\"\"> Gaming Innovation Group signs platform agreement with retail player Rank Entertainment Holdings</h4>\n",
              "        <p>Gaming Innovation Group Inc. (GiG) has today signed a long-term agreement with Rank Entertainment Holdings, for the provision of GiG's iGaming...</p>\n",
              "        </a>\n",
              "        <hr>\n",
              "        <br>\n",
              "        "
            ],
            "text/plain": [
              "<IPython.core.display.HTML object>"
            ]
          },
          "metadata": {}
        },
        {
          "output_type": "stream",
          "name": "stdout",
          "text": [
            "Read more? y/nn\n",
            "time: 2.64 s (started: 2021-12-14 15:00:12 +00:00)\n"
          ]
        }
      ]
    },
    {
      "cell_type": "markdown",
      "metadata": {
        "id": "fQjDBKABOwA0"
      },
      "source": [
        "# Stock Price Analysis and Comparison"
      ]
    },
    {
      "cell_type": "markdown",
      "metadata": {
        "id": "OyBFwwCXYUkQ"
      },
      "source": [
        "Now, we mention Pepsi (ticker symbol: PEP) and further retrieve 6 months data, in which we display top 10 data."
      ]
    },
    {
      "cell_type": "code",
      "metadata": {
        "id": "NTCywuGqSUnM",
        "colab": {
          "base_uri": "https://localhost:8080/",
          "height": 413
        },
        "outputId": "10b9c0dd-dbb9-4d7a-a4d1-197d4e0ec0f4"
      },
      "source": [
        "pepsi = yf.Ticker(\"PEP\")\n",
        "pepsi_hist = pepsi.history(period=\"6mo\")\n",
        "pepsi_hist.head(10)"
      ],
      "execution_count": 10,
      "outputs": [
        {
          "output_type": "execute_result",
          "data": {
            "text/html": [
              "<div>\n",
              "<style scoped>\n",
              "    .dataframe tbody tr th:only-of-type {\n",
              "        vertical-align: middle;\n",
              "    }\n",
              "\n",
              "    .dataframe tbody tr th {\n",
              "        vertical-align: top;\n",
              "    }\n",
              "\n",
              "    .dataframe thead th {\n",
              "        text-align: right;\n",
              "    }\n",
              "</style>\n",
              "<table border=\"1\" class=\"dataframe\">\n",
              "  <thead>\n",
              "    <tr style=\"text-align: right;\">\n",
              "      <th></th>\n",
              "      <th>Open</th>\n",
              "      <th>High</th>\n",
              "      <th>Low</th>\n",
              "      <th>Close</th>\n",
              "      <th>Volume</th>\n",
              "      <th>Dividends</th>\n",
              "      <th>Stock Splits</th>\n",
              "    </tr>\n",
              "    <tr>\n",
              "      <th>Date</th>\n",
              "      <th></th>\n",
              "      <th></th>\n",
              "      <th></th>\n",
              "      <th></th>\n",
              "      <th></th>\n",
              "      <th></th>\n",
              "      <th></th>\n",
              "    </tr>\n",
              "  </thead>\n",
              "  <tbody>\n",
              "    <tr>\n",
              "      <th>2021-06-14</th>\n",
              "      <td>145.482992</td>\n",
              "      <td>146.627365</td>\n",
              "      <td>144.812146</td>\n",
              "      <td>146.568176</td>\n",
              "      <td>3831900</td>\n",
              "      <td>0.0</td>\n",
              "      <td>0</td>\n",
              "    </tr>\n",
              "    <tr>\n",
              "      <th>2021-06-15</th>\n",
              "      <td>146.893714</td>\n",
              "      <td>147.160080</td>\n",
              "      <td>146.074911</td>\n",
              "      <td>146.578033</td>\n",
              "      <td>4256500</td>\n",
              "      <td>0.0</td>\n",
              "      <td>0</td>\n",
              "    </tr>\n",
              "    <tr>\n",
              "      <th>2021-06-16</th>\n",
              "      <td>146.854261</td>\n",
              "      <td>147.258741</td>\n",
              "      <td>144.772691</td>\n",
              "      <td>145.117981</td>\n",
              "      <td>5492100</td>\n",
              "      <td>0.0</td>\n",
              "      <td>0</td>\n",
              "    </tr>\n",
              "    <tr>\n",
              "      <th>2021-06-17</th>\n",
              "      <td>145.265952</td>\n",
              "      <td>146.992373</td>\n",
              "      <td>144.930537</td>\n",
              "      <td>146.518845</td>\n",
              "      <td>5316400</td>\n",
              "      <td>0.0</td>\n",
              "      <td>0</td>\n",
              "    </tr>\n",
              "    <tr>\n",
              "      <th>2021-06-18</th>\n",
              "      <td>145.986106</td>\n",
              "      <td>145.986106</td>\n",
              "      <td>143.273159</td>\n",
              "      <td>143.460602</td>\n",
              "      <td>10661700</td>\n",
              "      <td>0.0</td>\n",
              "      <td>0</td>\n",
              "    </tr>\n",
              "    <tr>\n",
              "      <th>2021-06-21</th>\n",
              "      <td>143.786152</td>\n",
              "      <td>144.762818</td>\n",
              "      <td>143.490191</td>\n",
              "      <td>144.585236</td>\n",
              "      <td>4904300</td>\n",
              "      <td>0.0</td>\n",
              "      <td>0</td>\n",
              "    </tr>\n",
              "    <tr>\n",
              "      <th>2021-06-22</th>\n",
              "      <td>144.752947</td>\n",
              "      <td>145.512576</td>\n",
              "      <td>144.318873</td>\n",
              "      <td>144.802277</td>\n",
              "      <td>3518000</td>\n",
              "      <td>0.0</td>\n",
              "      <td>0</td>\n",
              "    </tr>\n",
              "    <tr>\n",
              "      <th>2021-06-23</th>\n",
              "      <td>144.091973</td>\n",
              "      <td>144.161037</td>\n",
              "      <td>142.878550</td>\n",
              "      <td>142.898285</td>\n",
              "      <td>3901700</td>\n",
              "      <td>0.0</td>\n",
              "      <td>0</td>\n",
              "    </tr>\n",
              "    <tr>\n",
              "      <th>2021-06-24</th>\n",
              "      <td>142.908161</td>\n",
              "      <td>143.973611</td>\n",
              "      <td>142.661530</td>\n",
              "      <td>143.707245</td>\n",
              "      <td>3818900</td>\n",
              "      <td>0.0</td>\n",
              "      <td>0</td>\n",
              "    </tr>\n",
              "    <tr>\n",
              "      <th>2021-06-25</th>\n",
              "      <td>143.796020</td>\n",
              "      <td>144.812141</td>\n",
              "      <td>143.283038</td>\n",
              "      <td>144.437271</td>\n",
              "      <td>6387600</td>\n",
              "      <td>0.0</td>\n",
              "      <td>0</td>\n",
              "    </tr>\n",
              "  </tbody>\n",
              "</table>\n",
              "</div>"
            ],
            "text/plain": [
              "                  Open        High  ...  Dividends  Stock Splits\n",
              "Date                                ...                         \n",
              "2021-06-14  145.482992  146.627365  ...        0.0             0\n",
              "2021-06-15  146.893714  147.160080  ...        0.0             0\n",
              "2021-06-16  146.854261  147.258741  ...        0.0             0\n",
              "2021-06-17  145.265952  146.992373  ...        0.0             0\n",
              "2021-06-18  145.986106  145.986106  ...        0.0             0\n",
              "2021-06-21  143.786152  144.762818  ...        0.0             0\n",
              "2021-06-22  144.752947  145.512576  ...        0.0             0\n",
              "2021-06-23  144.091973  144.161037  ...        0.0             0\n",
              "2021-06-24  142.908161  143.973611  ...        0.0             0\n",
              "2021-06-25  143.796020  144.812141  ...        0.0             0\n",
              "\n",
              "[10 rows x 7 columns]"
            ]
          },
          "metadata": {},
          "execution_count": 10
        },
        {
          "output_type": "stream",
          "name": "stdout",
          "text": [
            "time: 243 ms (started: 2021-12-14 15:00:15 +00:00)\n"
          ]
        }
      ]
    },
    {
      "cell_type": "markdown",
      "source": [
        "Save Pepsi price data to CSV file"
      ],
      "metadata": {
        "id": "XdM7TCH0aYtF"
      }
    },
    {
      "cell_type": "code",
      "source": [
        "pepsi_hist.to_csv(\"pepsi.csv\")"
      ],
      "metadata": {
        "colab": {
          "base_uri": "https://localhost:8080/"
        },
        "id": "RsRfcxY6aS3q",
        "outputId": "2bffe662-3874-482b-ac6b-81407631d78e"
      },
      "execution_count": 11,
      "outputs": [
        {
          "output_type": "stream",
          "name": "stdout",
          "text": [
            "time: 8.06 ms (started: 2021-12-14 15:00:15 +00:00)\n"
          ]
        }
      ]
    },
    {
      "cell_type": "markdown",
      "metadata": {
        "id": "16eevb6GYpMU"
      },
      "source": [
        "Same we will do for Cocacola (ticker symbol: KO), by which we can see Cocacola top 10 data. We can see, data consists of, Date, opening price of stock, closing price and High and low price(maximum and minimum), total voulme , dividends and splits of Stock.volume"
      ]
    },
    {
      "cell_type": "code",
      "metadata": {
        "id": "syG8Lnb0VGa3",
        "colab": {
          "base_uri": "https://localhost:8080/",
          "height": 413
        },
        "outputId": "eeed9707-6c77-47f8-cd69-136540c4272d"
      },
      "source": [
        "coca = yf.Ticker(\"KO\")\n",
        "coca_hist = coca.history(period=\"6mo\")\n",
        "coca_hist.head(10)"
      ],
      "execution_count": 12,
      "outputs": [
        {
          "output_type": "execute_result",
          "data": {
            "text/html": [
              "<div>\n",
              "<style scoped>\n",
              "    .dataframe tbody tr th:only-of-type {\n",
              "        vertical-align: middle;\n",
              "    }\n",
              "\n",
              "    .dataframe tbody tr th {\n",
              "        vertical-align: top;\n",
              "    }\n",
              "\n",
              "    .dataframe thead th {\n",
              "        text-align: right;\n",
              "    }\n",
              "</style>\n",
              "<table border=\"1\" class=\"dataframe\">\n",
              "  <thead>\n",
              "    <tr style=\"text-align: right;\">\n",
              "      <th></th>\n",
              "      <th>Open</th>\n",
              "      <th>High</th>\n",
              "      <th>Low</th>\n",
              "      <th>Close</th>\n",
              "      <th>Volume</th>\n",
              "      <th>Dividends</th>\n",
              "      <th>Stock Splits</th>\n",
              "    </tr>\n",
              "    <tr>\n",
              "      <th>Date</th>\n",
              "      <th></th>\n",
              "      <th></th>\n",
              "      <th></th>\n",
              "      <th></th>\n",
              "      <th></th>\n",
              "      <th></th>\n",
              "      <th></th>\n",
              "    </tr>\n",
              "  </thead>\n",
              "  <tbody>\n",
              "    <tr>\n",
              "      <th>2021-06-14</th>\n",
              "      <td>54.847514</td>\n",
              "      <td>54.867212</td>\n",
              "      <td>54.364929</td>\n",
              "      <td>54.709633</td>\n",
              "      <td>9710800</td>\n",
              "      <td>0.42</td>\n",
              "      <td>0</td>\n",
              "    </tr>\n",
              "    <tr>\n",
              "      <th>2021-06-15</th>\n",
              "      <td>54.936152</td>\n",
              "      <td>54.946003</td>\n",
              "      <td>54.355078</td>\n",
              "      <td>54.571751</td>\n",
              "      <td>11154200</td>\n",
              "      <td>0.00</td>\n",
              "      <td>0</td>\n",
              "    </tr>\n",
              "    <tr>\n",
              "      <th>2021-06-16</th>\n",
              "      <td>54.601297</td>\n",
              "      <td>54.620995</td>\n",
              "      <td>53.813400</td>\n",
              "      <td>53.842945</td>\n",
              "      <td>15211700</td>\n",
              "      <td>0.00</td>\n",
              "      <td>0</td>\n",
              "    </tr>\n",
              "    <tr>\n",
              "      <th>2021-06-17</th>\n",
              "      <td>53.842943</td>\n",
              "      <td>54.315685</td>\n",
              "      <td>53.823249</td>\n",
              "      <td>54.118710</td>\n",
              "      <td>10658400</td>\n",
              "      <td>0.00</td>\n",
              "      <td>0</td>\n",
              "    </tr>\n",
              "    <tr>\n",
              "      <th>2021-06-18</th>\n",
              "      <td>53.685365</td>\n",
              "      <td>53.793702</td>\n",
              "      <td>52.907319</td>\n",
              "      <td>52.956562</td>\n",
              "      <td>31445600</td>\n",
              "      <td>0.00</td>\n",
              "      <td>0</td>\n",
              "    </tr>\n",
              "    <tr>\n",
              "      <th>2021-06-21</th>\n",
              "      <td>53.399754</td>\n",
              "      <td>53.606577</td>\n",
              "      <td>53.183081</td>\n",
              "      <td>53.537636</td>\n",
              "      <td>14404300</td>\n",
              "      <td>0.00</td>\n",
              "      <td>0</td>\n",
              "    </tr>\n",
              "    <tr>\n",
              "      <th>2021-06-22</th>\n",
              "      <td>53.517938</td>\n",
              "      <td>54.020222</td>\n",
              "      <td>53.439147</td>\n",
              "      <td>53.734612</td>\n",
              "      <td>13072800</td>\n",
              "      <td>0.00</td>\n",
              "      <td>0</td>\n",
              "    </tr>\n",
              "    <tr>\n",
              "      <th>2021-06-23</th>\n",
              "      <td>53.734612</td>\n",
              "      <td>53.774004</td>\n",
              "      <td>53.291419</td>\n",
              "      <td>53.301266</td>\n",
              "      <td>12339200</td>\n",
              "      <td>0.00</td>\n",
              "      <td>0</td>\n",
              "    </tr>\n",
              "    <tr>\n",
              "      <th>2021-06-24</th>\n",
              "      <td>53.439142</td>\n",
              "      <td>53.596722</td>\n",
              "      <td>53.183077</td>\n",
              "      <td>53.567177</td>\n",
              "      <td>11488400</td>\n",
              "      <td>0.00</td>\n",
              "      <td>0</td>\n",
              "    </tr>\n",
              "    <tr>\n",
              "      <th>2021-06-25</th>\n",
              "      <td>53.419454</td>\n",
              "      <td>53.645974</td>\n",
              "      <td>53.192930</td>\n",
              "      <td>53.498241</td>\n",
              "      <td>18880300</td>\n",
              "      <td>0.00</td>\n",
              "      <td>0</td>\n",
              "    </tr>\n",
              "  </tbody>\n",
              "</table>\n",
              "</div>"
            ],
            "text/plain": [
              "                 Open       High        Low  ...    Volume  Dividends  Stock Splits\n",
              "Date                                         ...                                   \n",
              "2021-06-14  54.847514  54.867212  54.364929  ...   9710800       0.42             0\n",
              "2021-06-15  54.936152  54.946003  54.355078  ...  11154200       0.00             0\n",
              "2021-06-16  54.601297  54.620995  53.813400  ...  15211700       0.00             0\n",
              "2021-06-17  53.842943  54.315685  53.823249  ...  10658400       0.00             0\n",
              "2021-06-18  53.685365  53.793702  52.907319  ...  31445600       0.00             0\n",
              "2021-06-21  53.399754  53.606577  53.183081  ...  14404300       0.00             0\n",
              "2021-06-22  53.517938  54.020222  53.439147  ...  13072800       0.00             0\n",
              "2021-06-23  53.734612  53.774004  53.291419  ...  12339200       0.00             0\n",
              "2021-06-24  53.439142  53.596722  53.183077  ...  11488400       0.00             0\n",
              "2021-06-25  53.419454  53.645974  53.192930  ...  18880300       0.00             0\n",
              "\n",
              "[10 rows x 7 columns]"
            ]
          },
          "metadata": {},
          "execution_count": 12
        },
        {
          "output_type": "stream",
          "name": "stdout",
          "text": [
            "time: 218 ms (started: 2021-12-14 15:00:15 +00:00)\n"
          ]
        }
      ]
    },
    {
      "cell_type": "markdown",
      "source": [
        "Save Cocacola price data to CSV file"
      ],
      "metadata": {
        "id": "Xu7QqklvaVqw"
      }
    },
    {
      "cell_type": "code",
      "source": [
        "coca_hist.to_csv(\"cocacola.csv\")"
      ],
      "metadata": {
        "colab": {
          "base_uri": "https://localhost:8080/"
        },
        "id": "glPpVsx4aUbk",
        "outputId": "987f58fc-db3e-412f-beac-b51fc31a2a7f"
      },
      "execution_count": 13,
      "outputs": [
        {
          "output_type": "stream",
          "name": "stdout",
          "text": [
            "time: 10.5 ms (started: 2021-12-14 15:00:15 +00:00)\n"
          ]
        }
      ]
    },
    {
      "cell_type": "markdown",
      "metadata": {
        "id": "1PjXZ6KJX3rP"
      },
      "source": [
        "Below line chart of Pepsi Vs Cocacola Stock price illustrates, the stock price from June 2021 to November 2021. In which, we can see Pepsi has been the highest stock price as compare to Cocacola,whereas we can see Pepsi stock has increased continously and in opposite to that Cocacola has fluctuating and stoped as price where it has seen in June.*italicized text*\n",
        "\n",
        "Below line graph of Pepsi Vs Cocacola Market Cap depicts, the price distribution from June 2021 to November 2021. In which, we can see Cocacola has been the highest price as compare to Pepsi,whereas after November in the end both has almost same price. We have seen more variation in the Cocacola price as compare to Pepsi."
      ]
    },
    {
      "cell_type": "code",
      "metadata": {
        "id": "ggZlE0QvT06R",
        "colab": {
          "base_uri": "https://localhost:8080/",
          "height": 635
        },
        "outputId": "6a8fc7c4-24fd-494e-b4d5-22a2c9e62c05"
      },
      "source": [
        "stp = figure(plot_width = 600, plot_height = 600, title = 'Pepsi vs Cocacola Stock Price', x_axis_label = 'Date',x_axis_type=\"datetime\",y_axis_type=\"log\", y_axis_label = 'Price')\n",
        "stp.line(pepsi_hist.index, pepsi_hist[\"Close\"], line_color=\"red\", legend_label=\"Pepsi\")\n",
        "stp.line(coca_hist.index, coca_hist[\"Close\"], line_color=\"blue\", legend_label=\"Cocacola\")\n",
        "p = figure(plot_width = 800, plot_height = 600, title = 'Pepsi vs Cocacola Market Cap', x_axis_label = 'Date',x_axis_type=\"datetime\",y_axis_type=\"log\", y_axis_label = 'Market Cap')\n",
        "p.line(pepsi_hist.index, pepsi_hist[\"Close\"] * pepsi_hist[\"Volume\"] ,line_color=\"red\", legend_label=\"Pepsi\")\n",
        "p.line(coca_hist.index, coca_hist[\"Close\"] * coca_hist[\"Volume\"] ,line_color=\"blue\", legend_label=\"Cocacola\")\n",
        "output_notebook()\n",
        "show(row(stp, p))"
      ],
      "execution_count": 14,
      "outputs": [
        {
          "output_type": "display_data",
          "data": {
            "application/javascript": [
              "\n",
              "(function(root) {\n",
              "  function now() {\n",
              "    return new Date();\n",
              "  }\n",
              "\n",
              "  var force = true;\n",
              "\n",
              "  if (typeof root._bokeh_onload_callbacks === \"undefined\" || force === true) {\n",
              "    root._bokeh_onload_callbacks = [];\n",
              "    root._bokeh_is_loading = undefined;\n",
              "  }\n",
              "\n",
              "  var JS_MIME_TYPE = 'application/javascript';\n",
              "  var HTML_MIME_TYPE = 'text/html';\n",
              "  var EXEC_MIME_TYPE = 'application/vnd.bokehjs_exec.v0+json';\n",
              "  var CLASS_NAME = 'output_bokeh rendered_html';\n",
              "\n",
              "  /**\n",
              "   * Render data to the DOM node\n",
              "   */\n",
              "  function render(props, node) {\n",
              "    var script = document.createElement(\"script\");\n",
              "    node.appendChild(script);\n",
              "  }\n",
              "\n",
              "  /**\n",
              "   * Handle when an output is cleared or removed\n",
              "   */\n",
              "  function handleClearOutput(event, handle) {\n",
              "    var cell = handle.cell;\n",
              "\n",
              "    var id = cell.output_area._bokeh_element_id;\n",
              "    var server_id = cell.output_area._bokeh_server_id;\n",
              "    // Clean up Bokeh references\n",
              "    if (id != null && id in Bokeh.index) {\n",
              "      Bokeh.index[id].model.document.clear();\n",
              "      delete Bokeh.index[id];\n",
              "    }\n",
              "\n",
              "    if (server_id !== undefined) {\n",
              "      // Clean up Bokeh references\n",
              "      var cmd = \"from bokeh.io.state import curstate; print(curstate().uuid_to_server['\" + server_id + \"'].get_sessions()[0].document.roots[0]._id)\";\n",
              "      cell.notebook.kernel.execute(cmd, {\n",
              "        iopub: {\n",
              "          output: function(msg) {\n",
              "            var id = msg.content.text.trim();\n",
              "            if (id in Bokeh.index) {\n",
              "              Bokeh.index[id].model.document.clear();\n",
              "              delete Bokeh.index[id];\n",
              "            }\n",
              "          }\n",
              "        }\n",
              "      });\n",
              "      // Destroy server and session\n",
              "      var cmd = \"import bokeh.io.notebook as ion; ion.destroy_server('\" + server_id + \"')\";\n",
              "      cell.notebook.kernel.execute(cmd);\n",
              "    }\n",
              "  }\n",
              "\n",
              "  /**\n",
              "   * Handle when a new output is added\n",
              "   */\n",
              "  function handleAddOutput(event, handle) {\n",
              "    var output_area = handle.output_area;\n",
              "    var output = handle.output;\n",
              "\n",
              "    // limit handleAddOutput to display_data with EXEC_MIME_TYPE content only\n",
              "    if ((output.output_type != \"display_data\") || (!Object.prototype.hasOwnProperty.call(output.data, EXEC_MIME_TYPE))) {\n",
              "      return\n",
              "    }\n",
              "\n",
              "    var toinsert = output_area.element.find(\".\" + CLASS_NAME.split(' ')[0]);\n",
              "\n",
              "    if (output.metadata[EXEC_MIME_TYPE][\"id\"] !== undefined) {\n",
              "      toinsert[toinsert.length - 1].firstChild.textContent = output.data[JS_MIME_TYPE];\n",
              "      // store reference to embed id on output_area\n",
              "      output_area._bokeh_element_id = output.metadata[EXEC_MIME_TYPE][\"id\"];\n",
              "    }\n",
              "    if (output.metadata[EXEC_MIME_TYPE][\"server_id\"] !== undefined) {\n",
              "      var bk_div = document.createElement(\"div\");\n",
              "      bk_div.innerHTML = output.data[HTML_MIME_TYPE];\n",
              "      var script_attrs = bk_div.children[0].attributes;\n",
              "      for (var i = 0; i < script_attrs.length; i++) {\n",
              "        toinsert[toinsert.length - 1].firstChild.setAttribute(script_attrs[i].name, script_attrs[i].value);\n",
              "        toinsert[toinsert.length - 1].firstChild.textContent = bk_div.children[0].textContent\n",
              "      }\n",
              "      // store reference to server id on output_area\n",
              "      output_area._bokeh_server_id = output.metadata[EXEC_MIME_TYPE][\"server_id\"];\n",
              "    }\n",
              "  }\n",
              "\n",
              "  function register_renderer(events, OutputArea) {\n",
              "\n",
              "    function append_mime(data, metadata, element) {\n",
              "      // create a DOM node to render to\n",
              "      var toinsert = this.create_output_subarea(\n",
              "        metadata,\n",
              "        CLASS_NAME,\n",
              "        EXEC_MIME_TYPE\n",
              "      );\n",
              "      this.keyboard_manager.register_events(toinsert);\n",
              "      // Render to node\n",
              "      var props = {data: data, metadata: metadata[EXEC_MIME_TYPE]};\n",
              "      render(props, toinsert[toinsert.length - 1]);\n",
              "      element.append(toinsert);\n",
              "      return toinsert\n",
              "    }\n",
              "\n",
              "    /* Handle when an output is cleared or removed */\n",
              "    events.on('clear_output.CodeCell', handleClearOutput);\n",
              "    events.on('delete.Cell', handleClearOutput);\n",
              "\n",
              "    /* Handle when a new output is added */\n",
              "    events.on('output_added.OutputArea', handleAddOutput);\n",
              "\n",
              "    /**\n",
              "     * Register the mime type and append_mime function with output_area\n",
              "     */\n",
              "    OutputArea.prototype.register_mime_type(EXEC_MIME_TYPE, append_mime, {\n",
              "      /* Is output safe? */\n",
              "      safe: true,\n",
              "      /* Index of renderer in `output_area.display_order` */\n",
              "      index: 0\n",
              "    });\n",
              "  }\n",
              "\n",
              "  // register the mime type if in Jupyter Notebook environment and previously unregistered\n",
              "  if (root.Jupyter !== undefined) {\n",
              "    var events = require('base/js/events');\n",
              "    var OutputArea = require('notebook/js/outputarea').OutputArea;\n",
              "\n",
              "    if (OutputArea.prototype.mime_types().indexOf(EXEC_MIME_TYPE) == -1) {\n",
              "      register_renderer(events, OutputArea);\n",
              "    }\n",
              "  }\n",
              "\n",
              "  \n",
              "  if (typeof (root._bokeh_timeout) === \"undefined\" || force === true) {\n",
              "    root._bokeh_timeout = Date.now() + 5000;\n",
              "    root._bokeh_failed_load = false;\n",
              "  }\n",
              "\n",
              "  var NB_LOAD_WARNING = {'data': {'text/html':\n",
              "     \"<div style='background-color: #fdd'>\\n\"+\n",
              "     \"<p>\\n\"+\n",
              "     \"BokehJS does not appear to have successfully loaded. If loading BokehJS from CDN, this \\n\"+\n",
              "     \"may be due to a slow or bad network connection. Possible fixes:\\n\"+\n",
              "     \"</p>\\n\"+\n",
              "     \"<ul>\\n\"+\n",
              "     \"<li>re-rerun `output_notebook()` to attempt to load from CDN again, or</li>\\n\"+\n",
              "     \"<li>use INLINE resources instead, as so:</li>\\n\"+\n",
              "     \"</ul>\\n\"+\n",
              "     \"<code>\\n\"+\n",
              "     \"from bokeh.resources import INLINE\\n\"+\n",
              "     \"output_notebook(resources=INLINE)\\n\"+\n",
              "     \"</code>\\n\"+\n",
              "     \"</div>\"}};\n",
              "\n",
              "  function display_loaded() {\n",
              "    var el = document.getElementById(null);\n",
              "    if (el != null) {\n",
              "      el.textContent = \"BokehJS is loading...\";\n",
              "    }\n",
              "    if (root.Bokeh !== undefined) {\n",
              "      if (el != null) {\n",
              "        el.textContent = \"BokehJS \" + root.Bokeh.version + \" successfully loaded.\";\n",
              "      }\n",
              "    } else if (Date.now() < root._bokeh_timeout) {\n",
              "      setTimeout(display_loaded, 100)\n",
              "    }\n",
              "  }\n",
              "\n",
              "\n",
              "  function run_callbacks() {\n",
              "    try {\n",
              "      root._bokeh_onload_callbacks.forEach(function(callback) {\n",
              "        if (callback != null)\n",
              "          callback();\n",
              "      });\n",
              "    } finally {\n",
              "      delete root._bokeh_onload_callbacks\n",
              "    }\n",
              "    console.debug(\"Bokeh: all callbacks have finished\");\n",
              "  }\n",
              "\n",
              "  function load_libs(css_urls, js_urls, callback) {\n",
              "    if (css_urls == null) css_urls = [];\n",
              "    if (js_urls == null) js_urls = [];\n",
              "\n",
              "    root._bokeh_onload_callbacks.push(callback);\n",
              "    if (root._bokeh_is_loading > 0) {\n",
              "      console.debug(\"Bokeh: BokehJS is being loaded, scheduling callback at\", now());\n",
              "      return null;\n",
              "    }\n",
              "    if (js_urls == null || js_urls.length === 0) {\n",
              "      run_callbacks();\n",
              "      return null;\n",
              "    }\n",
              "    console.debug(\"Bokeh: BokehJS not loaded, scheduling load and callback at\", now());\n",
              "    root._bokeh_is_loading = css_urls.length + js_urls.length;\n",
              "\n",
              "    function on_load() {\n",
              "      root._bokeh_is_loading--;\n",
              "      if (root._bokeh_is_loading === 0) {\n",
              "        console.debug(\"Bokeh: all BokehJS libraries/stylesheets loaded\");\n",
              "        run_callbacks()\n",
              "      }\n",
              "    }\n",
              "\n",
              "    function on_error(url) {\n",
              "      console.error(\"failed to load \" + url);\n",
              "    }\n",
              "\n",
              "    for (let i = 0; i < css_urls.length; i++) {\n",
              "      const url = css_urls[i];\n",
              "      const element = document.createElement(\"link\");\n",
              "      element.onload = on_load;\n",
              "      element.onerror = on_error.bind(null, url);\n",
              "      element.rel = \"stylesheet\";\n",
              "      element.type = \"text/css\";\n",
              "      element.href = url;\n",
              "      console.debug(\"Bokeh: injecting link tag for BokehJS stylesheet: \", url);\n",
              "      document.body.appendChild(element);\n",
              "    }\n",
              "\n",
              "    const hashes = {\"https://cdn.bokeh.org/bokeh/release/bokeh-2.3.3.min.js\": \"dM3QQsP+wXdHg42wTqW85BjZQdLNNIXqlPw/BgKoExPmTG7ZLML4EGqLMfqHT6ON\", \"https://cdn.bokeh.org/bokeh/release/bokeh-tables-2.3.3.min.js\": \"8x57I4YuIfu8XyZfFo0XVr2WAT8EK4rh/uDe3wF7YuW2FNUSNEpJbsPaB1nJ2fz2\", \"https://cdn.bokeh.org/bokeh/release/bokeh-widgets-2.3.3.min.js\": \"3QTqdz9LyAm2i0sG5XTePsHec3UHWwVsrOL68SYRoAXsafvfAyqtQ+h440+qIBhS\"};\n",
              "\n",
              "    for (let i = 0; i < js_urls.length; i++) {\n",
              "      const url = js_urls[i];\n",
              "      const element = document.createElement('script');\n",
              "      element.onload = on_load;\n",
              "      element.onerror = on_error.bind(null, url);\n",
              "      element.async = false;\n",
              "      element.src = url;\n",
              "      if (url in hashes) {\n",
              "        element.crossOrigin = \"anonymous\";\n",
              "        element.integrity = \"sha384-\" + hashes[url];\n",
              "      }\n",
              "      console.debug(\"Bokeh: injecting script tag for BokehJS library: \", url);\n",
              "      document.head.appendChild(element);\n",
              "    }\n",
              "  };\n",
              "\n",
              "  function inject_raw_css(css) {\n",
              "    const element = document.createElement(\"style\");\n",
              "    element.appendChild(document.createTextNode(css));\n",
              "    document.body.appendChild(element);\n",
              "  }\n",
              "\n",
              "  \n",
              "  var js_urls = [\"https://cdn.bokeh.org/bokeh/release/bokeh-2.3.3.min.js\", \"https://cdn.bokeh.org/bokeh/release/bokeh-widgets-2.3.3.min.js\", \"https://cdn.bokeh.org/bokeh/release/bokeh-tables-2.3.3.min.js\"];\n",
              "  var css_urls = [];\n",
              "  \n",
              "\n",
              "  var inline_js = [\n",
              "    function(Bokeh) {\n",
              "      Bokeh.set_log_level(\"info\");\n",
              "    },\n",
              "    function(Bokeh) {\n",
              "    \n",
              "    \n",
              "    }\n",
              "  ];\n",
              "\n",
              "  function run_inline_js() {\n",
              "    \n",
              "    if (root.Bokeh !== undefined || force === true) {\n",
              "      \n",
              "    for (var i = 0; i < inline_js.length; i++) {\n",
              "      inline_js[i].call(root, root.Bokeh);\n",
              "    }\n",
              "    } else if (Date.now() < root._bokeh_timeout) {\n",
              "      setTimeout(run_inline_js, 100);\n",
              "    } else if (!root._bokeh_failed_load) {\n",
              "      console.log(\"Bokeh: BokehJS failed to load within specified timeout.\");\n",
              "      root._bokeh_failed_load = true;\n",
              "    } else if (force !== true) {\n",
              "      var cell = $(document.getElementById(null)).parents('.cell').data().cell;\n",
              "      cell.output_area.append_execute_result(NB_LOAD_WARNING)\n",
              "    }\n",
              "\n",
              "  }\n",
              "\n",
              "  if (root._bokeh_is_loading === 0) {\n",
              "    console.debug(\"Bokeh: BokehJS loaded, going straight to plotting\");\n",
              "    run_inline_js();\n",
              "  } else {\n",
              "    load_libs(css_urls, js_urls, function() {\n",
              "      console.debug(\"Bokeh: BokehJS plotting callback run at\", now());\n",
              "      run_inline_js();\n",
              "    });\n",
              "  }\n",
              "}(window));"
            ],
            "application/vnd.bokehjs_load.v0+json": "\n(function(root) {\n  function now() {\n    return new Date();\n  }\n\n  var force = true;\n\n  if (typeof root._bokeh_onload_callbacks === \"undefined\" || force === true) {\n    root._bokeh_onload_callbacks = [];\n    root._bokeh_is_loading = undefined;\n  }\n\n  \n\n  \n  if (typeof (root._bokeh_timeout) === \"undefined\" || force === true) {\n    root._bokeh_timeout = Date.now() + 5000;\n    root._bokeh_failed_load = false;\n  }\n\n  var NB_LOAD_WARNING = {'data': {'text/html':\n     \"<div style='background-color: #fdd'>\\n\"+\n     \"<p>\\n\"+\n     \"BokehJS does not appear to have successfully loaded. If loading BokehJS from CDN, this \\n\"+\n     \"may be due to a slow or bad network connection. Possible fixes:\\n\"+\n     \"</p>\\n\"+\n     \"<ul>\\n\"+\n     \"<li>re-rerun `output_notebook()` to attempt to load from CDN again, or</li>\\n\"+\n     \"<li>use INLINE resources instead, as so:</li>\\n\"+\n     \"</ul>\\n\"+\n     \"<code>\\n\"+\n     \"from bokeh.resources import INLINE\\n\"+\n     \"output_notebook(resources=INLINE)\\n\"+\n     \"</code>\\n\"+\n     \"</div>\"}};\n\n  function display_loaded() {\n    var el = document.getElementById(null);\n    if (el != null) {\n      el.textContent = \"BokehJS is loading...\";\n    }\n    if (root.Bokeh !== undefined) {\n      if (el != null) {\n        el.textContent = \"BokehJS \" + root.Bokeh.version + \" successfully loaded.\";\n      }\n    } else if (Date.now() < root._bokeh_timeout) {\n      setTimeout(display_loaded, 100)\n    }\n  }\n\n\n  function run_callbacks() {\n    try {\n      root._bokeh_onload_callbacks.forEach(function(callback) {\n        if (callback != null)\n          callback();\n      });\n    } finally {\n      delete root._bokeh_onload_callbacks\n    }\n    console.debug(\"Bokeh: all callbacks have finished\");\n  }\n\n  function load_libs(css_urls, js_urls, callback) {\n    if (css_urls == null) css_urls = [];\n    if (js_urls == null) js_urls = [];\n\n    root._bokeh_onload_callbacks.push(callback);\n    if (root._bokeh_is_loading > 0) {\n      console.debug(\"Bokeh: BokehJS is being loaded, scheduling callback at\", now());\n      return null;\n    }\n    if (js_urls == null || js_urls.length === 0) {\n      run_callbacks();\n      return null;\n    }\n    console.debug(\"Bokeh: BokehJS not loaded, scheduling load and callback at\", now());\n    root._bokeh_is_loading = css_urls.length + js_urls.length;\n\n    function on_load() {\n      root._bokeh_is_loading--;\n      if (root._bokeh_is_loading === 0) {\n        console.debug(\"Bokeh: all BokehJS libraries/stylesheets loaded\");\n        run_callbacks()\n      }\n    }\n\n    function on_error(url) {\n      console.error(\"failed to load \" + url);\n    }\n\n    for (let i = 0; i < css_urls.length; i++) {\n      const url = css_urls[i];\n      const element = document.createElement(\"link\");\n      element.onload = on_load;\n      element.onerror = on_error.bind(null, url);\n      element.rel = \"stylesheet\";\n      element.type = \"text/css\";\n      element.href = url;\n      console.debug(\"Bokeh: injecting link tag for BokehJS stylesheet: \", url);\n      document.body.appendChild(element);\n    }\n\n    const hashes = {\"https://cdn.bokeh.org/bokeh/release/bokeh-2.3.3.min.js\": \"dM3QQsP+wXdHg42wTqW85BjZQdLNNIXqlPw/BgKoExPmTG7ZLML4EGqLMfqHT6ON\", \"https://cdn.bokeh.org/bokeh/release/bokeh-tables-2.3.3.min.js\": \"8x57I4YuIfu8XyZfFo0XVr2WAT8EK4rh/uDe3wF7YuW2FNUSNEpJbsPaB1nJ2fz2\", \"https://cdn.bokeh.org/bokeh/release/bokeh-widgets-2.3.3.min.js\": \"3QTqdz9LyAm2i0sG5XTePsHec3UHWwVsrOL68SYRoAXsafvfAyqtQ+h440+qIBhS\"};\n\n    for (let i = 0; i < js_urls.length; i++) {\n      const url = js_urls[i];\n      const element = document.createElement('script');\n      element.onload = on_load;\n      element.onerror = on_error.bind(null, url);\n      element.async = false;\n      element.src = url;\n      if (url in hashes) {\n        element.crossOrigin = \"anonymous\";\n        element.integrity = \"sha384-\" + hashes[url];\n      }\n      console.debug(\"Bokeh: injecting script tag for BokehJS library: \", url);\n      document.head.appendChild(element);\n    }\n  };\n\n  function inject_raw_css(css) {\n    const element = document.createElement(\"style\");\n    element.appendChild(document.createTextNode(css));\n    document.body.appendChild(element);\n  }\n\n  \n  var js_urls = [\"https://cdn.bokeh.org/bokeh/release/bokeh-2.3.3.min.js\", \"https://cdn.bokeh.org/bokeh/release/bokeh-widgets-2.3.3.min.js\", \"https://cdn.bokeh.org/bokeh/release/bokeh-tables-2.3.3.min.js\"];\n  var css_urls = [];\n  \n\n  var inline_js = [\n    function(Bokeh) {\n      Bokeh.set_log_level(\"info\");\n    },\n    function(Bokeh) {\n    \n    \n    }\n  ];\n\n  function run_inline_js() {\n    \n    if (root.Bokeh !== undefined || force === true) {\n      \n    for (var i = 0; i < inline_js.length; i++) {\n      inline_js[i].call(root, root.Bokeh);\n    }\n    } else if (Date.now() < root._bokeh_timeout) {\n      setTimeout(run_inline_js, 100);\n    } else if (!root._bokeh_failed_load) {\n      console.log(\"Bokeh: BokehJS failed to load within specified timeout.\");\n      root._bokeh_failed_load = true;\n    } else if (force !== true) {\n      var cell = $(document.getElementById(null)).parents('.cell').data().cell;\n      cell.output_area.append_execute_result(NB_LOAD_WARNING)\n    }\n\n  }\n\n  if (root._bokeh_is_loading === 0) {\n    console.debug(\"Bokeh: BokehJS loaded, going straight to plotting\");\n    run_inline_js();\n  } else {\n    load_libs(css_urls, js_urls, function() {\n      console.debug(\"Bokeh: BokehJS plotting callback run at\", now());\n      run_inline_js();\n    });\n  }\n}(window));"
          },
          "metadata": {}
        },
        {
          "output_type": "display_data",
          "data": {
            "text/html": [
              "\n",
              "\n",
              "\n",
              "\n",
              "\n",
              "\n",
              "  <div class=\"bk-root\" id=\"cd85961f-baf5-4815-8677-4b51730b816c\" data-root-id=\"1186\"></div>\n"
            ]
          },
          "metadata": {}
        },
        {
          "output_type": "display_data",
          "data": {
            "application/javascript": [
              "(function(root) {\n",
              "  function embed_document(root) {\n",
              "    \n",
              "  var docs_json = {\"d6f3517c-e3eb-4641-a423-32620ff2f541\":{\"defs\":[],\"roots\":{\"references\":[{\"attributes\":{\"children\":[{\"id\":\"1002\"},{\"id\":\"1094\"}]},\"id\":\"1186\",\"type\":\"Row\"},{\"attributes\":{},\"id\":\"1153\",\"type\":\"UnionRenderers\"},{\"attributes\":{},\"id\":\"1151\",\"type\":\"YearsTicker\"},{\"attributes\":{},\"id\":\"1152\",\"type\":\"Selection\"},{\"attributes\":{\"source\":{\"id\":\"1035\"}},\"id\":\"1039\",\"type\":\"CDSView\"},{\"attributes\":{\"data\":{\"x\":{\"__ndarray__\":\"AAAAFn2gd0IAAMB7z6B3QgAAgOEhoXdCAABAR3Shd0IAAACtxqF3QgAAQN69ondCAAAARBCjd0IAAMCpYqN3QgAAgA+1o3dCAABAdQekd0IAAICm/qR3QgAAQAxRpXdCAAAAcqOld0IAAMDX9aV3QgAAgD1IpndCAACA1JGnd0IAAEA65Kd3QgAAAKA2qHdCAADABYmod0IAAAA3gKl3QgAAwJzSqXdCAACAAiWqd0IAAEBod6p3QgAAAM7JqndCAABA/8Crd0IAAABlE6x3QgAAwMplrHdCAACAMLisd0IAAECWCq13QgAAgMcBrndCAABALVSud0IAAACTpq53QgAAwPj4rndCAACAXkuvd0IAAMCPQrB3QgAAgPWUsHdCAABAW+ewd0IAAADBObF3QgAAwCaMsXdCAAAAWIOyd0IAAMC91bJ3QgAAgCMos3dCAABAiXqzd0IAAADvzLN3QgAAQCDEtHdCAAAAhha1d0IAAMDraLV3QgAAgFG7tXdCAABAtw22d0IAAIDoBLd3QgAAQE5Xt3dCAAAAtKm3d0IAAMAZ/Ld3QgAAgH9OuHdCAADAsEW5d0IAAIAWmLl3QgAAQHzquXdCAAAA4jy6d0IAAMBHj7p3QgAAwN7Yu3dCAACARCu8d0IAAECqfbx3QgAAABDQvHdCAABAQce9d0IAAACnGb53QgAAwAxsvndCAACAcr6+d0IAAEDYEL93QgAAgAkIwHdCAABAb1rAd0IAAADVrMB3QgAAwDr/wHdCAACAoFHBd0IAAMDRSMJ3QgAAgDebwndCAABAne3Cd0IAAAADQMN3QgAAwGiSw3dCAAAAmonEd0IAAMD/28R3QgAAgGUuxXdCAABAy4DFd0IAAAAx08V3QgAAQGLKxndCAAAAyBzHd0IAAMAtb8d3QgAAgJPBx3dCAABA+RPId0IAAIAqC8l3QgAAQJBdyXdCAAAA9q/Jd0IAAMBbAsp3QgAAgMFUyndCAADA8kvLd0IAAIBYnst3QgAAQL7wy3dCAAAAJEPMd0IAAMCJlcx3QgAAALuMzXdCAADAIN/Nd0IAAICGMc53QgAAQOyDzndCAAAAUtbOd0IAAECDzc93QgAAAOkf0HdCAADATnLQd0IAAIC0xNB3QgAAQBoX0XdCAACASw7Sd0IAAECxYNJ3QgAAABez0ndCAADAfAXTd0IAAIDiV9N3QgAAwBNP1HdCAACAeaHUd0IAAEDf89R3QgAAwKqY1XdCAAAA3I/Wd0IAAMBB4tZ3QgAAgKc013dCAABADYfXd0IAAABz2dd3QgAAQKTQ2HdCAAAACiPZd0IAAMBvddl3QgAAgNXH2XdCAABAOxrad0IAAIBsEdt3QgAAQNJj23dC\",\"dtype\":\"float64\",\"order\":\"little\",\"shape\":[129]},\"y\":{\"__ndarray__\":\"AIjoPpqqv0EAy39uCyTCQYD0+tPMaMhBAHQCU8cwwUEAvtaMbdDYQQA/s6OT+8ZBAJiuwlvvxEEAAPeA0JnDQQA0FWEjV8JBgLjI/yoazkEAGH7eItDAQYDQekw1csNBAC8VC9w1x0EAKwlr9O3EQQAOi5g13cBBANtYCW0pyEGAbd3wY+zGQYBhzvL1+cJBAEn3h7ZWwUEAXhrtdyjIQQASAW/lf8hBAAe9dqsq0kEALCM4QfbIQQBPBZ+0mchBAGbB1AHxz0EAorJpRqTKQQC6Q2g7XNFBAC3l0/Q2xkEAIGWUJVLEQQAMQ/j/E71BAFjUNcuAxUEARP6p42rAQYAZOljeEsBBANOTJEehw0EA7gdjEVPAQQDXIsZAfb1BALBPkl2Tw0EABi8XYEPAQQBIR8qDTcFBALlp6Lp2vUEAvlNd/y7CQQCfFjhS4LtBAPC3XqmVtEEAEGNHFOq5QQBwsVdE5rpBAGgfnhhlwUGAG9eE7wHHQQCL56ONyb5BAHBiOimGwUEAYLofo4e9QQCQhy6T1sNBgL4Pg3GMwkEATrYdm9fAQQDYGO3H4rxBgEp1BQCMwEGArJi/I3LHQQB5QfN6rb9BAG7wEuNqw0EAfvyTbgPGQcAdhtdpXtBBAEhhD0Pww0EAo76DsJHEQQDLIoByQMFBQDLUdd6u0EGAr7oYXuzGQQA4+QFYBcpBAACcYv2HzEGAs0V5u9zaQUAzbzotBNZBAHFv/kA+ykEAp5NejFzEQQB/NQCqHMZBAArvnV7cvkEAxlMrsbTDQYByt4D3BM9BgIMp5cDVxUEAIIjC6mvLQQADeR+2hclBADIPJpK7zUGAqZZWC/XKQQBEqBde59BBAPCU8rHyxUEAGHSweRDGQQB5IWQY2sNBADg5JGA7z0EAzvCZc3rDQQC4Sg63IcZBAAYRwELJzEEAmUQ/Xk3JQYAOvYaPucFBAM4dxWgnxEGAuQmCTiDHQQBJajBBqMRBALZUBCsDw0GADcd0QXjDQQAVCvgNuNNBAACp6aFlykEAwJGYcGPUQQAkDJKTWsNBgKkMn8ITw0EA3H7YefXBQQD7O9h2HMJBANFSwkyoxUEAvNswll7FQQDDVJBP98BBALB8ckiRvUEAATLKPlu4QQCQV8obA8FBAFYM83w6wUGA6fx7GN/GQYC8fhPN+MVBABzt5dIzyUGAglaiMcjJQQAAARJwu8tBAFpjskbdxkGAn6iZCqfEQYCuUk+mccdBwDIiUX5U0kEAidBmgdPXQQDq29xxLc1BAApl1jQBy0EAINLkws3QQcD/u1vRyNVBgI1LNGSb00EAAADyIozNQQDAOSRko8ZBAFTvolBq00EAVtfSlv3aQQADkmeDMqZB\",\"dtype\":\"float64\",\"order\":\"little\",\"shape\":[129]}},\"selected\":{\"id\":\"1183\"},\"selection_policy\":{\"id\":\"1184\"}},\"id\":\"1156\",\"type\":\"ColumnDataSource\"},{\"attributes\":{\"data_source\":{\"id\":\"1156\"},\"glyph\":{\"id\":\"1157\"},\"hover_glyph\":null,\"muted_glyph\":null,\"nonselection_glyph\":{\"id\":\"1158\"},\"view\":{\"id\":\"1160\"}},\"id\":\"1159\",\"type\":\"GlyphRenderer\"},{\"attributes\":{\"label\":{\"value\":\"Cocacola\"},\"renderers\":[{\"id\":\"1159\"}]},\"id\":\"1185\",\"type\":\"LegendItem\"},{\"attributes\":{\"source\":{\"id\":\"1156\"}},\"id\":\"1160\",\"type\":\"CDSView\"},{\"attributes\":{\"line_alpha\":0.1,\"line_color\":\"blue\",\"x\":{\"field\":\"x\"},\"y\":{\"field\":\"y\"}},\"id\":\"1158\",\"type\":\"Line\"},{\"attributes\":{},\"id\":\"1044\",\"type\":\"AllLabels\"},{\"attributes\":{},\"id\":\"1183\",\"type\":\"Selection\"},{\"attributes\":{\"active_multi\":null,\"tools\":[{\"id\":\"1021\"},{\"id\":\"1022\"},{\"id\":\"1023\"},{\"id\":\"1024\"},{\"id\":\"1025\"},{\"id\":\"1026\"}]},\"id\":\"1028\",\"type\":\"Toolbar\"},{\"attributes\":{},\"id\":\"1184\",\"type\":\"UnionRenderers\"},{\"attributes\":{\"line_color\":\"blue\",\"x\":{\"field\":\"x\"},\"y\":{\"field\":\"y\"}},\"id\":\"1065\",\"type\":\"Line\"},{\"attributes\":{\"label\":{\"value\":\"Pepsi\"},\"renderers\":[{\"id\":\"1038\"}]},\"id\":\"1063\",\"type\":\"LegendItem\"},{\"attributes\":{\"ticker\":null},\"id\":\"1045\",\"type\":\"LogTickFormatter\"},{\"attributes\":{\"line_color\":\"red\",\"x\":{\"field\":\"x\"},\"y\":{\"field\":\"y\"}},\"id\":\"1036\",\"type\":\"Line\"},{\"attributes\":{\"mantissas\":[1,2,5],\"max_interval\":500.0,\"num_minor_ticks\":0},\"id\":\"1048\",\"type\":\"AdaptiveTicker\"},{\"attributes\":{},\"id\":\"1025\",\"type\":\"ResetTool\"},{\"attributes\":{},\"id\":\"1026\",\"type\":\"HelpTool\"},{\"attributes\":{},\"id\":\"1133\",\"type\":\"AllLabels\"},{\"attributes\":{},\"id\":\"1113\",\"type\":\"PanTool\"},{\"attributes\":{\"months\":[0,4,8]},\"id\":\"1057\",\"type\":\"MonthsTicker\"},{\"attributes\":{\"below\":[{\"id\":\"1105\"}],\"center\":[{\"id\":\"1108\"},{\"id\":\"1112\"},{\"id\":\"1154\"}],\"left\":[{\"id\":\"1109\"}],\"renderers\":[{\"id\":\"1130\"},{\"id\":\"1159\"}],\"title\":{\"id\":\"1095\"},\"toolbar\":{\"id\":\"1120\"},\"width\":800,\"x_range\":{\"id\":\"1097\"},\"x_scale\":{\"id\":\"1101\"},\"y_range\":{\"id\":\"1099\"},\"y_scale\":{\"id\":\"1103\"}},\"id\":\"1094\",\"subtype\":\"Figure\",\"type\":\"Plot\"},{\"attributes\":{\"ticker\":null},\"id\":\"1137\",\"type\":\"LogTickFormatter\"},{\"attributes\":{\"mantissas\":[1,2,5],\"max_interval\":500.0,\"num_minor_ticks\":0},\"id\":\"1140\",\"type\":\"AdaptiveTicker\"},{\"attributes\":{\"active_multi\":null,\"tools\":[{\"id\":\"1113\"},{\"id\":\"1114\"},{\"id\":\"1115\"},{\"id\":\"1116\"},{\"id\":\"1117\"},{\"id\":\"1118\"}]},\"id\":\"1120\",\"type\":\"Toolbar\"},{\"attributes\":{},\"id\":\"1136\",\"type\":\"AllLabels\"},{\"attributes\":{\"line_color\":\"blue\",\"x\":{\"field\":\"x\"},\"y\":{\"field\":\"y\"}},\"id\":\"1157\",\"type\":\"Line\"},{\"attributes\":{\"months\":[0,2,4,6,8,10]},\"id\":\"1056\",\"type\":\"MonthsTicker\"},{\"attributes\":{},\"id\":\"1114\",\"type\":\"WheelZoomTool\"},{\"attributes\":{\"days\":[1,15]},\"id\":\"1146\",\"type\":\"DaysTicker\"},{\"attributes\":{\"data\":{\"x\":{\"__ndarray__\":\"AAAAFn2gd0IAAMB7z6B3QgAAgOEhoXdCAABAR3Shd0IAAACtxqF3QgAAQN69ondCAAAARBCjd0IAAMCpYqN3QgAAgA+1o3dCAABAdQekd0IAAICm/qR3QgAAQAxRpXdCAAAAcqOld0IAAMDX9aV3QgAAgD1IpndCAACA1JGnd0IAAEA65Kd3QgAAAKA2qHdCAADABYmod0IAAAA3gKl3QgAAwJzSqXdCAACAAiWqd0IAAEBod6p3QgAAAM7JqndCAABA/8Crd0IAAABlE6x3QgAAwMplrHdCAACAMLisd0IAAECWCq13QgAAgMcBrndCAABALVSud0IAAACTpq53QgAAwPj4rndCAACAXkuvd0IAAMCPQrB3QgAAgPWUsHdCAABAW+ewd0IAAADBObF3QgAAwCaMsXdCAAAAWIOyd0IAAMC91bJ3QgAAgCMos3dCAABAiXqzd0IAAADvzLN3QgAAQCDEtHdCAAAAhha1d0IAAMDraLV3QgAAgFG7tXdCAABAtw22d0IAAIDoBLd3QgAAQE5Xt3dCAAAAtKm3d0IAAMAZ/Ld3QgAAgH9OuHdCAADAsEW5d0IAAIAWmLl3QgAAQHzquXdCAAAA4jy6d0IAAMBHj7p3QgAAwN7Yu3dCAACARCu8d0IAAECqfbx3QgAAABDQvHdCAABAQce9d0IAAACnGb53QgAAwAxsvndCAACAcr6+d0IAAEDYEL93QgAAgAkIwHdCAABAb1rAd0IAAADVrMB3QgAAwDr/wHdCAACAoFHBd0IAAMDRSMJ3QgAAgDebwndCAABAne3Cd0IAAAADQMN3QgAAwGiSw3dCAAAAmonEd0IAAMD/28R3QgAAgGUuxXdCAABAy4DFd0IAAAAx08V3QgAAQGLKxndCAAAAyBzHd0IAAMAtb8d3QgAAgJPBx3dCAABA+RPId0IAAIAqC8l3QgAAQJBdyXdCAAAA9q/Jd0IAAMBbAsp3QgAAgMFUyndCAADA8kvLd0IAAIBYnst3QgAAQL7wy3dCAAAAJEPMd0IAAMCJlcx3QgAAALuMzXdCAADAIN/Nd0IAAICGMc53QgAAQOyDzndCAAAAUtbOd0IAAECDzc93QgAAAOkf0HdCAADATnLQd0IAAIC0xNB3QgAAQBoX0XdCAACASw7Sd0IAAECxYNJ3QgAAABez0ndCAADAfAXTd0IAAIDiV9N3QgAAwBNP1HdCAACAeaHUd0IAAEDf89R3QgAAwKqY1XdCAAAA3I/Wd0IAAMBB4tZ3QgAAgKc013dCAABADYfXd0IAAABz2dd3QgAAQKTQ2HdCAAAACiPZd0IAAMBvddl3QgAAgNXH2XdCAABAOxrad0IAAIBsEdt3QgAAQNJj23dC\",\"dtype\":\"float64\",\"order\":\"little\",\"shape\":[129]},\"y\":{\"__ndarray__\":\"ANhSke68wEEAJK8LDZjCQQBom2+lwMdBAEi6KPA2x0EACpJytcrWQQBMdy3sIcVBAGAeCQxdvkEA7B5/vZ3AQQAMuQYKW8BBAEh/zO9+y0EAIMIA0oPCQQAs0DsLobtBAAwjukqJxUEAoD/TFmvBQQBMQdHFysBBAOTYsvzpwkEATEFATZvCQQBA44Bgk8JBAEig8/v3wUEAMLhwYWzFQQC4ODRCrdNBAHZVHfEIzUEAXIamvXXGQQC0Z0bHz8pBAPDhcu9WykEAXALmXOLHQQB65+IxZMZBAKiD02drvkEAWNKbL5XAQQDwqvS9tLtBAI4gKTDHwkEAIKCqVF3AQQCQOEG3LLxBAI4E3H5WwUEAoGVliX2/QQAQpcbu875BAEQrYSbzxUEA0q3yMfDAQQBEAO6GIr9BAPCoEQnut0EAWN2KUT+4QQDw/izn4LtBAGA9yzDcsUEA2ETrYHSzQQDAidtm9r1BAAplVmdYwUEAgE9Otmu/QQAAr177K8ZBACpLMXo4wEEA7FAvC8u8QQCwmDKgPMFBAFz7Db+KvkEAPABevki9QQB2wsbZ+sJBANS7n2FNt0EAQJpgMFTIQQAsuMofpcNBAJA8JUuZukEArAYPZu2yQQBwaMh0FsVBAOBX3deuvUEA+N4qz2nAQQBy7i+HuMFBAGDodiMNv0EAaLAydMy5QQBAeQOHGcFBAGDicdwixUEASlefgYrSQQAEno2K8MhBAJga8H1cxEEAiAVCCF27QQB04jGKwLhBANi3jteZtUEAQKJWM0PEQQA60U0ebspBAMx1bpz+vUEAoK11RQnGQQAaqdR8GcNBAOqqlxcIyEEAxpYZ+kvLQQBgO//LOclBABRA275RxUEAoLffoFXDQQDIxTroU7lBAHBfkjmwvUEAnsJ2FNbAQQDwqRjmVcFBAHASUX5ExEEAENwYN6W+QQAotg3doL1BABZvBjC/wUEA4IHw25/DQQCEj1NRsL5BAEC/8S7uvkEA9MGvZ5TBQQBA0/1v1sFBANCYRH4swUEAyPaGIc7FQQCgFcIkzrxBAIawgq2wwEEAjK26HnzBQQBG2YWkGcBBANhbqFNywkEAAIn1ALrLQQAIyPsYSsJBABQ2z9oPukEAwBhNlaC3QQCYARh8DMFBAGYo/TBHwEEAOEiajgi8QQA0pJdsHcBBADB99iHtwEEAhG5ek2vJQQDAdhljM8RBABAXnmb4wkEA8vSqmQrAQQDSwJByO8BBAJRs6MvHyUEAyPd5Qf/RQQBAFGqfiMlBAKC4vkEdxkEAWLODaLvPQQCmDYo6zMpBAALWh68My0EAYlCyc1DDQQAYDdlNEMJBAESRK9NOyUEAIIKvuOnKQQA8Do/Hz5FB\",\"dtype\":\"float64\",\"order\":\"little\",\"shape\":[129]}},\"selected\":{\"id\":\"1152\"},\"selection_policy\":{\"id\":\"1153\"}},\"id\":\"1127\",\"type\":\"ColumnDataSource\"},{\"attributes\":{\"overlay\":{\"id\":\"1119\"}},\"id\":\"1115\",\"type\":\"BoxZoomTool\"},{\"attributes\":{},\"id\":\"1116\",\"type\":\"SaveTool\"},{\"attributes\":{},\"id\":\"1041\",\"type\":\"AllLabels\"},{\"attributes\":{\"below\":[{\"id\":\"1013\"}],\"center\":[{\"id\":\"1016\"},{\"id\":\"1020\"},{\"id\":\"1062\"}],\"left\":[{\"id\":\"1017\"}],\"renderers\":[{\"id\":\"1038\"},{\"id\":\"1067\"}],\"title\":{\"id\":\"1003\"},\"toolbar\":{\"id\":\"1028\"},\"x_range\":{\"id\":\"1005\"},\"x_scale\":{\"id\":\"1009\"},\"y_range\":{\"id\":\"1007\"},\"y_scale\":{\"id\":\"1011\"}},\"id\":\"1002\",\"subtype\":\"Figure\",\"type\":\"Plot\"},{\"attributes\":{},\"id\":\"1118\",\"type\":\"HelpTool\"},{\"attributes\":{\"bottom_units\":\"screen\",\"fill_alpha\":0.5,\"fill_color\":\"lightgrey\",\"left_units\":\"screen\",\"level\":\"overlay\",\"line_alpha\":1.0,\"line_color\":\"black\",\"line_dash\":[4,4],\"line_width\":2,\"right_units\":\"screen\",\"syncable\":false,\"top_units\":\"screen\"},\"id\":\"1027\",\"type\":\"BoxAnnotation\"},{\"attributes\":{},\"id\":\"1117\",\"type\":\"ResetTool\"},{\"attributes\":{\"items\":[{\"id\":\"1063\"},{\"id\":\"1093\"}]},\"id\":\"1062\",\"type\":\"Legend\"},{\"attributes\":{\"text\":\"Pepsi vs Cocacola Stock Price\"},\"id\":\"1003\",\"type\":\"Title\"},{\"attributes\":{\"axis\":{\"id\":\"1109\"},\"dimension\":1,\"ticker\":null},\"id\":\"1112\",\"type\":\"Grid\"},{\"attributes\":{\"line_alpha\":0.1,\"line_color\":\"red\",\"x\":{\"field\":\"x\"},\"y\":{\"field\":\"y\"}},\"id\":\"1037\",\"type\":\"Line\"},{\"attributes\":{\"data\":{\"x\":{\"__ndarray__\":\"AAAAFn2gd0IAAMB7z6B3QgAAgOEhoXdCAABAR3Shd0IAAACtxqF3QgAAQN69ondCAAAARBCjd0IAAMCpYqN3QgAAgA+1o3dCAABAdQekd0IAAICm/qR3QgAAQAxRpXdCAAAAcqOld0IAAMDX9aV3QgAAgD1IpndCAACA1JGnd0IAAEA65Kd3QgAAAKA2qHdCAADABYmod0IAAAA3gKl3QgAAwJzSqXdCAACAAiWqd0IAAEBod6p3QgAAAM7JqndCAABA/8Crd0IAAABlE6x3QgAAwMplrHdCAACAMLisd0IAAECWCq13QgAAgMcBrndCAABALVSud0IAAACTpq53QgAAwPj4rndCAACAXkuvd0IAAMCPQrB3QgAAgPWUsHdCAABAW+ewd0IAAADBObF3QgAAwCaMsXdCAAAAWIOyd0IAAMC91bJ3QgAAgCMos3dCAABAiXqzd0IAAADvzLN3QgAAQCDEtHdCAAAAhha1d0IAAMDraLV3QgAAgFG7tXdCAABAtw22d0IAAIDoBLd3QgAAQE5Xt3dCAAAAtKm3d0IAAMAZ/Ld3QgAAgH9OuHdCAADAsEW5d0IAAIAWmLl3QgAAQHzquXdCAAAA4jy6d0IAAMBHj7p3QgAAwN7Yu3dCAACARCu8d0IAAECqfbx3QgAAABDQvHdCAABAQce9d0IAAACnGb53QgAAwAxsvndCAACAcr6+d0IAAEDYEL93QgAAgAkIwHdCAABAb1rAd0IAAADVrMB3QgAAwDr/wHdCAACAoFHBd0IAAMDRSMJ3QgAAgDebwndCAABAne3Cd0IAAAADQMN3QgAAwGiSw3dCAAAAmonEd0IAAMD/28R3QgAAgGUuxXdCAABAy4DFd0IAAAAx08V3QgAAQGLKxndCAAAAyBzHd0IAAMAtb8d3QgAAgJPBx3dCAABA+RPId0IAAIAqC8l3QgAAQJBdyXdCAAAA9q/Jd0IAAMBbAsp3QgAAgMFUyndCAADA8kvLd0IAAIBYnst3QgAAQL7wy3dCAAAAJEPMd0IAAMCJlcx3QgAAALuMzXdCAADAIN/Nd0IAAICGMc53QgAAQOyDzndCAAAAUtbOd0IAAECDzc93QgAAAOkf0HdCAADATnLQd0IAAIC0xNB3QgAAQBoX0XdCAACASw7Sd0IAAECxYNJ3QgAAABez0ndCAADAfAXTd0IAAIDiV9N3QgAAwBNP1HdCAACAeaHUd0IAAEDf89R3QgAAwKqY1XdCAAAA3I/Wd0IAAMBB4tZ3QgAAgKc013dCAABADYfXd0IAAABz2dd3QgAAQKTQ2HdCAAAACiPZd0IAAMBvddl3QgAAgNXH2XdCAABAOxrad0IAAIBsEdt3QgAAQNJj23dC\",\"dtype\":\"float64\",\"order\":\"little\",\"shape\":[129]},\"y\":{\"__ndarray__\":\"AAAAQNVaS0AAAAAgL0lLQAAAAKDl60pAAAAA4DEPS0AAAACgcHpKQAAAAEDRxEpAAAAAwAfeSkAAAADgj6ZKQAAAAECZyEpAAAAAYMa/SkAAAAAANrhKQAAAACDJhUpAAAAAIE2lSkAAAABAZJJKQAAAAEAgrkpAAAAAoE6ISkAAAABgxr9KQAAAAKDSp0pAAAAAYGzRSkAAAADg8dNKQAAAAOAEGEtAAAAAgFa0S0AAAACAB8tLQAAAAMD8xUtAAAAAQIZxS0AAAACAIX5LQAAAAIDl2EtAAAAAwM/OS0AAAADA4hJMQAAAAIAwGUxAAAAAwGYyTEAAAABA2fBLQAAAAKDtF0xAAAAAIGgVTEAAAABgfwJMQAAAACCKB0xAAAAAACugS0AAAADgl9JLQAAAAAA+5EtAAAAA4IDlS0AAAACAafhLQAAAAKCW70tAAAAAgHT9S0AAAACgni5MQAAAAMAiTkxAAAAAQOw0TEAAAADgl9JLQAAAAOD5/0tAAAAAAD7kS0AAAACAB8tLQAAAAGDSlEtAAAAA4GKcS0AAAACAkllLQAAAAIBwZ0tAAAAA4ECqS0AAAAAgpLpLQAAAAKCL6ktAAAAAYKH0S0AAAACglu9LQAAAAOD1aUtAAAAAAILIS0AAAACg6YFLQAAAAKBlYktAAAAA4GKcS0AAAABgd6FLQAAAAICZuUtAAAAAAEh2S0AAAACgsgJLQAAAAKBu0kpAAAAAYCnRSkAAAADAUttKQAAAAGDkz0pAAAAA4Na8SkAAAACARplKQAAAACASHkpAAAAAILdGSkAAAACAeghKQAAAACBWTkpAAAAAwIZKSkAAAAAg9VVKQAAAAAD6pUpAAAAAwJG7SkAAAACADdpKQAAAAEAG6EpAAAAAQAboSkAAAACAS+lKQAAAAGBKGEtAAAAAQMcHS0AAAACgMMNKQAAAACDd3UpAAAAAoNQaS0AAAAAgRPdKQAAAAOD3A0tAAAAAQAboSkAAAAAgggZLQAAAAMDfi0tAAAAAAOzNS0AAAABA1vdLQAAAAABv3ktAAAAA4IrVS0AAAAAAre1LQAAAAOAMFUxAAAAAoIgzTEAAAACgwfJLQAAAACAUB0xAAAAAwEokTEAAAAAg1SZMQAAAAABSFkxAAAAAIJcXTEAAAADgyORLQAAAAOBovUtAAAAAAOd9S0AAAACgVlpLQAAAAACGhUtAAAAAgJm5S0AAAABgcYBLQAAAAGCEqEpAAAAA4HoUS0AAAACgmTlKQAAAAGBmJkpAAAAAwPWISkAAAADAHsVKQAAAAOB6dEtAAAAAQOGaS0AAAAAAAIBLQAAAAIAUbktAAAAAANcjTEAAAACgR+FMQAAAAEAK10xA\",\"dtype\":\"float64\",\"order\":\"little\",\"shape\":[129]}},\"selected\":{\"id\":\"1091\"},\"selection_policy\":{\"id\":\"1092\"}},\"id\":\"1064\",\"type\":\"ColumnDataSource\"},{\"attributes\":{},\"id\":\"1005\",\"type\":\"DataRange1d\"},{\"attributes\":{\"data_source\":{\"id\":\"1064\"},\"glyph\":{\"id\":\"1065\"},\"hover_glyph\":null,\"muted_glyph\":null,\"nonselection_glyph\":{\"id\":\"1066\"},\"view\":{\"id\":\"1068\"}},\"id\":\"1067\",\"type\":\"GlyphRenderer\"},{\"attributes\":{\"line_alpha\":0.1,\"line_color\":\"red\",\"x\":{\"field\":\"x\"},\"y\":{\"field\":\"y\"}},\"id\":\"1129\",\"type\":\"Line\"},{\"attributes\":{\"label\":{\"value\":\"Cocacola\"},\"renderers\":[{\"id\":\"1067\"}]},\"id\":\"1093\",\"type\":\"LegendItem\"},{\"attributes\":{\"label\":{\"value\":\"Pepsi\"},\"renderers\":[{\"id\":\"1130\"}]},\"id\":\"1155\",\"type\":\"LegendItem\"},{\"attributes\":{},\"id\":\"1007\",\"type\":\"DataRange1d\"},{\"attributes\":{\"source\":{\"id\":\"1064\"}},\"id\":\"1068\",\"type\":\"CDSView\"},{\"attributes\":{\"days\":[1,2,3,4,5,6,7,8,9,10,11,12,13,14,15,16,17,18,19,20,21,22,23,24,25,26,27,28,29,30,31]},\"id\":\"1051\",\"type\":\"DaysTicker\"},{\"attributes\":{\"line_alpha\":0.1,\"line_color\":\"blue\",\"x\":{\"field\":\"x\"},\"y\":{\"field\":\"y\"}},\"id\":\"1066\",\"type\":\"Line\"},{\"attributes\":{},\"id\":\"1134\",\"type\":\"DatetimeTickFormatter\"},{\"attributes\":{},\"id\":\"1009\",\"type\":\"LinearScale\"},{\"attributes\":{\"text\":\"Pepsi vs Cocacola Market Cap\"},\"id\":\"1095\",\"type\":\"Title\"},{\"attributes\":{\"source\":{\"id\":\"1127\"}},\"id\":\"1131\",\"type\":\"CDSView\"},{\"attributes\":{},\"id\":\"1011\",\"type\":\"LogScale\"},{\"attributes\":{\"items\":[{\"id\":\"1155\"},{\"id\":\"1185\"}]},\"id\":\"1154\",\"type\":\"Legend\"},{\"attributes\":{},\"id\":\"1059\",\"type\":\"YearsTicker\"},{\"attributes\":{},\"id\":\"1091\",\"type\":\"Selection\"},{\"attributes\":{\"days\":[1,4,7,10,13,16,19,22,25,28]},\"id\":\"1144\",\"type\":\"DaysTicker\"},{\"attributes\":{\"axis_label\":\"Date\",\"formatter\":{\"id\":\"1042\"},\"major_label_policy\":{\"id\":\"1041\"},\"ticker\":{\"id\":\"1014\"}},\"id\":\"1013\",\"type\":\"DatetimeAxis\"},{\"attributes\":{\"base\":60,\"mantissas\":[1,2,5,10,15,20,30],\"max_interval\":1800000.0,\"min_interval\":1000.0,\"num_minor_ticks\":0},\"id\":\"1049\",\"type\":\"AdaptiveTicker\"},{\"attributes\":{\"months\":[0,1,2,3,4,5,6,7,8,9,10,11]},\"id\":\"1147\",\"type\":\"MonthsTicker\"},{\"attributes\":{\"num_minor_ticks\":10},\"id\":\"1018\",\"type\":\"LogTicker\"},{\"attributes\":{},\"id\":\"1061\",\"type\":\"UnionRenderers\"},{\"attributes\":{\"data_source\":{\"id\":\"1127\"},\"glyph\":{\"id\":\"1128\"},\"hover_glyph\":null,\"muted_glyph\":null,\"nonselection_glyph\":{\"id\":\"1129\"},\"view\":{\"id\":\"1131\"}},\"id\":\"1130\",\"type\":\"GlyphRenderer\"},{\"attributes\":{\"num_minor_ticks\":5,\"tickers\":[{\"id\":\"1048\"},{\"id\":\"1049\"},{\"id\":\"1050\"},{\"id\":\"1051\"},{\"id\":\"1052\"},{\"id\":\"1053\"},{\"id\":\"1054\"},{\"id\":\"1055\"},{\"id\":\"1056\"},{\"id\":\"1057\"},{\"id\":\"1058\"},{\"id\":\"1059\"}]},\"id\":\"1014\",\"type\":\"DatetimeTicker\"},{\"attributes\":{\"base\":24,\"mantissas\":[1,2,4,6,8,12],\"max_interval\":43200000.0,\"min_interval\":3600000.0,\"num_minor_ticks\":0},\"id\":\"1050\",\"type\":\"AdaptiveTicker\"},{\"attributes\":{\"axis\":{\"id\":\"1013\"},\"ticker\":null},\"id\":\"1016\",\"type\":\"Grid\"},{\"attributes\":{},\"id\":\"1060\",\"type\":\"Selection\"},{\"attributes\":{\"months\":[0,1,2,3,4,5,6,7,8,9,10,11]},\"id\":\"1055\",\"type\":\"MonthsTicker\"},{\"attributes\":{},\"id\":\"1092\",\"type\":\"UnionRenderers\"},{\"attributes\":{\"axis\":{\"id\":\"1017\"},\"dimension\":1,\"ticker\":null},\"id\":\"1020\",\"type\":\"Grid\"},{\"attributes\":{\"axis_label\":\"Price\",\"formatter\":{\"id\":\"1045\"},\"major_label_policy\":{\"id\":\"1044\"},\"ticker\":{\"id\":\"1018\"}},\"id\":\"1017\",\"type\":\"LogAxis\"},{\"attributes\":{},\"id\":\"1099\",\"type\":\"DataRange1d\"},{\"attributes\":{\"days\":[1,15]},\"id\":\"1054\",\"type\":\"DaysTicker\"},{\"attributes\":{\"months\":[0,6]},\"id\":\"1058\",\"type\":\"MonthsTicker\"},{\"attributes\":{\"base\":60,\"mantissas\":[1,2,5,10,15,20,30],\"max_interval\":1800000.0,\"min_interval\":1000.0,\"num_minor_ticks\":0},\"id\":\"1141\",\"type\":\"AdaptiveTicker\"},{\"attributes\":{},\"id\":\"1042\",\"type\":\"DatetimeTickFormatter\"},{\"attributes\":{\"days\":[1,4,7,10,13,16,19,22,25,28]},\"id\":\"1052\",\"type\":\"DaysTicker\"},{\"attributes\":{},\"id\":\"1097\",\"type\":\"DataRange1d\"},{\"attributes\":{\"days\":[1,8,15,22]},\"id\":\"1145\",\"type\":\"DaysTicker\"},{\"attributes\":{\"line_color\":\"red\",\"x\":{\"field\":\"x\"},\"y\":{\"field\":\"y\"}},\"id\":\"1128\",\"type\":\"Line\"},{\"attributes\":{\"bottom_units\":\"screen\",\"fill_alpha\":0.5,\"fill_color\":\"lightgrey\",\"left_units\":\"screen\",\"level\":\"overlay\",\"line_alpha\":1.0,\"line_color\":\"black\",\"line_dash\":[4,4],\"line_width\":2,\"right_units\":\"screen\",\"syncable\":false,\"top_units\":\"screen\"},\"id\":\"1119\",\"type\":\"BoxAnnotation\"},{\"attributes\":{\"months\":[0,2,4,6,8,10]},\"id\":\"1148\",\"type\":\"MonthsTicker\"},{\"attributes\":{\"axis_label\":\"Market Cap\",\"formatter\":{\"id\":\"1137\"},\"major_label_policy\":{\"id\":\"1136\"},\"ticker\":{\"id\":\"1110\"}},\"id\":\"1109\",\"type\":\"LogAxis\"},{\"attributes\":{\"data\":{\"x\":{\"__ndarray__\":\"AAAAFn2gd0IAAMB7z6B3QgAAgOEhoXdCAABAR3Shd0IAAACtxqF3QgAAQN69ondCAAAARBCjd0IAAMCpYqN3QgAAgA+1o3dCAABAdQekd0IAAICm/qR3QgAAQAxRpXdCAAAAcqOld0IAAMDX9aV3QgAAgD1IpndCAACA1JGnd0IAAEA65Kd3QgAAAKA2qHdCAADABYmod0IAAAA3gKl3QgAAwJzSqXdCAACAAiWqd0IAAEBod6p3QgAAAM7JqndCAABA/8Crd0IAAABlE6x3QgAAwMplrHdCAACAMLisd0IAAECWCq13QgAAgMcBrndCAABALVSud0IAAACTpq53QgAAwPj4rndCAACAXkuvd0IAAMCPQrB3QgAAgPWUsHdCAABAW+ewd0IAAADBObF3QgAAwCaMsXdCAAAAWIOyd0IAAMC91bJ3QgAAgCMos3dCAABAiXqzd0IAAADvzLN3QgAAQCDEtHdCAAAAhha1d0IAAMDraLV3QgAAgFG7tXdCAABAtw22d0IAAIDoBLd3QgAAQE5Xt3dCAAAAtKm3d0IAAMAZ/Ld3QgAAgH9OuHdCAADAsEW5d0IAAIAWmLl3QgAAQHzquXdCAAAA4jy6d0IAAMBHj7p3QgAAwN7Yu3dCAACARCu8d0IAAECqfbx3QgAAABDQvHdCAABAQce9d0IAAACnGb53QgAAwAxsvndCAACAcr6+d0IAAEDYEL93QgAAgAkIwHdCAABAb1rAd0IAAADVrMB3QgAAwDr/wHdCAACAoFHBd0IAAMDRSMJ3QgAAgDebwndCAABAne3Cd0IAAAADQMN3QgAAwGiSw3dCAAAAmonEd0IAAMD/28R3QgAAgGUuxXdCAABAy4DFd0IAAAAx08V3QgAAQGLKxndCAAAAyBzHd0IAAMAtb8d3QgAAgJPBx3dCAABA+RPId0IAAIAqC8l3QgAAQJBdyXdCAAAA9q/Jd0IAAMBbAsp3QgAAgMFUyndCAADA8kvLd0IAAIBYnst3QgAAQL7wy3dCAAAAJEPMd0IAAMCJlcx3QgAAALuMzXdCAADAIN/Nd0IAAICGMc53QgAAQOyDzndCAAAAUtbOd0IAAECDzc93QgAAAOkf0HdCAADATnLQd0IAAIC0xNB3QgAAQBoX0XdCAACASw7Sd0IAAECxYNJ3QgAAABez0ndCAADAfAXTd0IAAIDiV9N3QgAAwBNP1HdCAACAeaHUd0IAAEDf89R3QgAAwKqY1XdCAAAA3I/Wd0IAAMBB4tZ3QgAAgKc013dCAABADYfXd0IAAABz2dd3QgAAQKTQ2HdCAAAACiPZd0IAAMBvddl3QgAAgNXH2XdCAABAOxrad0IAAIBsEdt3QgAAQNJj23dC\",\"dtype\":\"float64\",\"order\":\"little\",\"shape\":[129]},\"y\":{\"__ndarray__\":\"AAAAgC5SYkAAAABAf1JiQAAAAIDGI2JAAAAAYJpQYkAAAABAve5hQAAAAEC6EmJAAAAAQKwZYkAAAADAvtxhQAAAAMCh9mFAAAAAIP4NYkAAAACA4SFiQAAAAGC5HmJAAAAAwI1FYkAAAABAgEZiQAAAAEDqXGJAAAAAINxjYkAAAADgsXhiQAAAAMDnemJAAAAAwOhuYkAAAAAA229iQAAAAMDE3GJAAAAAoKUOY0AAAACgDyVjQAAAAEAON2NAAAAAgGw2Y0AAAABADjdjQAAAAOC+JGNAAAAAwCojY0AAAAAg/WFjQAAAAECEXmNAAAAAIPt5Y0AAAADgNExjQAAAAOBOVmNAAAAAYLpaY0AAAAAA10ZjQAAAAIDjUWNAAAAAwC3/YkAAAADgYgdjQAAAAKAECGNAAAAAQKYIY0AAAACgLAtjQAAAAGBuHmNAAAAAAGEfY0AAAABgJ01jQAAAACB0fWNAAAAA4Ld4Y0AAAADAk0VjQAAAAICamGNAAAAAoOyGY0AAAADgI3djQAAAAOBDOWNAAAAAoHsjY0AAAAAgfRFjQAAAAGBGG2NAAAAA4Lw8Y0AAAADADEljQAAAAOAIeWNAAAAAgLB8Y0AAAACgI4FjQAAAAADFL2NAAAAAAGF1Y0AAAABg6VVjQAAAAGBUTWNAAAAAYN1WY0AAAADgeUNjQAAAACAhX2NAAAAAAIJQY0AAAAAgDiNjQAAAAOCGEmNAAAAAQE0QY0AAAACgPR9jQAAAACAOI2NAAAAAwEclY0AAAAAAPfZiQAAAACAowWJAAAAAYOPoYkAAAACA0KxiQAAAAGD6vWJAAAAAoCOmYkAAAACgbcJiQAAAAOBvPWNAAAAAwONqY0AAAACAcl9jQAAAAEAfZmNAAAAAwA18Y0AAAAAgv51jQAAAAAAdxmNAAAAAYM+3Y0AAAADA7KBjQAAAACDQ4GNAAAAA4EUHZEAAAAAAksNjQAAAAGCu3GNAAAAAgNfEY0AAAADA0gJkQAAAAAAG8WNAAAAAYCARZEAAAADAfRBkQAAAAACvBWRAAAAA4Lk0ZEAAAACgT2ZkQAAAAOCgZmRAAAAAgFicZEAAAABA3ypkQAAAAEAzTWRAAAAA4AteZEAAAAAAIzNkQAAAAIDdMWRAAAAAIGtWZEAAAADg10ZkQAAAACDASGRAAAAAAFdKZEAAAABgvFZkQAAAAACLYWRAAAAAwIGEZEAAAADgglRkQAAAAKDeAWRAAAAAoDlhZEAAAABApNZjQAAAAGC44mNAAAAAANcTZEAAAABguJZkQAAAAKBwzWRAAAAAIFzHZEAAAADgo9BkQAAAAIDryWRAAAAAQAofZUAAAACA6zllQAAAACBcJ2VA\",\"dtype\":\"float64\",\"order\":\"little\",\"shape\":[129]}},\"selected\":{\"id\":\"1060\"},\"selection_policy\":{\"id\":\"1061\"}},\"id\":\"1035\",\"type\":\"ColumnDataSource\"},{\"attributes\":{\"num_minor_ticks\":10},\"id\":\"1110\",\"type\":\"LogTicker\"},{\"attributes\":{},\"id\":\"1101\",\"type\":\"LinearScale\"},{\"attributes\":{},\"id\":\"1021\",\"type\":\"PanTool\"},{\"attributes\":{\"days\":[1,8,15,22]},\"id\":\"1053\",\"type\":\"DaysTicker\"},{\"attributes\":{\"months\":[0,6]},\"id\":\"1150\",\"type\":\"MonthsTicker\"},{\"attributes\":{\"data_source\":{\"id\":\"1035\"},\"glyph\":{\"id\":\"1036\"},\"hover_glyph\":null,\"muted_glyph\":null,\"nonselection_glyph\":{\"id\":\"1037\"},\"view\":{\"id\":\"1039\"}},\"id\":\"1038\",\"type\":\"GlyphRenderer\"},{\"attributes\":{\"base\":24,\"mantissas\":[1,2,4,6,8,12],\"max_interval\":43200000.0,\"min_interval\":3600000.0,\"num_minor_ticks\":0},\"id\":\"1142\",\"type\":\"AdaptiveTicker\"},{\"attributes\":{},\"id\":\"1103\",\"type\":\"LogScale\"},{\"attributes\":{},\"id\":\"1022\",\"type\":\"WheelZoomTool\"},{\"attributes\":{\"months\":[0,4,8]},\"id\":\"1149\",\"type\":\"MonthsTicker\"},{\"attributes\":{},\"id\":\"1024\",\"type\":\"SaveTool\"},{\"attributes\":{\"axis_label\":\"Date\",\"formatter\":{\"id\":\"1134\"},\"major_label_policy\":{\"id\":\"1133\"},\"ticker\":{\"id\":\"1106\"}},\"id\":\"1105\",\"type\":\"DatetimeAxis\"},{\"attributes\":{\"overlay\":{\"id\":\"1027\"}},\"id\":\"1023\",\"type\":\"BoxZoomTool\"},{\"attributes\":{\"days\":[1,2,3,4,5,6,7,8,9,10,11,12,13,14,15,16,17,18,19,20,21,22,23,24,25,26,27,28,29,30,31]},\"id\":\"1143\",\"type\":\"DaysTicker\"},{\"attributes\":{\"axis\":{\"id\":\"1105\"},\"ticker\":null},\"id\":\"1108\",\"type\":\"Grid\"},{\"attributes\":{\"num_minor_ticks\":5,\"tickers\":[{\"id\":\"1140\"},{\"id\":\"1141\"},{\"id\":\"1142\"},{\"id\":\"1143\"},{\"id\":\"1144\"},{\"id\":\"1145\"},{\"id\":\"1146\"},{\"id\":\"1147\"},{\"id\":\"1148\"},{\"id\":\"1149\"},{\"id\":\"1150\"},{\"id\":\"1151\"}]},\"id\":\"1106\",\"type\":\"DatetimeTicker\"}],\"root_ids\":[\"1186\"]},\"title\":\"Bokeh Application\",\"version\":\"2.3.3\"}};\n",
              "  var render_items = [{\"docid\":\"d6f3517c-e3eb-4641-a423-32620ff2f541\",\"root_ids\":[\"1186\"],\"roots\":{\"1186\":\"cd85961f-baf5-4815-8677-4b51730b816c\"}}];\n",
              "  root.Bokeh.embed.embed_items_notebook(docs_json, render_items);\n",
              "\n",
              "  }\n",
              "  if (root.Bokeh !== undefined) {\n",
              "    embed_document(root);\n",
              "  } else {\n",
              "    var attempts = 0;\n",
              "    var timer = setInterval(function(root) {\n",
              "      if (root.Bokeh !== undefined) {\n",
              "        clearInterval(timer);\n",
              "        embed_document(root);\n",
              "      } else {\n",
              "        attempts++;\n",
              "        if (attempts > 100) {\n",
              "          clearInterval(timer);\n",
              "          console.log(\"Bokeh: ERROR: Unable to run BokehJS code because BokehJS library is missing\");\n",
              "        }\n",
              "      }\n",
              "    }, 10, root)\n",
              "  }\n",
              "})(window);"
            ],
            "application/vnd.bokehjs_exec.v0+json": ""
          },
          "metadata": {
            "application/vnd.bokehjs_exec.v0+json": {
              "id": "1186"
            }
          }
        },
        {
          "output_type": "stream",
          "name": "stdout",
          "text": [
            "time: 185 ms (started: 2021-12-14 15:00:16 +00:00)\n"
          ]
        }
      ]
    },
    {
      "cell_type": "markdown",
      "metadata": {
        "id": "WJfvTXKDay0g"
      },
      "source": [
        "Below figure of Pepsi Vs Cocacola Market Volume defines, the Volume distribution from June 2021 to November 2021. In which, we can see Cocacola has been the highest in terms of volume as compare to Pepsi. We have seen more variation in Pepsi Volume as compare to Cocacola. Volume is seen fluctuating always."
      ]
    },
    {
      "cell_type": "code",
      "metadata": {
        "id": "nuLkdKqMT-YZ",
        "colab": {
          "base_uri": "https://localhost:8080/",
          "height": 635
        },
        "outputId": "b6ce7191-b94c-434e-f90c-6862c9028fbc"
      },
      "source": [
        "p = figure(plot_width = 1000, plot_height = 600, title = 'Pepsi vs Cocacola Market Volume', x_axis_label = 'Date',x_axis_type=\"datetime\",y_axis_type=\"log\", y_axis_label = 'Volume')\n",
        "p.line(pepsi_hist.index, pepsi_hist[\"Volume\"] ,line_color=\"red\", legend_label=\"Pepsi\")\n",
        "p.line(coca_hist.index, coca_hist[\"Volume\"] ,line_color=\"blue\", legend_label=\"Coca Cola\")\n",
        "output_notebook()\n",
        "show(p)"
      ],
      "execution_count": 15,
      "outputs": [
        {
          "output_type": "display_data",
          "data": {
            "application/javascript": [
              "\n",
              "(function(root) {\n",
              "  function now() {\n",
              "    return new Date();\n",
              "  }\n",
              "\n",
              "  var force = true;\n",
              "\n",
              "  if (typeof root._bokeh_onload_callbacks === \"undefined\" || force === true) {\n",
              "    root._bokeh_onload_callbacks = [];\n",
              "    root._bokeh_is_loading = undefined;\n",
              "  }\n",
              "\n",
              "  var JS_MIME_TYPE = 'application/javascript';\n",
              "  var HTML_MIME_TYPE = 'text/html';\n",
              "  var EXEC_MIME_TYPE = 'application/vnd.bokehjs_exec.v0+json';\n",
              "  var CLASS_NAME = 'output_bokeh rendered_html';\n",
              "\n",
              "  /**\n",
              "   * Render data to the DOM node\n",
              "   */\n",
              "  function render(props, node) {\n",
              "    var script = document.createElement(\"script\");\n",
              "    node.appendChild(script);\n",
              "  }\n",
              "\n",
              "  /**\n",
              "   * Handle when an output is cleared or removed\n",
              "   */\n",
              "  function handleClearOutput(event, handle) {\n",
              "    var cell = handle.cell;\n",
              "\n",
              "    var id = cell.output_area._bokeh_element_id;\n",
              "    var server_id = cell.output_area._bokeh_server_id;\n",
              "    // Clean up Bokeh references\n",
              "    if (id != null && id in Bokeh.index) {\n",
              "      Bokeh.index[id].model.document.clear();\n",
              "      delete Bokeh.index[id];\n",
              "    }\n",
              "\n",
              "    if (server_id !== undefined) {\n",
              "      // Clean up Bokeh references\n",
              "      var cmd = \"from bokeh.io.state import curstate; print(curstate().uuid_to_server['\" + server_id + \"'].get_sessions()[0].document.roots[0]._id)\";\n",
              "      cell.notebook.kernel.execute(cmd, {\n",
              "        iopub: {\n",
              "          output: function(msg) {\n",
              "            var id = msg.content.text.trim();\n",
              "            if (id in Bokeh.index) {\n",
              "              Bokeh.index[id].model.document.clear();\n",
              "              delete Bokeh.index[id];\n",
              "            }\n",
              "          }\n",
              "        }\n",
              "      });\n",
              "      // Destroy server and session\n",
              "      var cmd = \"import bokeh.io.notebook as ion; ion.destroy_server('\" + server_id + \"')\";\n",
              "      cell.notebook.kernel.execute(cmd);\n",
              "    }\n",
              "  }\n",
              "\n",
              "  /**\n",
              "   * Handle when a new output is added\n",
              "   */\n",
              "  function handleAddOutput(event, handle) {\n",
              "    var output_area = handle.output_area;\n",
              "    var output = handle.output;\n",
              "\n",
              "    // limit handleAddOutput to display_data with EXEC_MIME_TYPE content only\n",
              "    if ((output.output_type != \"display_data\") || (!Object.prototype.hasOwnProperty.call(output.data, EXEC_MIME_TYPE))) {\n",
              "      return\n",
              "    }\n",
              "\n",
              "    var toinsert = output_area.element.find(\".\" + CLASS_NAME.split(' ')[0]);\n",
              "\n",
              "    if (output.metadata[EXEC_MIME_TYPE][\"id\"] !== undefined) {\n",
              "      toinsert[toinsert.length - 1].firstChild.textContent = output.data[JS_MIME_TYPE];\n",
              "      // store reference to embed id on output_area\n",
              "      output_area._bokeh_element_id = output.metadata[EXEC_MIME_TYPE][\"id\"];\n",
              "    }\n",
              "    if (output.metadata[EXEC_MIME_TYPE][\"server_id\"] !== undefined) {\n",
              "      var bk_div = document.createElement(\"div\");\n",
              "      bk_div.innerHTML = output.data[HTML_MIME_TYPE];\n",
              "      var script_attrs = bk_div.children[0].attributes;\n",
              "      for (var i = 0; i < script_attrs.length; i++) {\n",
              "        toinsert[toinsert.length - 1].firstChild.setAttribute(script_attrs[i].name, script_attrs[i].value);\n",
              "        toinsert[toinsert.length - 1].firstChild.textContent = bk_div.children[0].textContent\n",
              "      }\n",
              "      // store reference to server id on output_area\n",
              "      output_area._bokeh_server_id = output.metadata[EXEC_MIME_TYPE][\"server_id\"];\n",
              "    }\n",
              "  }\n",
              "\n",
              "  function register_renderer(events, OutputArea) {\n",
              "\n",
              "    function append_mime(data, metadata, element) {\n",
              "      // create a DOM node to render to\n",
              "      var toinsert = this.create_output_subarea(\n",
              "        metadata,\n",
              "        CLASS_NAME,\n",
              "        EXEC_MIME_TYPE\n",
              "      );\n",
              "      this.keyboard_manager.register_events(toinsert);\n",
              "      // Render to node\n",
              "      var props = {data: data, metadata: metadata[EXEC_MIME_TYPE]};\n",
              "      render(props, toinsert[toinsert.length - 1]);\n",
              "      element.append(toinsert);\n",
              "      return toinsert\n",
              "    }\n",
              "\n",
              "    /* Handle when an output is cleared or removed */\n",
              "    events.on('clear_output.CodeCell', handleClearOutput);\n",
              "    events.on('delete.Cell', handleClearOutput);\n",
              "\n",
              "    /* Handle when a new output is added */\n",
              "    events.on('output_added.OutputArea', handleAddOutput);\n",
              "\n",
              "    /**\n",
              "     * Register the mime type and append_mime function with output_area\n",
              "     */\n",
              "    OutputArea.prototype.register_mime_type(EXEC_MIME_TYPE, append_mime, {\n",
              "      /* Is output safe? */\n",
              "      safe: true,\n",
              "      /* Index of renderer in `output_area.display_order` */\n",
              "      index: 0\n",
              "    });\n",
              "  }\n",
              "\n",
              "  // register the mime type if in Jupyter Notebook environment and previously unregistered\n",
              "  if (root.Jupyter !== undefined) {\n",
              "    var events = require('base/js/events');\n",
              "    var OutputArea = require('notebook/js/outputarea').OutputArea;\n",
              "\n",
              "    if (OutputArea.prototype.mime_types().indexOf(EXEC_MIME_TYPE) == -1) {\n",
              "      register_renderer(events, OutputArea);\n",
              "    }\n",
              "  }\n",
              "\n",
              "  \n",
              "  if (typeof (root._bokeh_timeout) === \"undefined\" || force === true) {\n",
              "    root._bokeh_timeout = Date.now() + 5000;\n",
              "    root._bokeh_failed_load = false;\n",
              "  }\n",
              "\n",
              "  var NB_LOAD_WARNING = {'data': {'text/html':\n",
              "     \"<div style='background-color: #fdd'>\\n\"+\n",
              "     \"<p>\\n\"+\n",
              "     \"BokehJS does not appear to have successfully loaded. If loading BokehJS from CDN, this \\n\"+\n",
              "     \"may be due to a slow or bad network connection. Possible fixes:\\n\"+\n",
              "     \"</p>\\n\"+\n",
              "     \"<ul>\\n\"+\n",
              "     \"<li>re-rerun `output_notebook()` to attempt to load from CDN again, or</li>\\n\"+\n",
              "     \"<li>use INLINE resources instead, as so:</li>\\n\"+\n",
              "     \"</ul>\\n\"+\n",
              "     \"<code>\\n\"+\n",
              "     \"from bokeh.resources import INLINE\\n\"+\n",
              "     \"output_notebook(resources=INLINE)\\n\"+\n",
              "     \"</code>\\n\"+\n",
              "     \"</div>\"}};\n",
              "\n",
              "  function display_loaded() {\n",
              "    var el = document.getElementById(null);\n",
              "    if (el != null) {\n",
              "      el.textContent = \"BokehJS is loading...\";\n",
              "    }\n",
              "    if (root.Bokeh !== undefined) {\n",
              "      if (el != null) {\n",
              "        el.textContent = \"BokehJS \" + root.Bokeh.version + \" successfully loaded.\";\n",
              "      }\n",
              "    } else if (Date.now() < root._bokeh_timeout) {\n",
              "      setTimeout(display_loaded, 100)\n",
              "    }\n",
              "  }\n",
              "\n",
              "\n",
              "  function run_callbacks() {\n",
              "    try {\n",
              "      root._bokeh_onload_callbacks.forEach(function(callback) {\n",
              "        if (callback != null)\n",
              "          callback();\n",
              "      });\n",
              "    } finally {\n",
              "      delete root._bokeh_onload_callbacks\n",
              "    }\n",
              "    console.debug(\"Bokeh: all callbacks have finished\");\n",
              "  }\n",
              "\n",
              "  function load_libs(css_urls, js_urls, callback) {\n",
              "    if (css_urls == null) css_urls = [];\n",
              "    if (js_urls == null) js_urls = [];\n",
              "\n",
              "    root._bokeh_onload_callbacks.push(callback);\n",
              "    if (root._bokeh_is_loading > 0) {\n",
              "      console.debug(\"Bokeh: BokehJS is being loaded, scheduling callback at\", now());\n",
              "      return null;\n",
              "    }\n",
              "    if (js_urls == null || js_urls.length === 0) {\n",
              "      run_callbacks();\n",
              "      return null;\n",
              "    }\n",
              "    console.debug(\"Bokeh: BokehJS not loaded, scheduling load and callback at\", now());\n",
              "    root._bokeh_is_loading = css_urls.length + js_urls.length;\n",
              "\n",
              "    function on_load() {\n",
              "      root._bokeh_is_loading--;\n",
              "      if (root._bokeh_is_loading === 0) {\n",
              "        console.debug(\"Bokeh: all BokehJS libraries/stylesheets loaded\");\n",
              "        run_callbacks()\n",
              "      }\n",
              "    }\n",
              "\n",
              "    function on_error(url) {\n",
              "      console.error(\"failed to load \" + url);\n",
              "    }\n",
              "\n",
              "    for (let i = 0; i < css_urls.length; i++) {\n",
              "      const url = css_urls[i];\n",
              "      const element = document.createElement(\"link\");\n",
              "      element.onload = on_load;\n",
              "      element.onerror = on_error.bind(null, url);\n",
              "      element.rel = \"stylesheet\";\n",
              "      element.type = \"text/css\";\n",
              "      element.href = url;\n",
              "      console.debug(\"Bokeh: injecting link tag for BokehJS stylesheet: \", url);\n",
              "      document.body.appendChild(element);\n",
              "    }\n",
              "\n",
              "    const hashes = {\"https://cdn.bokeh.org/bokeh/release/bokeh-2.3.3.min.js\": \"dM3QQsP+wXdHg42wTqW85BjZQdLNNIXqlPw/BgKoExPmTG7ZLML4EGqLMfqHT6ON\", \"https://cdn.bokeh.org/bokeh/release/bokeh-tables-2.3.3.min.js\": \"8x57I4YuIfu8XyZfFo0XVr2WAT8EK4rh/uDe3wF7YuW2FNUSNEpJbsPaB1nJ2fz2\", \"https://cdn.bokeh.org/bokeh/release/bokeh-widgets-2.3.3.min.js\": \"3QTqdz9LyAm2i0sG5XTePsHec3UHWwVsrOL68SYRoAXsafvfAyqtQ+h440+qIBhS\"};\n",
              "\n",
              "    for (let i = 0; i < js_urls.length; i++) {\n",
              "      const url = js_urls[i];\n",
              "      const element = document.createElement('script');\n",
              "      element.onload = on_load;\n",
              "      element.onerror = on_error.bind(null, url);\n",
              "      element.async = false;\n",
              "      element.src = url;\n",
              "      if (url in hashes) {\n",
              "        element.crossOrigin = \"anonymous\";\n",
              "        element.integrity = \"sha384-\" + hashes[url];\n",
              "      }\n",
              "      console.debug(\"Bokeh: injecting script tag for BokehJS library: \", url);\n",
              "      document.head.appendChild(element);\n",
              "    }\n",
              "  };\n",
              "\n",
              "  function inject_raw_css(css) {\n",
              "    const element = document.createElement(\"style\");\n",
              "    element.appendChild(document.createTextNode(css));\n",
              "    document.body.appendChild(element);\n",
              "  }\n",
              "\n",
              "  \n",
              "  var js_urls = [\"https://cdn.bokeh.org/bokeh/release/bokeh-2.3.3.min.js\", \"https://cdn.bokeh.org/bokeh/release/bokeh-widgets-2.3.3.min.js\", \"https://cdn.bokeh.org/bokeh/release/bokeh-tables-2.3.3.min.js\"];\n",
              "  var css_urls = [];\n",
              "  \n",
              "\n",
              "  var inline_js = [\n",
              "    function(Bokeh) {\n",
              "      Bokeh.set_log_level(\"info\");\n",
              "    },\n",
              "    function(Bokeh) {\n",
              "    \n",
              "    \n",
              "    }\n",
              "  ];\n",
              "\n",
              "  function run_inline_js() {\n",
              "    \n",
              "    if (root.Bokeh !== undefined || force === true) {\n",
              "      \n",
              "    for (var i = 0; i < inline_js.length; i++) {\n",
              "      inline_js[i].call(root, root.Bokeh);\n",
              "    }\n",
              "    } else if (Date.now() < root._bokeh_timeout) {\n",
              "      setTimeout(run_inline_js, 100);\n",
              "    } else if (!root._bokeh_failed_load) {\n",
              "      console.log(\"Bokeh: BokehJS failed to load within specified timeout.\");\n",
              "      root._bokeh_failed_load = true;\n",
              "    } else if (force !== true) {\n",
              "      var cell = $(document.getElementById(null)).parents('.cell').data().cell;\n",
              "      cell.output_area.append_execute_result(NB_LOAD_WARNING)\n",
              "    }\n",
              "\n",
              "  }\n",
              "\n",
              "  if (root._bokeh_is_loading === 0) {\n",
              "    console.debug(\"Bokeh: BokehJS loaded, going straight to plotting\");\n",
              "    run_inline_js();\n",
              "  } else {\n",
              "    load_libs(css_urls, js_urls, function() {\n",
              "      console.debug(\"Bokeh: BokehJS plotting callback run at\", now());\n",
              "      run_inline_js();\n",
              "    });\n",
              "  }\n",
              "}(window));"
            ],
            "application/vnd.bokehjs_load.v0+json": "\n(function(root) {\n  function now() {\n    return new Date();\n  }\n\n  var force = true;\n\n  if (typeof root._bokeh_onload_callbacks === \"undefined\" || force === true) {\n    root._bokeh_onload_callbacks = [];\n    root._bokeh_is_loading = undefined;\n  }\n\n  \n\n  \n  if (typeof (root._bokeh_timeout) === \"undefined\" || force === true) {\n    root._bokeh_timeout = Date.now() + 5000;\n    root._bokeh_failed_load = false;\n  }\n\n  var NB_LOAD_WARNING = {'data': {'text/html':\n     \"<div style='background-color: #fdd'>\\n\"+\n     \"<p>\\n\"+\n     \"BokehJS does not appear to have successfully loaded. If loading BokehJS from CDN, this \\n\"+\n     \"may be due to a slow or bad network connection. Possible fixes:\\n\"+\n     \"</p>\\n\"+\n     \"<ul>\\n\"+\n     \"<li>re-rerun `output_notebook()` to attempt to load from CDN again, or</li>\\n\"+\n     \"<li>use INLINE resources instead, as so:</li>\\n\"+\n     \"</ul>\\n\"+\n     \"<code>\\n\"+\n     \"from bokeh.resources import INLINE\\n\"+\n     \"output_notebook(resources=INLINE)\\n\"+\n     \"</code>\\n\"+\n     \"</div>\"}};\n\n  function display_loaded() {\n    var el = document.getElementById(null);\n    if (el != null) {\n      el.textContent = \"BokehJS is loading...\";\n    }\n    if (root.Bokeh !== undefined) {\n      if (el != null) {\n        el.textContent = \"BokehJS \" + root.Bokeh.version + \" successfully loaded.\";\n      }\n    } else if (Date.now() < root._bokeh_timeout) {\n      setTimeout(display_loaded, 100)\n    }\n  }\n\n\n  function run_callbacks() {\n    try {\n      root._bokeh_onload_callbacks.forEach(function(callback) {\n        if (callback != null)\n          callback();\n      });\n    } finally {\n      delete root._bokeh_onload_callbacks\n    }\n    console.debug(\"Bokeh: all callbacks have finished\");\n  }\n\n  function load_libs(css_urls, js_urls, callback) {\n    if (css_urls == null) css_urls = [];\n    if (js_urls == null) js_urls = [];\n\n    root._bokeh_onload_callbacks.push(callback);\n    if (root._bokeh_is_loading > 0) {\n      console.debug(\"Bokeh: BokehJS is being loaded, scheduling callback at\", now());\n      return null;\n    }\n    if (js_urls == null || js_urls.length === 0) {\n      run_callbacks();\n      return null;\n    }\n    console.debug(\"Bokeh: BokehJS not loaded, scheduling load and callback at\", now());\n    root._bokeh_is_loading = css_urls.length + js_urls.length;\n\n    function on_load() {\n      root._bokeh_is_loading--;\n      if (root._bokeh_is_loading === 0) {\n        console.debug(\"Bokeh: all BokehJS libraries/stylesheets loaded\");\n        run_callbacks()\n      }\n    }\n\n    function on_error(url) {\n      console.error(\"failed to load \" + url);\n    }\n\n    for (let i = 0; i < css_urls.length; i++) {\n      const url = css_urls[i];\n      const element = document.createElement(\"link\");\n      element.onload = on_load;\n      element.onerror = on_error.bind(null, url);\n      element.rel = \"stylesheet\";\n      element.type = \"text/css\";\n      element.href = url;\n      console.debug(\"Bokeh: injecting link tag for BokehJS stylesheet: \", url);\n      document.body.appendChild(element);\n    }\n\n    const hashes = {\"https://cdn.bokeh.org/bokeh/release/bokeh-2.3.3.min.js\": \"dM3QQsP+wXdHg42wTqW85BjZQdLNNIXqlPw/BgKoExPmTG7ZLML4EGqLMfqHT6ON\", \"https://cdn.bokeh.org/bokeh/release/bokeh-tables-2.3.3.min.js\": \"8x57I4YuIfu8XyZfFo0XVr2WAT8EK4rh/uDe3wF7YuW2FNUSNEpJbsPaB1nJ2fz2\", \"https://cdn.bokeh.org/bokeh/release/bokeh-widgets-2.3.3.min.js\": \"3QTqdz9LyAm2i0sG5XTePsHec3UHWwVsrOL68SYRoAXsafvfAyqtQ+h440+qIBhS\"};\n\n    for (let i = 0; i < js_urls.length; i++) {\n      const url = js_urls[i];\n      const element = document.createElement('script');\n      element.onload = on_load;\n      element.onerror = on_error.bind(null, url);\n      element.async = false;\n      element.src = url;\n      if (url in hashes) {\n        element.crossOrigin = \"anonymous\";\n        element.integrity = \"sha384-\" + hashes[url];\n      }\n      console.debug(\"Bokeh: injecting script tag for BokehJS library: \", url);\n      document.head.appendChild(element);\n    }\n  };\n\n  function inject_raw_css(css) {\n    const element = document.createElement(\"style\");\n    element.appendChild(document.createTextNode(css));\n    document.body.appendChild(element);\n  }\n\n  \n  var js_urls = [\"https://cdn.bokeh.org/bokeh/release/bokeh-2.3.3.min.js\", \"https://cdn.bokeh.org/bokeh/release/bokeh-widgets-2.3.3.min.js\", \"https://cdn.bokeh.org/bokeh/release/bokeh-tables-2.3.3.min.js\"];\n  var css_urls = [];\n  \n\n  var inline_js = [\n    function(Bokeh) {\n      Bokeh.set_log_level(\"info\");\n    },\n    function(Bokeh) {\n    \n    \n    }\n  ];\n\n  function run_inline_js() {\n    \n    if (root.Bokeh !== undefined || force === true) {\n      \n    for (var i = 0; i < inline_js.length; i++) {\n      inline_js[i].call(root, root.Bokeh);\n    }\n    } else if (Date.now() < root._bokeh_timeout) {\n      setTimeout(run_inline_js, 100);\n    } else if (!root._bokeh_failed_load) {\n      console.log(\"Bokeh: BokehJS failed to load within specified timeout.\");\n      root._bokeh_failed_load = true;\n    } else if (force !== true) {\n      var cell = $(document.getElementById(null)).parents('.cell').data().cell;\n      cell.output_area.append_execute_result(NB_LOAD_WARNING)\n    }\n\n  }\n\n  if (root._bokeh_is_loading === 0) {\n    console.debug(\"Bokeh: BokehJS loaded, going straight to plotting\");\n    run_inline_js();\n  } else {\n    load_libs(css_urls, js_urls, function() {\n      console.debug(\"Bokeh: BokehJS plotting callback run at\", now());\n      run_inline_js();\n    });\n  }\n}(window));"
          },
          "metadata": {}
        },
        {
          "output_type": "display_data",
          "data": {
            "text/html": [
              "\n",
              "\n",
              "\n",
              "\n",
              "\n",
              "\n",
              "  <div class=\"bk-root\" id=\"26e6a688-deca-4b35-92bf-8ca20116b40c\" data-root-id=\"1475\"></div>\n"
            ]
          },
          "metadata": {}
        },
        {
          "output_type": "display_data",
          "data": {
            "application/javascript": [
              "(function(root) {\n",
              "  function embed_document(root) {\n",
              "    \n",
              "  var docs_json = {\"ed462e73-9f6a-4e90-8023-372d3bb76ba2\":{\"defs\":[],\"roots\":{\"references\":[{\"attributes\":{\"below\":[{\"id\":\"1486\"}],\"center\":[{\"id\":\"1489\"},{\"id\":\"1493\"},{\"id\":\"1535\"}],\"left\":[{\"id\":\"1490\"}],\"renderers\":[{\"id\":\"1511\"},{\"id\":\"1540\"}],\"title\":{\"id\":\"1476\"},\"toolbar\":{\"id\":\"1501\"},\"width\":1000,\"x_range\":{\"id\":\"1478\"},\"x_scale\":{\"id\":\"1482\"},\"y_range\":{\"id\":\"1480\"},\"y_scale\":{\"id\":\"1484\"}},\"id\":\"1475\",\"subtype\":\"Figure\",\"type\":\"Plot\"},{\"attributes\":{\"bottom_units\":\"screen\",\"fill_alpha\":0.5,\"fill_color\":\"lightgrey\",\"left_units\":\"screen\",\"level\":\"overlay\",\"line_alpha\":1.0,\"line_color\":\"black\",\"line_dash\":[4,4],\"line_width\":2,\"right_units\":\"screen\",\"syncable\":false,\"top_units\":\"screen\"},\"id\":\"1500\",\"type\":\"BoxAnnotation\"},{\"attributes\":{\"active_multi\":null,\"tools\":[{\"id\":\"1494\"},{\"id\":\"1495\"},{\"id\":\"1496\"},{\"id\":\"1497\"},{\"id\":\"1498\"},{\"id\":\"1499\"}]},\"id\":\"1501\",\"type\":\"Toolbar\"},{\"attributes\":{\"months\":[0,1,2,3,4,5,6,7,8,9,10,11]},\"id\":\"1528\",\"type\":\"MonthsTicker\"},{\"attributes\":{\"months\":[0,6]},\"id\":\"1531\",\"type\":\"MonthsTicker\"},{\"attributes\":{},\"id\":\"1482\",\"type\":\"LinearScale\"},{\"attributes\":{\"source\":{\"id\":\"1508\"}},\"id\":\"1512\",\"type\":\"CDSView\"},{\"attributes\":{\"line_color\":\"red\",\"x\":{\"field\":\"x\"},\"y\":{\"field\":\"y\"}},\"id\":\"1509\",\"type\":\"Line\"},{\"attributes\":{\"line_color\":\"blue\",\"x\":{\"field\":\"x\"},\"y\":{\"field\":\"y\"}},\"id\":\"1538\",\"type\":\"Line\"},{\"attributes\":{\"data\":{\"x\":{\"__ndarray__\":\"AAAAFn2gd0IAAMB7z6B3QgAAgOEhoXdCAABAR3Shd0IAAACtxqF3QgAAQN69ondCAAAARBCjd0IAAMCpYqN3QgAAgA+1o3dCAABAdQekd0IAAICm/qR3QgAAQAxRpXdCAAAAcqOld0IAAMDX9aV3QgAAgD1IpndCAACA1JGnd0IAAEA65Kd3QgAAAKA2qHdCAADABYmod0IAAAA3gKl3QgAAwJzSqXdCAACAAiWqd0IAAEBod6p3QgAAAM7JqndCAABA/8Crd0IAAABlE6x3QgAAwMplrHdCAACAMLisd0IAAECWCq13QgAAgMcBrndCAABALVSud0IAAACTpq53QgAAwPj4rndCAACAXkuvd0IAAMCPQrB3QgAAgPWUsHdCAABAW+ewd0IAAADBObF3QgAAwCaMsXdCAAAAWIOyd0IAAMC91bJ3QgAAgCMos3dCAABAiXqzd0IAAADvzLN3QgAAQCDEtHdCAAAAhha1d0IAAMDraLV3QgAAgFG7tXdCAABAtw22d0IAAIDoBLd3QgAAQE5Xt3dCAAAAtKm3d0IAAMAZ/Ld3QgAAgH9OuHdCAADAsEW5d0IAAIAWmLl3QgAAQHzquXdCAAAA4jy6d0IAAMBHj7p3QgAAwN7Yu3dCAACARCu8d0IAAECqfbx3QgAAABDQvHdCAABAQce9d0IAAACnGb53QgAAwAxsvndCAACAcr6+d0IAAEDYEL93QgAAgAkIwHdCAABAb1rAd0IAAADVrMB3QgAAwDr/wHdCAACAoFHBd0IAAMDRSMJ3QgAAgDebwndCAABAne3Cd0IAAAADQMN3QgAAwGiSw3dCAAAAmonEd0IAAMD/28R3QgAAgGUuxXdCAABAy4DFd0IAAAAx08V3QgAAQGLKxndCAAAAyBzHd0IAAMAtb8d3QgAAgJPBx3dCAABA+RPId0IAAIAqC8l3QgAAQJBdyXdCAAAA9q/Jd0IAAMBbAsp3QgAAgMFUyndCAADA8kvLd0IAAIBYnst3QgAAQL7wy3dCAAAAJEPMd0IAAMCJlcx3QgAAALuMzXdCAADAIN/Nd0IAAICGMc53QgAAQOyDzndCAAAAUtbOd0IAAECDzc93QgAAAOkf0HdCAADATnLQd0IAAIC0xNB3QgAAQBoX0XdCAACASw7Sd0IAAECxYNJ3QgAAABez0ndCAADAfAXTd0IAAIDiV9N3QgAAwBNP1HdCAACAeaHUd0IAAEDf89R3QgAAwKqY1XdCAAAA3I/Wd0IAAMBB4tZ3QgAAgKc013dCAABADYfXd0IAAABz2dd3QgAAQKTQ2HdCAAAACiPZd0IAAMBvddl3QgAAgNXH2XdCAABAOxrad0IAAIBsEdt3QgAAQNJj23dC\",\"dtype\":\"float64\",\"order\":\"little\",\"shape\":[129]},\"y\":[3831900,4256500,5492100,5316400,10661700,4904300,3518000,3901700,3818900,6387600,4282800,3197700,4943700,3997600,3835500,4313800,4225000,4216000,4088600,4873700,8750800,6390300,4920600,5852500,5750200,5213500,4905900,3333500,3588400,2999800,4043900,3556800,3055600,3757300,3425900,3359900,4846300,3733500,3430900,2636600,2670200,3058000,1958700,2113800,3224000,3736300,3419200,4745600,3484100,3102100,3760800,3346700,3220700,4166500,2540300,5291200,4231400,2862500,2035100,4609900,3199100,3560400,3850700,3367200,2808600,3702400,4589900,8127400,5484600,4479800,3001000,2712500,2366100,4482000,5910900,3326500,4949200,4274300,5404900,6103100,5499200,4605100,4186000,2738100,3195400,3599900,3677100,4311200,3274200,3125800,3716500,4164700,3240300,3281200,3684700,3751800,3589600,4558200,3017100,3464500,3595000,3310100,3753900,5766400,3778600,2683500,2453000,3540900,3357100,2899400,3332200,3498900,5242200,4157200,3878000,3309500,3402900,5305800,7610000,5385600,4619800,6464400,5403100,5460100,3891900,3644500,5025700,5318000,441455]},\"selected\":{\"id\":\"1533\"},\"selection_policy\":{\"id\":\"1534\"}},\"id\":\"1508\",\"type\":\"ColumnDataSource\"},{\"attributes\":{},\"id\":\"1565\",\"type\":\"UnionRenderers\"},{\"attributes\":{\"data_source\":{\"id\":\"1537\"},\"glyph\":{\"id\":\"1538\"},\"hover_glyph\":null,\"muted_glyph\":null,\"nonselection_glyph\":{\"id\":\"1539\"},\"view\":{\"id\":\"1541\"}},\"id\":\"1540\",\"type\":\"GlyphRenderer\"},{\"attributes\":{},\"id\":\"1478\",\"type\":\"DataRange1d\"},{\"attributes\":{},\"id\":\"1495\",\"type\":\"WheelZoomTool\"},{\"attributes\":{},\"id\":\"1480\",\"type\":\"DataRange1d\"},{\"attributes\":{},\"id\":\"1515\",\"type\":\"DatetimeTickFormatter\"},{\"attributes\":{\"data_source\":{\"id\":\"1508\"},\"glyph\":{\"id\":\"1509\"},\"hover_glyph\":null,\"muted_glyph\":null,\"nonselection_glyph\":{\"id\":\"1510\"},\"view\":{\"id\":\"1512\"}},\"id\":\"1511\",\"type\":\"GlyphRenderer\"},{\"attributes\":{\"label\":{\"value\":\"Pepsi\"},\"renderers\":[{\"id\":\"1511\"}]},\"id\":\"1536\",\"type\":\"LegendItem\"},{\"attributes\":{},\"id\":\"1484\",\"type\":\"LogScale\"},{\"attributes\":{},\"id\":\"1534\",\"type\":\"UnionRenderers\"},{\"attributes\":{\"items\":[{\"id\":\"1536\"},{\"id\":\"1566\"}]},\"id\":\"1535\",\"type\":\"Legend\"},{\"attributes\":{},\"id\":\"1517\",\"type\":\"AllLabels\"},{\"attributes\":{\"axis_label\":\"Date\",\"formatter\":{\"id\":\"1515\"},\"major_label_policy\":{\"id\":\"1514\"},\"ticker\":{\"id\":\"1487\"}},\"id\":\"1486\",\"type\":\"DatetimeAxis\"},{\"attributes\":{\"text\":\"Pepsi vs Cocacola Market Volume\"},\"id\":\"1476\",\"type\":\"Title\"},{\"attributes\":{},\"id\":\"1564\",\"type\":\"Selection\"},{\"attributes\":{},\"id\":\"1498\",\"type\":\"ResetTool\"},{\"attributes\":{\"num_minor_ticks\":10},\"id\":\"1491\",\"type\":\"LogTicker\"},{\"attributes\":{\"num_minor_ticks\":5,\"tickers\":[{\"id\":\"1521\"},{\"id\":\"1522\"},{\"id\":\"1523\"},{\"id\":\"1524\"},{\"id\":\"1525\"},{\"id\":\"1526\"},{\"id\":\"1527\"},{\"id\":\"1528\"},{\"id\":\"1529\"},{\"id\":\"1530\"},{\"id\":\"1531\"},{\"id\":\"1532\"}]},\"id\":\"1487\",\"type\":\"DatetimeTicker\"},{\"attributes\":{\"axis_label\":\"Volume\",\"formatter\":{\"id\":\"1518\"},\"major_label_policy\":{\"id\":\"1517\"},\"ticker\":{\"id\":\"1491\"}},\"id\":\"1490\",\"type\":\"LogAxis\"},{\"attributes\":{},\"id\":\"1499\",\"type\":\"HelpTool\"},{\"attributes\":{\"ticker\":null},\"id\":\"1518\",\"type\":\"LogTickFormatter\"},{\"attributes\":{\"axis\":{\"id\":\"1490\"},\"dimension\":1,\"ticker\":null},\"id\":\"1493\",\"type\":\"Grid\"},{\"attributes\":{\"line_alpha\":0.1,\"line_color\":\"red\",\"x\":{\"field\":\"x\"},\"y\":{\"field\":\"y\"}},\"id\":\"1510\",\"type\":\"Line\"},{\"attributes\":{\"data\":{\"x\":{\"__ndarray__\":\"AAAAFn2gd0IAAMB7z6B3QgAAgOEhoXdCAABAR3Shd0IAAACtxqF3QgAAQN69ondCAAAARBCjd0IAAMCpYqN3QgAAgA+1o3dCAABAdQekd0IAAICm/qR3QgAAQAxRpXdCAAAAcqOld0IAAMDX9aV3QgAAgD1IpndCAACA1JGnd0IAAEA65Kd3QgAAAKA2qHdCAADABYmod0IAAAA3gKl3QgAAwJzSqXdCAACAAiWqd0IAAEBod6p3QgAAAM7JqndCAABA/8Crd0IAAABlE6x3QgAAwMplrHdCAACAMLisd0IAAECWCq13QgAAgMcBrndCAABALVSud0IAAACTpq53QgAAwPj4rndCAACAXkuvd0IAAMCPQrB3QgAAgPWUsHdCAABAW+ewd0IAAADBObF3QgAAwCaMsXdCAAAAWIOyd0IAAMC91bJ3QgAAgCMos3dCAABAiXqzd0IAAADvzLN3QgAAQCDEtHdCAAAAhha1d0IAAMDraLV3QgAAgFG7tXdCAABAtw22d0IAAIDoBLd3QgAAQE5Xt3dCAAAAtKm3d0IAAMAZ/Ld3QgAAgH9OuHdCAADAsEW5d0IAAIAWmLl3QgAAQHzquXdCAAAA4jy6d0IAAMBHj7p3QgAAwN7Yu3dCAACARCu8d0IAAECqfbx3QgAAABDQvHdCAABAQce9d0IAAACnGb53QgAAwAxsvndCAACAcr6+d0IAAEDYEL93QgAAgAkIwHdCAABAb1rAd0IAAADVrMB3QgAAwDr/wHdCAACAoFHBd0IAAMDRSMJ3QgAAgDebwndCAABAne3Cd0IAAAADQMN3QgAAwGiSw3dCAAAAmonEd0IAAMD/28R3QgAAgGUuxXdCAABAy4DFd0IAAAAx08V3QgAAQGLKxndCAAAAyBzHd0IAAMAtb8d3QgAAgJPBx3dCAABA+RPId0IAAIAqC8l3QgAAQJBdyXdCAAAA9q/Jd0IAAMBbAsp3QgAAgMFUyndCAADA8kvLd0IAAIBYnst3QgAAQL7wy3dCAAAAJEPMd0IAAMCJlcx3QgAAALuMzXdCAADAIN/Nd0IAAICGMc53QgAAQOyDzndCAAAAUtbOd0IAAECDzc93QgAAAOkf0HdCAADATnLQd0IAAIC0xNB3QgAAQBoX0XdCAACASw7Sd0IAAECxYNJ3QgAAABez0ndCAADAfAXTd0IAAIDiV9N3QgAAwBNP1HdCAACAeaHUd0IAAEDf89R3QgAAwKqY1XdCAAAA3I/Wd0IAAMBB4tZ3QgAAgKc013dCAABADYfXd0IAAABz2dd3QgAAQKTQ2HdCAAAACiPZd0IAAMBvddl3QgAAgNXH2XdCAABAOxrad0IAAIBsEdt3QgAAQNJj23dC\",\"dtype\":\"float64\",\"order\":\"little\",\"shape\":[129]},\"y\":[9710800,11154200,15211700,10658400,31445600,14404300,13072800,12339200,11488400,18880300,10556900,12300900,14614200,13214700,10604600,15278200,14377700,11943900,10847000,15107600,15170800,22002700,15068200,14860500,19527000,16257900,20918200,13402700,12144000,8681100,12794400,9858000,9599100,11727000,9778000,8825500,11888400,9806800,10407900,8859900,10906900,8370700,6169200,7713600,7972000,10346400,13873700,9223700,10541000,8912800,12067200,11270700,10331500,8842200,10034700,14185700,9518900,11653200,13220400,20035300,12040100,12545400,10569400,20274300,13918900,15746000,17430400,33370200,27542500,16418200,12719700,13836200,9682200,12429500,19926100,13941500,17672000,16277400,18973400,17173100,21284500,13774400,13786000,12378500,19474400,12143300,13704000,17867000,15861800,11068500,12474800,14388300,12828600,11855000,12086700,24019800,15928000,24460800,11651100,11498900,10788300,10820200,12884200,12828000,10155800,8813600,7257700,10161800,10289200,13756500,13288700,15380100,15813700,16905600,13835900,12598900,14754300,22712500,30485200,18719600,17074200,21062400,26624100,23832700,18026300,13846400,23151000,31359200,3228235]},\"selected\":{\"id\":\"1564\"},\"selection_policy\":{\"id\":\"1565\"}},\"id\":\"1537\",\"type\":\"ColumnDataSource\"},{\"attributes\":{\"axis\":{\"id\":\"1486\"},\"ticker\":null},\"id\":\"1489\",\"type\":\"Grid\"},{\"attributes\":{\"source\":{\"id\":\"1537\"}},\"id\":\"1541\",\"type\":\"CDSView\"},{\"attributes\":{\"mantissas\":[1,2,5],\"max_interval\":500.0,\"num_minor_ticks\":0},\"id\":\"1521\",\"type\":\"AdaptiveTicker\"},{\"attributes\":{},\"id\":\"1514\",\"type\":\"AllLabels\"},{\"attributes\":{\"label\":{\"value\":\"Coca Cola\"},\"renderers\":[{\"id\":\"1540\"}]},\"id\":\"1566\",\"type\":\"LegendItem\"},{\"attributes\":{\"base\":60,\"mantissas\":[1,2,5,10,15,20,30],\"max_interval\":1800000.0,\"min_interval\":1000.0,\"num_minor_ticks\":0},\"id\":\"1522\",\"type\":\"AdaptiveTicker\"},{\"attributes\":{\"overlay\":{\"id\":\"1500\"}},\"id\":\"1496\",\"type\":\"BoxZoomTool\"},{\"attributes\":{},\"id\":\"1494\",\"type\":\"PanTool\"},{\"attributes\":{\"base\":24,\"mantissas\":[1,2,4,6,8,12],\"max_interval\":43200000.0,\"min_interval\":3600000.0,\"num_minor_ticks\":0},\"id\":\"1523\",\"type\":\"AdaptiveTicker\"},{\"attributes\":{},\"id\":\"1497\",\"type\":\"SaveTool\"},{\"attributes\":{\"days\":[1,8,15,22]},\"id\":\"1526\",\"type\":\"DaysTicker\"},{\"attributes\":{\"days\":[1,4,7,10,13,16,19,22,25,28]},\"id\":\"1525\",\"type\":\"DaysTicker\"},{\"attributes\":{},\"id\":\"1532\",\"type\":\"YearsTicker\"},{\"attributes\":{\"months\":[0,2,4,6,8,10]},\"id\":\"1529\",\"type\":\"MonthsTicker\"},{\"attributes\":{\"months\":[0,4,8]},\"id\":\"1530\",\"type\":\"MonthsTicker\"},{\"attributes\":{},\"id\":\"1533\",\"type\":\"Selection\"},{\"attributes\":{\"days\":[1,15]},\"id\":\"1527\",\"type\":\"DaysTicker\"},{\"attributes\":{\"line_alpha\":0.1,\"line_color\":\"blue\",\"x\":{\"field\":\"x\"},\"y\":{\"field\":\"y\"}},\"id\":\"1539\",\"type\":\"Line\"},{\"attributes\":{\"days\":[1,2,3,4,5,6,7,8,9,10,11,12,13,14,15,16,17,18,19,20,21,22,23,24,25,26,27,28,29,30,31]},\"id\":\"1524\",\"type\":\"DaysTicker\"}],\"root_ids\":[\"1475\"]},\"title\":\"Bokeh Application\",\"version\":\"2.3.3\"}};\n",
              "  var render_items = [{\"docid\":\"ed462e73-9f6a-4e90-8023-372d3bb76ba2\",\"root_ids\":[\"1475\"],\"roots\":{\"1475\":\"26e6a688-deca-4b35-92bf-8ca20116b40c\"}}];\n",
              "  root.Bokeh.embed.embed_items_notebook(docs_json, render_items);\n",
              "\n",
              "  }\n",
              "  if (root.Bokeh !== undefined) {\n",
              "    embed_document(root);\n",
              "  } else {\n",
              "    var attempts = 0;\n",
              "    var timer = setInterval(function(root) {\n",
              "      if (root.Bokeh !== undefined) {\n",
              "        clearInterval(timer);\n",
              "        embed_document(root);\n",
              "      } else {\n",
              "        attempts++;\n",
              "        if (attempts > 100) {\n",
              "          clearInterval(timer);\n",
              "          console.log(\"Bokeh: ERROR: Unable to run BokehJS code because BokehJS library is missing\");\n",
              "        }\n",
              "      }\n",
              "    }, 10, root)\n",
              "  }\n",
              "})(window);"
            ],
            "application/vnd.bokehjs_exec.v0+json": ""
          },
          "metadata": {
            "application/vnd.bokehjs_exec.v0+json": {
              "id": "1475"
            }
          }
        },
        {
          "output_type": "stream",
          "name": "stdout",
          "text": [
            "time: 131 ms (started: 2021-12-14 15:00:16 +00:00)\n"
          ]
        }
      ]
    },
    {
      "cell_type": "markdown",
      "metadata": {
        "id": "qMr5WrvM66mI"
      },
      "source": [
        "# Stock Price Prediction"
      ]
    },
    {
      "cell_type": "code",
      "metadata": {
        "id": "kk3Du6c3LJUa",
        "colab": {
          "base_uri": "https://localhost:8080/"
        },
        "outputId": "3897e289-a379-43f2-d0cf-c9dbac187ec7"
      },
      "source": [
        "# Talos Hyperparameter Dictionary\n",
        "p = {    \n",
        "    'epoch_size': [25, 50, 75, 100],\n",
        "    'batch_size': [16, 32]\n",
        "}"
      ],
      "execution_count": 16,
      "outputs": [
        {
          "output_type": "stream",
          "name": "stdout",
          "text": [
            "time: 2.52 ms (started: 2021-12-14 15:00:16 +00:00)\n"
          ]
        }
      ]
    },
    {
      "cell_type": "markdown",
      "metadata": {
        "id": "onL-CgMtHrbQ"
      },
      "source": [
        "## Download Historical Pricing Data"
      ]
    },
    {
      "cell_type": "code",
      "metadata": {
        "colab": {
          "base_uri": "https://localhost:8080/"
        },
        "id": "l9r6uLrx6ZDi",
        "outputId": "6fdbda39-1184-494e-f797-7def1ff9917e"
      },
      "source": [
        "# Download stock price data\n",
        "tickerSymbol=STOCK_TICKER_FOR_PREDICTION\n",
        "prices = yf.download(tickers=tickerSymbol, \n",
        "                     interval='1d', \n",
        "                     period=STOCK_PRICE_HISTORY_PERIOD_SIZE)"
      ],
      "execution_count": 17,
      "outputs": [
        {
          "output_type": "stream",
          "name": "stdout",
          "text": [
            "\r[*********************100%***********************]  1 of 1 completed\n",
            "time: 237 ms (started: 2021-12-14 15:00:16 +00:00)\n"
          ]
        }
      ]
    },
    {
      "cell_type": "markdown",
      "metadata": {
        "id": "3X6bdw9yH77S"
      },
      "source": [
        "## Train-Test Split"
      ]
    },
    {
      "cell_type": "markdown",
      "metadata": {
        "id": "cSqWtwjAIFCy"
      },
      "source": [
        "Split the dataset into training and testing sets"
      ]
    },
    {
      "cell_type": "code",
      "metadata": {
        "colab": {
          "base_uri": "https://localhost:8080/"
        },
        "id": "Y_BXhbXI6dUW",
        "outputId": "c029190a-b03a-4114-9bb3-63ed7e3e6aa6"
      },
      "source": [
        "# Split into train and test\n",
        "# Note: order is important and should not be randomized\n",
        "num_records_all = prices.shape[0]\n",
        "num_records_train = int(round(num_records_all*TRAIN_SAMPLE_SET_SIZE))\n",
        "train_set = prices.iloc[:num_records_train, 3:4]\n",
        "test_set = prices.iloc[num_records_train:, 3:4]"
      ],
      "execution_count": 18,
      "outputs": [
        {
          "output_type": "stream",
          "name": "stdout",
          "text": [
            "time: 4.71 ms (started: 2021-12-14 15:00:16 +00:00)\n"
          ]
        }
      ]
    },
    {
      "cell_type": "markdown",
      "metadata": {
        "id": "m4uDfgFIIKPo"
      },
      "source": [
        "Add additional record in test set to hold prediction data for new day"
      ]
    },
    {
      "cell_type": "code",
      "metadata": {
        "colab": {
          "base_uri": "https://localhost:8080/",
          "height": 225
        },
        "id": "bT_0KKqoIF-B",
        "outputId": "38c0918d-dcbe-4a2b-e25b-0988df4ea88c"
      },
      "source": [
        "# Prepare updated index\n",
        "updated_test_set_indices = test_set.index.to_list()\n",
        "updated_test_set_indices.append(updated_test_set_indices[-1] + datetime.timedelta(days=1))\n",
        "\n",
        "# Add another record in test_set for prediction of new closing price\n",
        "test_set = test_set.append(test_set.iloc[-1:])\n",
        "\n",
        "# Update index\n",
        "test_set.index = updated_test_set_indices\n",
        "test_set.tail()"
      ],
      "execution_count": 19,
      "outputs": [
        {
          "output_type": "execute_result",
          "data": {
            "text/html": [
              "<div>\n",
              "<style scoped>\n",
              "    .dataframe tbody tr th:only-of-type {\n",
              "        vertical-align: middle;\n",
              "    }\n",
              "\n",
              "    .dataframe tbody tr th {\n",
              "        vertical-align: top;\n",
              "    }\n",
              "\n",
              "    .dataframe thead th {\n",
              "        text-align: right;\n",
              "    }\n",
              "</style>\n",
              "<table border=\"1\" class=\"dataframe\">\n",
              "  <thead>\n",
              "    <tr style=\"text-align: right;\">\n",
              "      <th></th>\n",
              "      <th>Close</th>\n",
              "    </tr>\n",
              "  </thead>\n",
              "  <tbody>\n",
              "    <tr>\n",
              "      <th>2021-12-09</th>\n",
              "      <td>54.860001</td>\n",
              "    </tr>\n",
              "    <tr>\n",
              "      <th>2021-12-10</th>\n",
              "      <td>56.279999</td>\n",
              "    </tr>\n",
              "    <tr>\n",
              "      <th>2021-12-13</th>\n",
              "      <td>57.759998</td>\n",
              "    </tr>\n",
              "    <tr>\n",
              "      <th>2021-12-14</th>\n",
              "      <td>57.680000</td>\n",
              "    </tr>\n",
              "    <tr>\n",
              "      <th>2021-12-15</th>\n",
              "      <td>57.680000</td>\n",
              "    </tr>\n",
              "  </tbody>\n",
              "</table>\n",
              "</div>"
            ],
            "text/plain": [
              "                Close\n",
              "2021-12-09  54.860001\n",
              "2021-12-10  56.279999\n",
              "2021-12-13  57.759998\n",
              "2021-12-14  57.680000\n",
              "2021-12-15  57.680000"
            ]
          },
          "metadata": {},
          "execution_count": 19
        },
        {
          "output_type": "stream",
          "name": "stdout",
          "text": [
            "time: 26.2 ms (started: 2021-12-14 15:00:16 +00:00)\n"
          ]
        }
      ]
    },
    {
      "cell_type": "markdown",
      "metadata": {
        "id": "bF-rZRRyIhJM"
      },
      "source": [
        "## Training"
      ]
    },
    {
      "cell_type": "markdown",
      "metadata": {
        "id": "XSWZdyKWIkEy"
      },
      "source": [
        "Scale the training set for better machine learning performance"
      ]
    },
    {
      "cell_type": "code",
      "metadata": {
        "colab": {
          "base_uri": "https://localhost:8080/"
        },
        "id": "z4kiRVd_6hYP",
        "outputId": "25892bdc-1790-43bb-8b72-0234dccd2625"
      },
      "source": [
        "# Scale the training set\n",
        "scaler = MinMaxScaler(feature_range = (0, 1))\n",
        "train_set_scaled = scaler.fit_transform(train_set)"
      ],
      "execution_count": 20,
      "outputs": [
        {
          "output_type": "stream",
          "name": "stdout",
          "text": [
            "time: 11.6 ms (started: 2021-12-14 15:00:16 +00:00)\n"
          ]
        }
      ]
    },
    {
      "cell_type": "markdown",
      "metadata": {
        "id": "TvWCt9-jItK2"
      },
      "source": [
        "Prepare the training data by transforming it into format required by algorithm"
      ]
    },
    {
      "cell_type": "code",
      "metadata": {
        "colab": {
          "base_uri": "https://localhost:8080/"
        },
        "id": "UTufvfZ76i6T",
        "outputId": "f541be0a-eceb-4078-905e-5aa3e475132d"
      },
      "source": [
        "train_x = []\n",
        "train_y = []\n",
        "for i in range(WINDOW_SIZE, num_records_train-1):\n",
        "    train_x.append(train_set_scaled[i-WINDOW_SIZE:i, 0])\n",
        "    train_y.append(train_set_scaled[i+AHEAD, 0])\n",
        "\n",
        "train_x, train_y = np.array(train_x), np.array(train_y)\n",
        "train_x = np.reshape(train_x, (train_x.shape[0], train_x.shape[1], 1))"
      ],
      "execution_count": 21,
      "outputs": [
        {
          "output_type": "stream",
          "name": "stdout",
          "text": [
            "time: 8.24 ms (started: 2021-12-14 15:00:16 +00:00)\n"
          ]
        }
      ]
    },
    {
      "cell_type": "markdown",
      "source": [
        "Prepare function for creating model used by Talos"
      ],
      "metadata": {
        "id": "jTpRKX0zar2h"
      }
    },
    {
      "cell_type": "code",
      "metadata": {
        "colab": {
          "base_uri": "https://localhost:8080/"
        },
        "id": "hOYYtUDT6k9B",
        "outputId": "dac335df-b5c5-4e5e-b4eb-7047961411a4"
      },
      "source": [
        "'''\n",
        "Function called by Talos to create a model for each run.\n",
        "Each run is different as Talos updates the params value iterating through each\n",
        "possible combination of values\n",
        "'''\n",
        "def model(x_train, y_train, x_val, y_val, params):\n",
        "  model = Sequential()\n",
        "  # Add LSTM layer and dropout after regularisation\n",
        "  model.add(LSTM(units = LSTM_LAYER_UNIT_SIZE, return_sequences = True, \n",
        "                 input_shape = (x_train.shape[1], 1)))\n",
        "  model.add(Dropout(DROPOUT_REGULARISATION_SIZE))\n",
        "  # Add LSTM layer and dropout after regularisation\n",
        "  model.add(LSTM(units = LSTM_LAYER_UNIT_SIZE, return_sequences = True))\n",
        "  model.add(Dropout(DROPOUT_REGULARISATION_SIZE))\n",
        "  # Add LSTM layer and dropout after regularisation\n",
        "  model.add(LSTM(units = LSTM_LAYER_UNIT_SIZE, return_sequences = True))\n",
        "  model.add(Dropout(DROPOUT_REGULARISATION_SIZE))\n",
        "  # Add LSTM layer and dropout after regularisation\n",
        "  model.add(LSTM(units = LSTM_LAYER_UNIT_SIZE))\n",
        "  model.add(Dropout(DROPOUT_REGULARISATION_SIZE))\n",
        "  # Add Output layer\n",
        "  model.add(Dense(units = 1))\n",
        "  # Compiling the RNN\n",
        "  model.compile(optimizer = 'adam', loss = 'mean_squared_error')\n",
        "  # Fitting the RNN to the Training set\n",
        "  history = model.fit(x=x_train,\n",
        "            y=y_train, \n",
        "            epochs=params['epoch_size'],\n",
        "            batch_size=params['batch_size'],\n",
        "            shuffle=False,\n",
        "            verbose=0)\n",
        "  return history, model"
      ],
      "execution_count": 22,
      "outputs": [
        {
          "output_type": "stream",
          "name": "stdout",
          "text": [
            "time: 20.1 ms (started: 2021-12-14 15:00:16 +00:00)\n"
          ]
        }
      ]
    },
    {
      "cell_type": "markdown",
      "metadata": {
        "id": "NNbvF9SEJTCz"
      },
      "source": [
        "Run Talos to scan through each parameter combination to find results for each"
      ]
    },
    {
      "cell_type": "code",
      "metadata": {
        "colab": {
          "base_uri": "https://localhost:8080/"
        },
        "id": "3IvbgKP56mlx",
        "outputId": "d7ba0cd5-6ad8-4243-c9e6-eb6634cb8b94"
      },
      "source": [
        "t = talos.Scan(train_x, train_y, params=p, model=model, experiment_name='Stock Predictor')"
      ],
      "execution_count": 23,
      "outputs": [
        {
          "output_type": "stream",
          "name": "stderr",
          "text": [
            "100%|██████████| 8/8 [30:10<00:00, 226.34s/it]"
          ]
        },
        {
          "output_type": "stream",
          "name": "stdout",
          "text": [
            "time: 30min 10s (started: 2021-12-14 15:00:16 +00:00)\n"
          ]
        },
        {
          "output_type": "stream",
          "name": "stderr",
          "text": [
            "\n"
          ]
        }
      ]
    },
    {
      "cell_type": "markdown",
      "metadata": {
        "id": "wFmnraYdJkaR"
      },
      "source": [
        "Show report of results for each run of hyper parameter optimization"
      ]
    },
    {
      "cell_type": "code",
      "metadata": {
        "id": "Llz4aZwo6n72",
        "colab": {
          "base_uri": "https://localhost:8080/",
          "height": 319
        },
        "outputId": "c70c7352-e110-4aeb-c533-57250194d0d4"
      },
      "source": [
        "r = talos.Reporting(t)\n",
        "r.data"
      ],
      "execution_count": 24,
      "outputs": [
        {
          "output_type": "execute_result",
          "data": {
            "text/html": [
              "<div>\n",
              "<style scoped>\n",
              "    .dataframe tbody tr th:only-of-type {\n",
              "        vertical-align: middle;\n",
              "    }\n",
              "\n",
              "    .dataframe tbody tr th {\n",
              "        vertical-align: top;\n",
              "    }\n",
              "\n",
              "    .dataframe thead th {\n",
              "        text-align: right;\n",
              "    }\n",
              "</style>\n",
              "<table border=\"1\" class=\"dataframe\">\n",
              "  <thead>\n",
              "    <tr style=\"text-align: right;\">\n",
              "      <th></th>\n",
              "      <th>start</th>\n",
              "      <th>end</th>\n",
              "      <th>duration</th>\n",
              "      <th>round_epochs</th>\n",
              "      <th>loss</th>\n",
              "      <th>batch_size</th>\n",
              "      <th>epoch_size</th>\n",
              "    </tr>\n",
              "  </thead>\n",
              "  <tbody>\n",
              "    <tr>\n",
              "      <th>0</th>\n",
              "      <td>12/14/21-150016</td>\n",
              "      <td>12/14/21-150214</td>\n",
              "      <td>117.347327</td>\n",
              "      <td>25</td>\n",
              "      <td>0.006068</td>\n",
              "      <td>16</td>\n",
              "      <td>25</td>\n",
              "    </tr>\n",
              "    <tr>\n",
              "      <th>1</th>\n",
              "      <td>12/14/21-150214</td>\n",
              "      <td>12/14/21-150603</td>\n",
              "      <td>229.415526</td>\n",
              "      <td>50</td>\n",
              "      <td>0.003548</td>\n",
              "      <td>16</td>\n",
              "      <td>50</td>\n",
              "    </tr>\n",
              "    <tr>\n",
              "      <th>2</th>\n",
              "      <td>12/14/21-150604</td>\n",
              "      <td>12/14/21-151144</td>\n",
              "      <td>339.673338</td>\n",
              "      <td>75</td>\n",
              "      <td>0.002801</td>\n",
              "      <td>16</td>\n",
              "      <td>75</td>\n",
              "    </tr>\n",
              "    <tr>\n",
              "      <th>3</th>\n",
              "      <td>12/14/21-151144</td>\n",
              "      <td>12/14/21-151913</td>\n",
              "      <td>449.116542</td>\n",
              "      <td>100</td>\n",
              "      <td>0.002543</td>\n",
              "      <td>16</td>\n",
              "      <td>100</td>\n",
              "    </tr>\n",
              "    <tr>\n",
              "      <th>4</th>\n",
              "      <td>12/14/21-151914</td>\n",
              "      <td>12/14/21-152026</td>\n",
              "      <td>72.014239</td>\n",
              "      <td>25</td>\n",
              "      <td>0.006380</td>\n",
              "      <td>32</td>\n",
              "      <td>25</td>\n",
              "    </tr>\n",
              "    <tr>\n",
              "      <th>5</th>\n",
              "      <td>12/14/21-152026</td>\n",
              "      <td>12/14/21-152242</td>\n",
              "      <td>135.601725</td>\n",
              "      <td>50</td>\n",
              "      <td>0.003796</td>\n",
              "      <td>32</td>\n",
              "      <td>50</td>\n",
              "    </tr>\n",
              "    <tr>\n",
              "      <th>6</th>\n",
              "      <td>12/14/21-152242</td>\n",
              "      <td>12/14/21-152602</td>\n",
              "      <td>199.712370</td>\n",
              "      <td>75</td>\n",
              "      <td>0.003082</td>\n",
              "      <td>32</td>\n",
              "      <td>75</td>\n",
              "    </tr>\n",
              "    <tr>\n",
              "      <th>7</th>\n",
              "      <td>12/14/21-152602</td>\n",
              "      <td>12/14/21-153026</td>\n",
              "      <td>264.012004</td>\n",
              "      <td>100</td>\n",
              "      <td>0.002617</td>\n",
              "      <td>32</td>\n",
              "      <td>100</td>\n",
              "    </tr>\n",
              "  </tbody>\n",
              "</table>\n",
              "</div>"
            ],
            "text/plain": [
              "             start              end  ...  batch_size  epoch_size\n",
              "0  12/14/21-150016  12/14/21-150214  ...          16          25\n",
              "1  12/14/21-150214  12/14/21-150603  ...          16          50\n",
              "2  12/14/21-150604  12/14/21-151144  ...          16          75\n",
              "3  12/14/21-151144  12/14/21-151913  ...          16         100\n",
              "4  12/14/21-151914  12/14/21-152026  ...          32          25\n",
              "5  12/14/21-152026  12/14/21-152242  ...          32          50\n",
              "6  12/14/21-152242  12/14/21-152602  ...          32          75\n",
              "7  12/14/21-152602  12/14/21-153026  ...          32         100\n",
              "\n",
              "[8 rows x 7 columns]"
            ]
          },
          "metadata": {},
          "execution_count": 24
        },
        {
          "output_type": "stream",
          "name": "stdout",
          "text": [
            "time: 25 ms (started: 2021-12-14 15:30:27 +00:00)\n"
          ]
        }
      ]
    },
    {
      "cell_type": "markdown",
      "metadata": {
        "id": "ZzBn-q1VJqLk"
      },
      "source": [
        "Display plot of loss obtained from each run"
      ]
    },
    {
      "cell_type": "code",
      "metadata": {
        "id": "-J0-VHfN6pNw",
        "colab": {
          "base_uri": "https://localhost:8080/",
          "height": 428
        },
        "outputId": "78f10424-a1ba-492c-d93a-2df66471a709"
      },
      "source": [
        "r.plot_line('loss')"
      ],
      "execution_count": 25,
      "outputs": [
        {
          "output_type": "display_data",
          "data": {
            "image/png": "[encoded data removed]",
            "text/plain": [
              "<Figure size 864x475.2 with 1 Axes>"
            ]
          },
          "metadata": {}
        },
        {
          "output_type": "stream",
          "name": "stdout",
          "text": [
            "time: 373 ms (started: 2021-12-14 15:30:27 +00:00)\n"
          ]
        }
      ]
    },
    {
      "cell_type": "markdown",
      "metadata": {
        "id": "WDX3fq0QJ0bv"
      },
      "source": [
        "Display hyper parameters with best results"
      ]
    },
    {
      "cell_type": "code",
      "metadata": {
        "id": "jUmBjy2l6rAx",
        "colab": {
          "base_uri": "https://localhost:8080/"
        },
        "outputId": "41620594-d270-4c8c-f371-c82c67a6beb1"
      },
      "source": [
        "r.best_params('loss', [], n=1, ascending=True)"
      ],
      "execution_count": 26,
      "outputs": [
        {
          "output_type": "execute_result",
          "data": {
            "text/plain": [
              "array([[16, '12/14/21-151144', 449.1165421009064, 100, '12/14/21-151913',\n",
              "        100, 0]], dtype=object)"
            ]
          },
          "metadata": {},
          "execution_count": 26
        },
        {
          "output_type": "stream",
          "name": "stdout",
          "text": [
            "time: 19.3 ms (started: 2021-12-14 15:30:27 +00:00)\n"
          ]
        }
      ]
    },
    {
      "cell_type": "markdown",
      "metadata": {
        "id": "zTa2my8dJ6mp"
      },
      "source": [
        "## Testing"
      ]
    },
    {
      "cell_type": "markdown",
      "metadata": {
        "id": "QxEKT5a-J9fj"
      },
      "source": [
        "Prepare the testing data by transforming it into format required by algorithm"
      ]
    },
    {
      "cell_type": "code",
      "metadata": {
        "id": "Ox64k7-h6sel",
        "colab": {
          "base_uri": "https://localhost:8080/"
        },
        "outputId": "274a20e1-8d1a-4dfb-9e1e-33ae2f9cb9e2"
      },
      "source": [
        "inputs = train_set[-60:].append(test_set)\n",
        "inputs = inputs.values.reshape(-1, 1)\n",
        "inputs = scaler.transform(inputs)\n",
        "\n",
        "test_x = []\n",
        "for i in range(WINDOW_SIZE, inputs.shape[0]):\n",
        "    test_x.append(inputs[i-WINDOW_SIZE:i, 0])\n",
        "\n",
        "test_x = np.array(test_x)\n",
        "test_x = np.reshape(test_x, (test_x.shape[0], test_x.shape[1], 1))"
      ],
      "execution_count": 27,
      "outputs": [
        {
          "output_type": "stream",
          "name": "stdout",
          "text": [
            "time: 15.1 ms (started: 2021-12-14 15:30:27 +00:00)\n"
          ]
        }
      ]
    },
    {
      "cell_type": "markdown",
      "metadata": {
        "id": "4Xqh-XJFKGAh"
      },
      "source": [
        "Run algorithm using best performing hyper parameters on test data for prediction"
      ]
    },
    {
      "cell_type": "code",
      "metadata": {
        "id": "un0MwQlQ6t-e",
        "colab": {
          "base_uri": "https://localhost:8080/"
        },
        "outputId": "2e10b6aa-dc91-4f3a-e0b9-f213ba082254"
      },
      "source": [
        "p = talos.Predict(t)\n",
        "predicted_stock_price = p.predict(test_x, metric='loss', asc=True)\n",
        "predicted_stock_price = scaler.inverse_transform(predicted_stock_price)"
      ],
      "execution_count": 28,
      "outputs": [
        {
          "output_type": "stream",
          "name": "stdout",
          "text": [
            "time: 3.14 s (started: 2021-12-14 15:30:27 +00:00)\n"
          ]
        }
      ]
    },
    {
      "cell_type": "markdown",
      "metadata": {
        "id": "rAIj_SO5KwrH"
      },
      "source": [
        "## Prediction Results"
      ]
    },
    {
      "cell_type": "markdown",
      "metadata": {
        "id": "A5KrzYy-KkOV"
      },
      "source": [
        "Display plot comparing actual prices and predicted prices"
      ]
    },
    {
      "cell_type": "code",
      "metadata": {
        "id": "JojhXWEl6vgt",
        "colab": {
          "base_uri": "https://localhost:8080/",
          "height": 370
        },
        "outputId": "c6892660-6da5-4591-def9-0ae56ea27856"
      },
      "source": [
        "prices['Date']=prices.index\n",
        "prices = prices.reset_index(drop=True)\n",
        "\n",
        "plt.plot(updated_test_set_indices,test_set.values, color = 'red', label = 'Real Stock Price')\n",
        "plt.plot(updated_test_set_indices,predicted_stock_price, color = 'blue', label = 'Predicted Stock Price')\n",
        "\n",
        "plt.title('Stock Price Prediction')\n",
        "plt.xlabel('Time')\n",
        "plt.ylabel('Stock Price')\n",
        "plt.legend()\n",
        "plt.xticks(rotation=90)\n",
        "plt.show()"
      ],
      "execution_count": 29,
      "outputs": [
        {
          "output_type": "display_data",
          "data": {
            "image/png": "[encoded data removed]",
            "text/plain": [
              "<Figure size 432x288 with 1 Axes>"
            ]
          },
          "metadata": {}
        },
        {
          "output_type": "stream",
          "name": "stdout",
          "text": [
            "time: 389 ms (started: 2021-12-14 15:30:31 +00:00)\n"
          ]
        }
      ]
    },
    {
      "cell_type": "markdown",
      "metadata": {
        "id": "WLY0n0B1K9VO"
      },
      "source": [
        "Compare last two prediction closing prices to provide a recommendation"
      ]
    },
    {
      "cell_type": "code",
      "metadata": {
        "id": "sT7D0H6qNGCi",
        "colab": {
          "base_uri": "https://localhost:8080/"
        },
        "outputId": "f432bea9-6d36-4f90-bd7b-ef1807ef1f78"
      },
      "source": [
        "# Comparing prediction prices of previous day and new day\n",
        "previous_predicted_price = predicted_stock_price[-2]\n",
        "predicted_closing_price = predicted_stock_price[-1]\n",
        "\n",
        "print('Previous day predicted price:', previous_predicted_price)\n",
        "print('New day predicted price:', predicted_closing_price)\n",
        "\n",
        "if previous_predicted_price <= predicted_closing_price:\n",
        "  recommendation = 'Buy'\n",
        "else:\n",
        "  recommendation = 'Sell'\n",
        "print('Recommendation:', recommendation)"
      ],
      "execution_count": 30,
      "outputs": [
        {
          "output_type": "stream",
          "name": "stdout",
          "text": [
            "Previous day predicted price: [54.818104]\n",
            "New day predicted price: [55.500595]\n",
            "Recommendation: Buy\n",
            "time: 10.9 ms (started: 2021-12-14 15:30:31 +00:00)\n"
          ]
        }
      ]
    },
    {
      "cell_type": "markdown",
      "metadata": {
        "id": "Ib6OzuaWLSJl"
      },
      "source": [
        "Compare last actual closing price with prediction to provide a recommendation"
      ]
    },
    {
      "cell_type": "code",
      "metadata": {
        "id": "Kq3ClGJDOGf9",
        "colab": {
          "base_uri": "https://localhost:8080/"
        },
        "outputId": "6ac7d25e-96c4-4c5e-cab0-47610a6fa070"
      },
      "source": [
        "# Comparing actual closing price of previous day and new day predicted price\n",
        "# Get actual last closing price\n",
        "last_close = prices.iat[-1, 3]\n",
        "last_close\n",
        "\n",
        "print('Previous day actual price:', last_close)\n",
        "print('New day predicted price:', predicted_closing_price)\n",
        "\n",
        "if last_close <= predicted_closing_price:\n",
        "  recommendation = 'Buy'\n",
        "else:\n",
        "  recommendation = 'Sell'\n",
        "print('Recommendation:', recommendation)"
      ],
      "execution_count": 31,
      "outputs": [
        {
          "output_type": "stream",
          "name": "stdout",
          "text": [
            "Previous day actual price: 57.68000030517578\n",
            "New day predicted price: [55.500595]\n",
            "Recommendation: Sell\n",
            "time: 9.33 ms (started: 2021-12-14 15:30:31 +00:00)\n"
          ]
        }
      ]
    }
  ]
}