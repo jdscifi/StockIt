{
  "nbformat": 4,
  "nbformat_minor": 0,
  "metadata": {
    "colab": {
      "name": "AIDI1100 Project Prediction Parameter Optimization.ipynb",
      "provenance": [],
      "collapsed_sections": []
    },
    "kernelspec": {
      "name": "python3",
      "display_name": "Python 3"
    },
    "language_info": {
      "name": "python"
    },
    "accelerator": "GPU"
  },
  "cells": [
    {
      "cell_type": "code",
      "metadata": {
        "colab": {
          "base_uri": "https://localhost:8080/"
        },
        "id": "SEoDGmlOMnE5",
        "outputId": "54ba5c64-6343-4879-cb25-ad1c5a42aec7"
      },
      "source": [
        "!pip install yfinance\n",
        "!pip install ipython-autotime\n",
        "!pip install talos\n",
        "%load_ext autotime"
      ],
      "execution_count": 1,
      "outputs": [
        {
          "output_type": "stream",
          "name": "stdout",
          "text": [
            "Collecting yfinance\n",
            "  Downloading yfinance-0.1.67-py2.py3-none-any.whl (25 kB)\n",
            "Collecting lxml>=4.5.1\n",
            "  Downloading lxml-4.6.4-cp37-cp37m-manylinux_2_17_x86_64.manylinux2014_x86_64.manylinux_2_24_x86_64.whl (6.3 MB)\n",
            "\u001b[K     |████████████████████████████████| 6.3 MB 15.1 MB/s \n",
            "\u001b[?25hRequirement already satisfied: multitasking>=0.0.7 in /usr/local/lib/python3.7/dist-packages (from yfinance) (0.0.10)\n",
            "Requirement already satisfied: pandas>=0.24 in /usr/local/lib/python3.7/dist-packages (from yfinance) (1.1.5)\n",
            "Requirement already satisfied: numpy>=1.15 in /usr/local/lib/python3.7/dist-packages (from yfinance) (1.19.5)\n",
            "Requirement already satisfied: requests>=2.20 in /usr/local/lib/python3.7/dist-packages (from yfinance) (2.23.0)\n",
            "Requirement already satisfied: python-dateutil>=2.7.3 in /usr/local/lib/python3.7/dist-packages (from pandas>=0.24->yfinance) (2.8.2)\n",
            "Requirement already satisfied: pytz>=2017.2 in /usr/local/lib/python3.7/dist-packages (from pandas>=0.24->yfinance) (2018.9)\n",
            "Requirement already satisfied: six>=1.5 in /usr/local/lib/python3.7/dist-packages (from python-dateutil>=2.7.3->pandas>=0.24->yfinance) (1.15.0)\n",
            "Requirement already satisfied: certifi>=2017.4.17 in /usr/local/lib/python3.7/dist-packages (from requests>=2.20->yfinance) (2021.10.8)\n",
            "Requirement already satisfied: chardet<4,>=3.0.2 in /usr/local/lib/python3.7/dist-packages (from requests>=2.20->yfinance) (3.0.4)\n",
            "Requirement already satisfied: urllib3!=1.25.0,!=1.25.1,<1.26,>=1.21.1 in /usr/local/lib/python3.7/dist-packages (from requests>=2.20->yfinance) (1.24.3)\n",
            "Requirement already satisfied: idna<3,>=2.5 in /usr/local/lib/python3.7/dist-packages (from requests>=2.20->yfinance) (2.10)\n",
            "Installing collected packages: lxml, yfinance\n",
            "  Attempting uninstall: lxml\n",
            "    Found existing installation: lxml 4.2.6\n",
            "    Uninstalling lxml-4.2.6:\n",
            "      Successfully uninstalled lxml-4.2.6\n",
            "Successfully installed lxml-4.6.4 yfinance-0.1.67\n",
            "Collecting ipython-autotime\n",
            "  Downloading ipython_autotime-0.3.1-py2.py3-none-any.whl (6.8 kB)\n",
            "Requirement already satisfied: ipython in /usr/local/lib/python3.7/dist-packages (from ipython-autotime) (5.5.0)\n",
            "Requirement already satisfied: traitlets>=4.2 in /usr/local/lib/python3.7/dist-packages (from ipython->ipython-autotime) (5.1.1)\n",
            "Requirement already satisfied: pygments in /usr/local/lib/python3.7/dist-packages (from ipython->ipython-autotime) (2.6.1)\n",
            "Requirement already satisfied: pickleshare in /usr/local/lib/python3.7/dist-packages (from ipython->ipython-autotime) (0.7.5)\n",
            "Requirement already satisfied: decorator in /usr/local/lib/python3.7/dist-packages (from ipython->ipython-autotime) (4.4.2)\n",
            "Requirement already satisfied: prompt-toolkit<2.0.0,>=1.0.4 in /usr/local/lib/python3.7/dist-packages (from ipython->ipython-autotime) (1.0.18)\n",
            "Requirement already satisfied: setuptools>=18.5 in /usr/local/lib/python3.7/dist-packages (from ipython->ipython-autotime) (57.4.0)\n",
            "Requirement already satisfied: pexpect in /usr/local/lib/python3.7/dist-packages (from ipython->ipython-autotime) (4.8.0)\n",
            "Requirement already satisfied: simplegeneric>0.8 in /usr/local/lib/python3.7/dist-packages (from ipython->ipython-autotime) (0.8.1)\n",
            "Requirement already satisfied: six>=1.9.0 in /usr/local/lib/python3.7/dist-packages (from prompt-toolkit<2.0.0,>=1.0.4->ipython->ipython-autotime) (1.15.0)\n",
            "Requirement already satisfied: wcwidth in /usr/local/lib/python3.7/dist-packages (from prompt-toolkit<2.0.0,>=1.0.4->ipython->ipython-autotime) (0.2.5)\n",
            "Requirement already satisfied: ptyprocess>=0.5 in /usr/local/lib/python3.7/dist-packages (from pexpect->ipython->ipython-autotime) (0.7.0)\n",
            "Installing collected packages: ipython-autotime\n",
            "Successfully installed ipython-autotime-0.3.1\n",
            "Collecting talos\n",
            "  Downloading talos-1.0-py3-none-any.whl (53 kB)\n",
            "\u001b[K     |████████████████████████████████| 53 kB 2.1 MB/s \n",
            "\u001b[?25hRequirement already satisfied: pandas in /usr/local/lib/python3.7/dist-packages (from talos) (1.1.5)\n",
            "Requirement already satisfied: requests in /usr/local/lib/python3.7/dist-packages (from talos) (2.23.0)\n",
            "Requirement already satisfied: tensorflow>=2.0.0 in /usr/local/lib/python3.7/dist-packages (from talos) (2.7.0)\n",
            "Collecting wrangle\n",
            "  Downloading wrangle-0.6.9-py3-none-any.whl (51 kB)\n",
            "\u001b[K     |████████████████████████████████| 51 kB 673 kB/s \n",
            "\u001b[?25hRequirement already satisfied: tqdm in /usr/local/lib/python3.7/dist-packages (from talos) (4.62.3)\n",
            "Collecting statsmodels>=0.11.0\n",
            "  Downloading statsmodels-0.13.1-cp37-cp37m-manylinux_2_17_x86_64.manylinux2014_x86_64.whl (9.8 MB)\n",
            "\u001b[K     |████████████████████████████████| 9.8 MB 24.9 MB/s \n",
            "\u001b[?25hRequirement already satisfied: sklearn in /usr/local/lib/python3.7/dist-packages (from talos) (0.0)\n",
            "Requirement already satisfied: numpy in /usr/local/lib/python3.7/dist-packages (from talos) (1.19.5)\n",
            "Collecting chances\n",
            "  Downloading chances-0.1.9.tar.gz (35 kB)\n",
            "Collecting astetik\n",
            "  Downloading astetik-1.11.1-py3-none-any.whl (5.4 MB)\n",
            "\u001b[K     |████████████████████████████████| 5.4 MB 33.8 MB/s \n",
            "\u001b[?25hCollecting kerasplotlib\n",
            "  Downloading kerasplotlib-0.1.6.tar.gz (3.5 kB)\n",
            "Requirement already satisfied: patsy>=0.5.2 in /usr/local/lib/python3.7/dist-packages (from statsmodels>=0.11.0->talos) (0.5.2)\n",
            "Requirement already satisfied: scipy>=1.3 in /usr/local/lib/python3.7/dist-packages (from statsmodels>=0.11.0->talos) (1.4.1)\n",
            "Requirement already satisfied: python-dateutil>=2.7.3 in /usr/local/lib/python3.7/dist-packages (from pandas->talos) (2.8.2)\n",
            "Requirement already satisfied: pytz>=2017.2 in /usr/local/lib/python3.7/dist-packages (from pandas->talos) (2018.9)\n",
            "Requirement already satisfied: six in /usr/local/lib/python3.7/dist-packages (from patsy>=0.5.2->statsmodels>=0.11.0->talos) (1.15.0)\n",
            "Requirement already satisfied: tensorboard~=2.6 in /usr/local/lib/python3.7/dist-packages (from tensorflow>=2.0.0->talos) (2.7.0)\n",
            "Requirement already satisfied: protobuf>=3.9.2 in /usr/local/lib/python3.7/dist-packages (from tensorflow>=2.0.0->talos) (3.17.3)\n",
            "Requirement already satisfied: flatbuffers<3.0,>=1.12 in /usr/local/lib/python3.7/dist-packages (from tensorflow>=2.0.0->talos) (2.0)\n",
            "Requirement already satisfied: wrapt>=1.11.0 in /usr/local/lib/python3.7/dist-packages (from tensorflow>=2.0.0->talos) (1.13.3)\n",
            "Requirement already satisfied: tensorflow-estimator<2.8,~=2.7.0rc0 in /usr/local/lib/python3.7/dist-packages (from tensorflow>=2.0.0->talos) (2.7.0)\n",
            "Requirement already satisfied: gast<0.5.0,>=0.2.1 in /usr/local/lib/python3.7/dist-packages (from tensorflow>=2.0.0->talos) (0.4.0)\n",
            "Requirement already satisfied: tensorflow-io-gcs-filesystem>=0.21.0 in /usr/local/lib/python3.7/dist-packages (from tensorflow>=2.0.0->talos) (0.22.0)\n",
            "Requirement already satisfied: typing-extensions>=3.6.6 in /usr/local/lib/python3.7/dist-packages (from tensorflow>=2.0.0->talos) (3.10.0.2)\n",
            "Requirement already satisfied: astunparse>=1.6.0 in /usr/local/lib/python3.7/dist-packages (from tensorflow>=2.0.0->talos) (1.6.3)\n",
            "Requirement already satisfied: libclang>=9.0.1 in /usr/local/lib/python3.7/dist-packages (from tensorflow>=2.0.0->talos) (12.0.0)\n",
            "Requirement already satisfied: opt-einsum>=2.3.2 in /usr/local/lib/python3.7/dist-packages (from tensorflow>=2.0.0->talos) (3.3.0)\n",
            "Requirement already satisfied: keras-preprocessing>=1.1.1 in /usr/local/lib/python3.7/dist-packages (from tensorflow>=2.0.0->talos) (1.1.2)\n",
            "Requirement already satisfied: keras<2.8,>=2.7.0rc0 in /usr/local/lib/python3.7/dist-packages (from tensorflow>=2.0.0->talos) (2.7.0)\n",
            "Requirement already satisfied: h5py>=2.9.0 in /usr/local/lib/python3.7/dist-packages (from tensorflow>=2.0.0->talos) (3.1.0)\n",
            "Requirement already satisfied: wheel<1.0,>=0.32.0 in /usr/local/lib/python3.7/dist-packages (from tensorflow>=2.0.0->talos) (0.37.0)\n",
            "Requirement already satisfied: google-pasta>=0.1.1 in /usr/local/lib/python3.7/dist-packages (from tensorflow>=2.0.0->talos) (0.2.0)\n",
            "Requirement already satisfied: absl-py>=0.4.0 in /usr/local/lib/python3.7/dist-packages (from tensorflow>=2.0.0->talos) (0.12.0)\n",
            "Requirement already satisfied: termcolor>=1.1.0 in /usr/local/lib/python3.7/dist-packages (from tensorflow>=2.0.0->talos) (1.1.0)\n",
            "Requirement already satisfied: grpcio<2.0,>=1.24.3 in /usr/local/lib/python3.7/dist-packages (from tensorflow>=2.0.0->talos) (1.42.0)\n",
            "Requirement already satisfied: cached-property in /usr/local/lib/python3.7/dist-packages (from h5py>=2.9.0->tensorflow>=2.0.0->talos) (1.5.2)\n",
            "Requirement already satisfied: tensorboard-plugin-wit>=1.6.0 in /usr/local/lib/python3.7/dist-packages (from tensorboard~=2.6->tensorflow>=2.0.0->talos) (1.8.0)\n",
            "Requirement already satisfied: markdown>=2.6.8 in /usr/local/lib/python3.7/dist-packages (from tensorboard~=2.6->tensorflow>=2.0.0->talos) (3.3.6)\n",
            "Requirement already satisfied: setuptools>=41.0.0 in /usr/local/lib/python3.7/dist-packages (from tensorboard~=2.6->tensorflow>=2.0.0->talos) (57.4.0)\n",
            "Requirement already satisfied: google-auth<3,>=1.6.3 in /usr/local/lib/python3.7/dist-packages (from tensorboard~=2.6->tensorflow>=2.0.0->talos) (1.35.0)\n",
            "Requirement already satisfied: google-auth-oauthlib<0.5,>=0.4.1 in /usr/local/lib/python3.7/dist-packages (from tensorboard~=2.6->tensorflow>=2.0.0->talos) (0.4.6)\n",
            "Requirement already satisfied: tensorboard-data-server<0.7.0,>=0.6.0 in /usr/local/lib/python3.7/dist-packages (from tensorboard~=2.6->tensorflow>=2.0.0->talos) (0.6.1)\n",
            "Requirement already satisfied: werkzeug>=0.11.15 in /usr/local/lib/python3.7/dist-packages (from tensorboard~=2.6->tensorflow>=2.0.0->talos) (1.0.1)\n",
            "Requirement already satisfied: pyasn1-modules>=0.2.1 in /usr/local/lib/python3.7/dist-packages (from google-auth<3,>=1.6.3->tensorboard~=2.6->tensorflow>=2.0.0->talos) (0.2.8)\n",
            "Requirement already satisfied: rsa<5,>=3.1.4 in /usr/local/lib/python3.7/dist-packages (from google-auth<3,>=1.6.3->tensorboard~=2.6->tensorflow>=2.0.0->talos) (4.7.2)\n",
            "Requirement already satisfied: cachetools<5.0,>=2.0.0 in /usr/local/lib/python3.7/dist-packages (from google-auth<3,>=1.6.3->tensorboard~=2.6->tensorflow>=2.0.0->talos) (4.2.4)\n",
            "Requirement already satisfied: requests-oauthlib>=0.7.0 in /usr/local/lib/python3.7/dist-packages (from google-auth-oauthlib<0.5,>=0.4.1->tensorboard~=2.6->tensorflow>=2.0.0->talos) (1.3.0)\n",
            "Requirement already satisfied: importlib-metadata>=4.4 in /usr/local/lib/python3.7/dist-packages (from markdown>=2.6.8->tensorboard~=2.6->tensorflow>=2.0.0->talos) (4.8.2)\n",
            "Requirement already satisfied: zipp>=0.5 in /usr/local/lib/python3.7/dist-packages (from importlib-metadata>=4.4->markdown>=2.6.8->tensorboard~=2.6->tensorflow>=2.0.0->talos) (3.6.0)\n",
            "Requirement already satisfied: pyasn1<0.5.0,>=0.4.6 in /usr/local/lib/python3.7/dist-packages (from pyasn1-modules>=0.2.1->google-auth<3,>=1.6.3->tensorboard~=2.6->tensorflow>=2.0.0->talos) (0.4.8)\n",
            "Requirement already satisfied: chardet<4,>=3.0.2 in /usr/local/lib/python3.7/dist-packages (from requests->talos) (3.0.4)\n",
            "Requirement already satisfied: certifi>=2017.4.17 in /usr/local/lib/python3.7/dist-packages (from requests->talos) (2021.10.8)\n",
            "Requirement already satisfied: idna<3,>=2.5 in /usr/local/lib/python3.7/dist-packages (from requests->talos) (2.10)\n",
            "Requirement already satisfied: urllib3!=1.25.0,!=1.25.1,<1.26,>=1.21.1 in /usr/local/lib/python3.7/dist-packages (from requests->talos) (1.24.3)\n",
            "Requirement already satisfied: oauthlib>=3.0.0 in /usr/local/lib/python3.7/dist-packages (from requests-oauthlib>=0.7.0->google-auth-oauthlib<0.5,>=0.4.1->tensorboard~=2.6->tensorflow>=2.0.0->talos) (3.1.1)\n",
            "Requirement already satisfied: seaborn in /usr/local/lib/python3.7/dist-packages (from astetik->talos) (0.11.2)\n",
            "Collecting geonamescache\n",
            "  Downloading geonamescache-1.3.0-py3-none-any.whl (2.6 MB)\n",
            "\u001b[K     |████████████████████████████████| 2.6 MB 43.2 MB/s \n",
            "\u001b[?25hRequirement already satisfied: IPython in /usr/local/lib/python3.7/dist-packages (from astetik->talos) (5.5.0)\n",
            "Requirement already satisfied: pexpect in /usr/local/lib/python3.7/dist-packages (from IPython->astetik->talos) (4.8.0)\n",
            "Requirement already satisfied: pygments in /usr/local/lib/python3.7/dist-packages (from IPython->astetik->talos) (2.6.1)\n",
            "Requirement already satisfied: traitlets>=4.2 in /usr/local/lib/python3.7/dist-packages (from IPython->astetik->talos) (5.1.1)\n",
            "Requirement already satisfied: pickleshare in /usr/local/lib/python3.7/dist-packages (from IPython->astetik->talos) (0.7.5)\n",
            "Requirement already satisfied: simplegeneric>0.8 in /usr/local/lib/python3.7/dist-packages (from IPython->astetik->talos) (0.8.1)\n",
            "Requirement already satisfied: prompt-toolkit<2.0.0,>=1.0.4 in /usr/local/lib/python3.7/dist-packages (from IPython->astetik->talos) (1.0.18)\n",
            "Requirement already satisfied: decorator in /usr/local/lib/python3.7/dist-packages (from IPython->astetik->talos) (4.4.2)\n",
            "Requirement already satisfied: wcwidth in /usr/local/lib/python3.7/dist-packages (from prompt-toolkit<2.0.0,>=1.0.4->IPython->astetik->talos) (0.2.5)\n",
            "Requirement already satisfied: ptyprocess>=0.5 in /usr/local/lib/python3.7/dist-packages (from pexpect->IPython->astetik->talos) (0.7.0)\n",
            "Requirement already satisfied: matplotlib>=2.2 in /usr/local/lib/python3.7/dist-packages (from seaborn->astetik->talos) (3.2.2)\n",
            "Requirement already satisfied: cycler>=0.10 in /usr/local/lib/python3.7/dist-packages (from matplotlib>=2.2->seaborn->astetik->talos) (0.11.0)\n",
            "Requirement already satisfied: kiwisolver>=1.0.1 in /usr/local/lib/python3.7/dist-packages (from matplotlib>=2.2->seaborn->astetik->talos) (1.3.2)\n",
            "Requirement already satisfied: pyparsing!=2.0.4,!=2.1.2,!=2.1.6,>=2.0.1 in /usr/local/lib/python3.7/dist-packages (from matplotlib>=2.2->seaborn->astetik->talos) (3.0.6)\n",
            "Requirement already satisfied: scikit-learn in /usr/local/lib/python3.7/dist-packages (from sklearn->talos) (1.0.1)\n",
            "Requirement already satisfied: threadpoolctl>=2.0.0 in /usr/local/lib/python3.7/dist-packages (from scikit-learn->sklearn->talos) (3.0.0)\n",
            "Requirement already satisfied: joblib>=0.11 in /usr/local/lib/python3.7/dist-packages (from scikit-learn->sklearn->talos) (1.1.0)\n",
            "Building wheels for collected packages: chances, kerasplotlib\n",
            "  Building wheel for chances (setup.py) ... \u001b[?25l\u001b[?25hdone\n",
            "  Created wheel for chances: filename=chances-0.1.9-py3-none-any.whl size=41609 sha256=beecf3f4fe7712b885008ec5004103f28020f4df7c9f044be24bf6542ea64973\n",
            "  Stored in directory: /root/.cache/pip/wheels/f3/2e/7e/316f7da11ccf2195ff05e4a0186a4b5975be9bd0b0004198b6\n",
            "  Building wheel for kerasplotlib (setup.py) ... \u001b[?25l\u001b[?25hdone\n",
            "  Created wheel for kerasplotlib: filename=kerasplotlib-0.1.6-py3-none-any.whl size=3603 sha256=b634576a9808a99a24c9e80980c8aabb9cbfbbe66910205ce6126eb13c264d6b\n",
            "  Stored in directory: /root/.cache/pip/wheels/1c/b4/c8/d1533d85f7fc617e3201c3f41b79fe49ae9284c8fc4a5bd4b2\n",
            "Successfully built chances kerasplotlib\n",
            "Installing collected packages: statsmodels, wrangle, geonamescache, kerasplotlib, chances, astetik, talos\n",
            "  Attempting uninstall: statsmodels\n",
            "    Found existing installation: statsmodels 0.10.2\n",
            "    Uninstalling statsmodels-0.10.2:\n",
            "      Successfully uninstalled statsmodels-0.10.2\n",
            "Successfully installed astetik-1.11.1 chances-0.1.9 geonamescache-1.3.0 kerasplotlib-0.1.6 statsmodels-0.13.1 talos-1.0 wrangle-0.6.9\n",
            "time: 1.64 ms (started: 2021-11-22 20:21:50 +00:00)\n"
          ]
        }
      ]
    },
    {
      "cell_type": "code",
      "metadata": {
        "colab": {
          "base_uri": "https://localhost:8080/"
        },
        "id": "c7nnVyxWivTJ",
        "outputId": "248610a7-1803-4f96-c3b4-71bb23fd8151"
      },
      "source": [
        "import numpy as np\n",
        "import matplotlib.pyplot as plt\n",
        "import pandas as pd\n",
        "import yfinance as yf\n",
        "import talos\n",
        "from sklearn.preprocessing import MinMaxScaler\n",
        "from keras.models import Sequential\n",
        "from keras.layers import Dense\n",
        "from keras.layers import LSTM\n",
        "from keras.layers import Dropout"
      ],
      "execution_count": 2,
      "outputs": [
        {
          "output_type": "stream",
          "name": "stdout",
          "text": [
            "time: 3.51 s (started: 2021-11-22 20:21:50 +00:00)\n"
          ]
        }
      ]
    },
    {
      "cell_type": "code",
      "metadata": {
        "colab": {
          "base_uri": "https://localhost:8080/"
        },
        "id": "FGBYd4MRFNOU",
        "outputId": "730b2543-2430-4138-80cd-aac8f1b0cf1b"
      },
      "source": [
        "# Run Parameters\n",
        "STOCK_TICKER='INTC'\n",
        "TRAIN_SAMPLE_SET_SIZE=0.8\n",
        "STOCK_PRICE_HISTORY_PERIOD_SIZE='5y'\n",
        "WINDOW_SIZE=60\n",
        "AHEAD=1\n",
        "LSTM_LAYER_UNIT_SIZE=50\n",
        "DROPOUT_REGULARISATION_SIZE=0.2\n",
        "EPOCH_SIZE=20\n",
        "BATCH_SIZE=32"
      ],
      "execution_count": 3,
      "outputs": [
        {
          "output_type": "stream",
          "name": "stdout",
          "text": [
            "time: 2.63 ms (started: 2021-11-22 20:21:54 +00:00)\n"
          ]
        }
      ]
    },
    {
      "cell_type": "code",
      "metadata": {
        "colab": {
          "base_uri": "https://localhost:8080/"
        },
        "id": "cbq8pw8x3uqF",
        "outputId": "d7399c84-0fd1-42b8-d6bc-c64f109f769e"
      },
      "source": [
        "# Talos Hyperparameter Dictionary\n",
        "p = {    \n",
        "    'epoch_size': [10, 25, 50, 75, 100],\n",
        "    'batch_size': [8, 16, 32]\n",
        "}"
      ],
      "execution_count": 4,
      "outputs": [
        {
          "output_type": "stream",
          "name": "stdout",
          "text": [
            "time: 3.08 ms (started: 2021-11-22 20:21:54 +00:00)\n"
          ]
        }
      ]
    },
    {
      "cell_type": "code",
      "metadata": {
        "colab": {
          "base_uri": "https://localhost:8080/"
        },
        "id": "YRUsmomUj-9c",
        "outputId": "0562747a-ceee-4cc3-b980-95d739654323"
      },
      "source": [
        "# Download stock price data\n",
        "tickerSymbol=STOCK_TICKER\n",
        "prices = yf.download(tickers=tickerSymbol, \n",
        "                     interval='1d', \n",
        "                     period=STOCK_PRICE_HISTORY_PERIOD_SIZE)"
      ],
      "execution_count": 5,
      "outputs": [
        {
          "output_type": "stream",
          "name": "stdout",
          "text": [
            "\r[*********************100%***********************]  1 of 1 completed\n",
            "time: 249 ms (started: 2021-11-22 20:21:54 +00:00)\n"
          ]
        }
      ]
    },
    {
      "cell_type": "code",
      "metadata": {
        "colab": {
          "base_uri": "https://localhost:8080/"
        },
        "id": "OR9t7YCTr-H9",
        "outputId": "16a6e5f1-0ebb-4090-e591-4adb2a160ac5"
      },
      "source": [
        "prices.shape"
      ],
      "execution_count": 6,
      "outputs": [
        {
          "output_type": "execute_result",
          "data": {
            "text/plain": [
              "(1259, 6)"
            ]
          },
          "metadata": {},
          "execution_count": 6
        },
        {
          "output_type": "stream",
          "name": "stdout",
          "text": [
            "time: 7.9 ms (started: 2021-11-22 20:21:54 +00:00)\n"
          ]
        }
      ]
    },
    {
      "cell_type": "code",
      "metadata": {
        "colab": {
          "base_uri": "https://localhost:8080/",
          "height": 256
        },
        "id": "sqWuMystzLtc",
        "outputId": "c42bb291-3b3b-43a5-f4f1-b7b1d2cb9c64"
      },
      "source": [
        "prices.head()"
      ],
      "execution_count": 7,
      "outputs": [
        {
          "output_type": "execute_result",
          "data": {
            "text/html": [
              "<div>\n",
              "<style scoped>\n",
              "    .dataframe tbody tr th:only-of-type {\n",
              "        vertical-align: middle;\n",
              "    }\n",
              "\n",
              "    .dataframe tbody tr th {\n",
              "        vertical-align: top;\n",
              "    }\n",
              "\n",
              "    .dataframe thead th {\n",
              "        text-align: right;\n",
              "    }\n",
              "</style>\n",
              "<table border=\"1\" class=\"dataframe\">\n",
              "  <thead>\n",
              "    <tr style=\"text-align: right;\">\n",
              "      <th></th>\n",
              "      <th>Open</th>\n",
              "      <th>High</th>\n",
              "      <th>Low</th>\n",
              "      <th>Close</th>\n",
              "      <th>Adj Close</th>\n",
              "      <th>Volume</th>\n",
              "    </tr>\n",
              "    <tr>\n",
              "      <th>Date</th>\n",
              "      <th></th>\n",
              "      <th></th>\n",
              "      <th></th>\n",
              "      <th></th>\n",
              "      <th></th>\n",
              "      <th></th>\n",
              "    </tr>\n",
              "  </thead>\n",
              "  <tbody>\n",
              "    <tr>\n",
              "      <th>2016-11-22</th>\n",
              "      <td>35.180000</td>\n",
              "      <td>35.500000</td>\n",
              "      <td>35.110001</td>\n",
              "      <td>35.480000</td>\n",
              "      <td>31.230696</td>\n",
              "      <td>22327400</td>\n",
              "    </tr>\n",
              "    <tr>\n",
              "      <th>2016-11-23</th>\n",
              "      <td>35.480000</td>\n",
              "      <td>35.520000</td>\n",
              "      <td>35.099998</td>\n",
              "      <td>35.200001</td>\n",
              "      <td>30.984226</td>\n",
              "      <td>15843100</td>\n",
              "    </tr>\n",
              "    <tr>\n",
              "      <th>2016-11-25</th>\n",
              "      <td>35.110001</td>\n",
              "      <td>35.450001</td>\n",
              "      <td>35.110001</td>\n",
              "      <td>35.439999</td>\n",
              "      <td>31.195494</td>\n",
              "      <td>6372800</td>\n",
              "    </tr>\n",
              "    <tr>\n",
              "      <th>2016-11-28</th>\n",
              "      <td>35.430000</td>\n",
              "      <td>35.660000</td>\n",
              "      <td>35.209999</td>\n",
              "      <td>35.509998</td>\n",
              "      <td>31.257105</td>\n",
              "      <td>13549000</td>\n",
              "    </tr>\n",
              "    <tr>\n",
              "      <th>2016-11-29</th>\n",
              "      <td>35.639999</td>\n",
              "      <td>35.639999</td>\n",
              "      <td>35.270000</td>\n",
              "      <td>35.310001</td>\n",
              "      <td>31.081055</td>\n",
              "      <td>19581000</td>\n",
              "    </tr>\n",
              "  </tbody>\n",
              "</table>\n",
              "</div>"
            ],
            "text/plain": [
              "                 Open       High        Low      Close  Adj Close    Volume\n",
              "Date                                                                       \n",
              "2016-11-22  35.180000  35.500000  35.110001  35.480000  31.230696  22327400\n",
              "2016-11-23  35.480000  35.520000  35.099998  35.200001  30.984226  15843100\n",
              "2016-11-25  35.110001  35.450001  35.110001  35.439999  31.195494   6372800\n",
              "2016-11-28  35.430000  35.660000  35.209999  35.509998  31.257105  13549000\n",
              "2016-11-29  35.639999  35.639999  35.270000  35.310001  31.081055  19581000"
            ]
          },
          "metadata": {},
          "execution_count": 7
        },
        {
          "output_type": "stream",
          "name": "stdout",
          "text": [
            "time: 29.5 ms (started: 2021-11-22 20:21:54 +00:00)\n"
          ]
        }
      ]
    },
    {
      "cell_type": "code",
      "metadata": {
        "colab": {
          "base_uri": "https://localhost:8080/",
          "height": 130
        },
        "id": "qF8jOYzh0Qhe",
        "outputId": "078355e3-efc9-4c1f-edfd-496c5ba5f607"
      },
      "source": [
        "# Important price is \"Close\", which is 3rd column\n",
        "prices.iloc[0:1, 3:4]"
      ],
      "execution_count": 8,
      "outputs": [
        {
          "output_type": "execute_result",
          "data": {
            "text/html": [
              "<div>\n",
              "<style scoped>\n",
              "    .dataframe tbody tr th:only-of-type {\n",
              "        vertical-align: middle;\n",
              "    }\n",
              "\n",
              "    .dataframe tbody tr th {\n",
              "        vertical-align: top;\n",
              "    }\n",
              "\n",
              "    .dataframe thead th {\n",
              "        text-align: right;\n",
              "    }\n",
              "</style>\n",
              "<table border=\"1\" class=\"dataframe\">\n",
              "  <thead>\n",
              "    <tr style=\"text-align: right;\">\n",
              "      <th></th>\n",
              "      <th>Close</th>\n",
              "    </tr>\n",
              "    <tr>\n",
              "      <th>Date</th>\n",
              "      <th></th>\n",
              "    </tr>\n",
              "  </thead>\n",
              "  <tbody>\n",
              "    <tr>\n",
              "      <th>2016-11-22</th>\n",
              "      <td>35.48</td>\n",
              "    </tr>\n",
              "  </tbody>\n",
              "</table>\n",
              "</div>"
            ],
            "text/plain": [
              "            Close\n",
              "Date             \n",
              "2016-11-22  35.48"
            ]
          },
          "metadata": {},
          "execution_count": 8
        },
        {
          "output_type": "stream",
          "name": "stdout",
          "text": [
            "time: 13.3 ms (started: 2021-11-22 20:21:54 +00:00)\n"
          ]
        }
      ]
    },
    {
      "cell_type": "code",
      "metadata": {
        "colab": {
          "base_uri": "https://localhost:8080/"
        },
        "id": "WuIvZggg3u6k",
        "outputId": "957472a0-e616-43d0-ecbe-cfab712b7d86"
      },
      "source": [
        "# Split into train and test\n",
        "# Note: order is important and should not be randomized\n",
        "num_records_all = prices.shape[0]\n",
        "num_records_train = int(round(num_records_all*TRAIN_SAMPLE_SET_SIZE))\n",
        "train_set = prices.iloc[:num_records_train, 3:4]\n",
        "test_set = prices.iloc[num_records_train:, 3:4]"
      ],
      "execution_count": 9,
      "outputs": [
        {
          "output_type": "stream",
          "name": "stdout",
          "text": [
            "time: 5.71 ms (started: 2021-11-22 20:21:54 +00:00)\n"
          ]
        }
      ]
    },
    {
      "cell_type": "code",
      "metadata": {
        "colab": {
          "base_uri": "https://localhost:8080/"
        },
        "id": "SoKrvzIO4egl",
        "outputId": "88f6cf4f-5c75-46c2-ce65-be1adf78d8c3"
      },
      "source": [
        "train_set.shape"
      ],
      "execution_count": 10,
      "outputs": [
        {
          "output_type": "execute_result",
          "data": {
            "text/plain": [
              "(1007, 1)"
            ]
          },
          "metadata": {},
          "execution_count": 10
        },
        {
          "output_type": "stream",
          "name": "stdout",
          "text": [
            "time: 5.02 ms (started: 2021-11-22 20:21:54 +00:00)\n"
          ]
        }
      ]
    },
    {
      "cell_type": "code",
      "metadata": {
        "colab": {
          "base_uri": "https://localhost:8080/",
          "height": 256
        },
        "id": "DZvld_h06aC1",
        "outputId": "3b39b751-e05c-4db2-f898-13fe2795e4f2"
      },
      "source": [
        "train_set.head()"
      ],
      "execution_count": 11,
      "outputs": [
        {
          "output_type": "execute_result",
          "data": {
            "text/html": [
              "<div>\n",
              "<style scoped>\n",
              "    .dataframe tbody tr th:only-of-type {\n",
              "        vertical-align: middle;\n",
              "    }\n",
              "\n",
              "    .dataframe tbody tr th {\n",
              "        vertical-align: top;\n",
              "    }\n",
              "\n",
              "    .dataframe thead th {\n",
              "        text-align: right;\n",
              "    }\n",
              "</style>\n",
              "<table border=\"1\" class=\"dataframe\">\n",
              "  <thead>\n",
              "    <tr style=\"text-align: right;\">\n",
              "      <th></th>\n",
              "      <th>Close</th>\n",
              "    </tr>\n",
              "    <tr>\n",
              "      <th>Date</th>\n",
              "      <th></th>\n",
              "    </tr>\n",
              "  </thead>\n",
              "  <tbody>\n",
              "    <tr>\n",
              "      <th>2016-11-22</th>\n",
              "      <td>35.480000</td>\n",
              "    </tr>\n",
              "    <tr>\n",
              "      <th>2016-11-23</th>\n",
              "      <td>35.200001</td>\n",
              "    </tr>\n",
              "    <tr>\n",
              "      <th>2016-11-25</th>\n",
              "      <td>35.439999</td>\n",
              "    </tr>\n",
              "    <tr>\n",
              "      <th>2016-11-28</th>\n",
              "      <td>35.509998</td>\n",
              "    </tr>\n",
              "    <tr>\n",
              "      <th>2016-11-29</th>\n",
              "      <td>35.310001</td>\n",
              "    </tr>\n",
              "  </tbody>\n",
              "</table>\n",
              "</div>"
            ],
            "text/plain": [
              "                Close\n",
              "Date                 \n",
              "2016-11-22  35.480000\n",
              "2016-11-23  35.200001\n",
              "2016-11-25  35.439999\n",
              "2016-11-28  35.509998\n",
              "2016-11-29  35.310001"
            ]
          },
          "metadata": {},
          "execution_count": 11
        },
        {
          "output_type": "stream",
          "name": "stdout",
          "text": [
            "time: 16.4 ms (started: 2021-11-22 20:21:54 +00:00)\n"
          ]
        }
      ]
    },
    {
      "cell_type": "code",
      "metadata": {
        "colab": {
          "base_uri": "https://localhost:8080/"
        },
        "id": "8qFF3-aC4gEp",
        "outputId": "dcf1d332-e5b4-4c36-f9c9-920dbcffa023"
      },
      "source": [
        "test_set.shape"
      ],
      "execution_count": 12,
      "outputs": [
        {
          "output_type": "execute_result",
          "data": {
            "text/plain": [
              "(252, 1)"
            ]
          },
          "metadata": {},
          "execution_count": 12
        },
        {
          "output_type": "stream",
          "name": "stdout",
          "text": [
            "time: 6.39 ms (started: 2021-11-22 20:21:54 +00:00)\n"
          ]
        }
      ]
    },
    {
      "cell_type": "code",
      "metadata": {
        "colab": {
          "base_uri": "https://localhost:8080/"
        },
        "id": "ijn2DScV2ZHX",
        "outputId": "26ca64f3-bb34-4d13-fb7a-925e994d0276"
      },
      "source": [
        "# Scale the training set\n",
        "scaler = MinMaxScaler(feature_range = (0, 1))\n",
        "train_set_scaled = scaler.fit_transform(train_set)"
      ],
      "execution_count": 13,
      "outputs": [
        {
          "output_type": "stream",
          "name": "stdout",
          "text": [
            "time: 13.1 ms (started: 2021-11-22 20:21:54 +00:00)\n"
          ]
        }
      ]
    },
    {
      "cell_type": "code",
      "metadata": {
        "colab": {
          "base_uri": "https://localhost:8080/",
          "height": 225
        },
        "id": "qDlzjct55zFy",
        "outputId": "617d6da7-3185-496b-e905-57e2ab65ff30"
      },
      "source": [
        "pd.DataFrame(train_set_scaled).head()"
      ],
      "execution_count": 14,
      "outputs": [
        {
          "output_type": "execute_result",
          "data": {
            "text/html": [
              "<div>\n",
              "<style scoped>\n",
              "    .dataframe tbody tr th:only-of-type {\n",
              "        vertical-align: middle;\n",
              "    }\n",
              "\n",
              "    .dataframe tbody tr th {\n",
              "        vertical-align: top;\n",
              "    }\n",
              "\n",
              "    .dataframe thead th {\n",
              "        text-align: right;\n",
              "    }\n",
              "</style>\n",
              "<table border=\"1\" class=\"dataframe\">\n",
              "  <thead>\n",
              "    <tr style=\"text-align: right;\">\n",
              "      <th></th>\n",
              "      <th>0</th>\n",
              "    </tr>\n",
              "  </thead>\n",
              "  <tbody>\n",
              "    <tr>\n",
              "      <th>0</th>\n",
              "      <td>0.057698</td>\n",
              "    </tr>\n",
              "    <tr>\n",
              "      <th>1</th>\n",
              "      <td>0.049700</td>\n",
              "    </tr>\n",
              "    <tr>\n",
              "      <th>2</th>\n",
              "      <td>0.056555</td>\n",
              "    </tr>\n",
              "    <tr>\n",
              "      <th>3</th>\n",
              "      <td>0.058555</td>\n",
              "    </tr>\n",
              "    <tr>\n",
              "      <th>4</th>\n",
              "      <td>0.052842</td>\n",
              "    </tr>\n",
              "  </tbody>\n",
              "</table>\n",
              "</div>"
            ],
            "text/plain": [
              "          0\n",
              "0  0.057698\n",
              "1  0.049700\n",
              "2  0.056555\n",
              "3  0.058555\n",
              "4  0.052842"
            ]
          },
          "metadata": {},
          "execution_count": 14
        },
        {
          "output_type": "stream",
          "name": "stdout",
          "text": [
            "time: 15.8 ms (started: 2021-11-22 20:21:54 +00:00)\n"
          ]
        }
      ]
    },
    {
      "cell_type": "code",
      "metadata": {
        "colab": {
          "base_uri": "https://localhost:8080/"
        },
        "id": "51ZpItuRHsgv",
        "outputId": "52c3ac21-640d-4820-813a-7ec9fe363f9e"
      },
      "source": [
        "train_set_scaled.shape"
      ],
      "execution_count": 15,
      "outputs": [
        {
          "output_type": "execute_result",
          "data": {
            "text/plain": [
              "(1007, 1)"
            ]
          },
          "metadata": {},
          "execution_count": 15
        },
        {
          "output_type": "stream",
          "name": "stdout",
          "text": [
            "time: 5.85 ms (started: 2021-11-22 20:21:54 +00:00)\n"
          ]
        }
      ]
    },
    {
      "cell_type": "code",
      "metadata": {
        "colab": {
          "base_uri": "https://localhost:8080/"
        },
        "id": "8NGWVxnaA3QQ",
        "outputId": "14373ee3-f0a3-4eeb-aced-6ea6c0d3625c"
      },
      "source": [
        "train_x = []\n",
        "train_y = []\n",
        "for i in range(WINDOW_SIZE, num_records_train-1):\n",
        "    train_x.append(train_set_scaled[i-WINDOW_SIZE:i, 0])\n",
        "    train_y.append(train_set_scaled[i+AHEAD, 0])"
      ],
      "execution_count": 16,
      "outputs": [
        {
          "output_type": "stream",
          "name": "stdout",
          "text": [
            "time: 7.64 ms (started: 2021-11-22 20:21:54 +00:00)\n"
          ]
        }
      ]
    },
    {
      "cell_type": "code",
      "metadata": {
        "colab": {
          "base_uri": "https://localhost:8080/"
        },
        "id": "wA6z49i7tc7j",
        "outputId": "b0d5ae21-a7ab-438a-a715-41f3e6b5b9a2"
      },
      "source": [
        "train_x, train_y = np.array(train_x), np.array(train_y)"
      ],
      "execution_count": 17,
      "outputs": [
        {
          "output_type": "stream",
          "name": "stdout",
          "text": [
            "time: 3.08 ms (started: 2021-11-22 20:21:54 +00:00)\n"
          ]
        }
      ]
    },
    {
      "cell_type": "code",
      "metadata": {
        "colab": {
          "base_uri": "https://localhost:8080/"
        },
        "id": "TRC0jRynvd1s",
        "outputId": "f98ce015-8c04-48f3-8139-45e07479ac48"
      },
      "source": [
        "train_x = np.reshape(train_x, (train_x.shape[0], train_x.shape[1], 1))"
      ],
      "execution_count": 18,
      "outputs": [
        {
          "output_type": "stream",
          "name": "stdout",
          "text": [
            "time: 1.73 ms (started: 2021-11-22 20:21:54 +00:00)\n"
          ]
        }
      ]
    },
    {
      "cell_type": "code",
      "metadata": {
        "colab": {
          "base_uri": "https://localhost:8080/"
        },
        "id": "GeUjnAigI6_E",
        "outputId": "3a0f8f3e-e84f-4abc-fd47-a02596c27d1e"
      },
      "source": [
        "train_x.shape"
      ],
      "execution_count": 19,
      "outputs": [
        {
          "output_type": "execute_result",
          "data": {
            "text/plain": [
              "(946, 60, 1)"
            ]
          },
          "metadata": {},
          "execution_count": 19
        },
        {
          "output_type": "stream",
          "name": "stdout",
          "text": [
            "time: 5.52 ms (started: 2021-11-22 20:21:54 +00:00)\n"
          ]
        }
      ]
    },
    {
      "cell_type": "code",
      "metadata": {
        "colab": {
          "base_uri": "https://localhost:8080/"
        },
        "id": "07ZPD8MA5bkx",
        "outputId": "9ff775c7-d74f-4641-a5e3-a49df91b87c6"
      },
      "source": [
        "def model(x_train, y_train, x_val, y_val, params):\n",
        "  model = Sequential()\n",
        "  # Add LSTM layer and dropout after regularisation\n",
        "  model.add(LSTM(units = LSTM_LAYER_UNIT_SIZE, return_sequences = True, \n",
        "                 input_shape = (x_train.shape[1], 1)))\n",
        "  model.add(Dropout(DROPOUT_REGULARISATION_SIZE))\n",
        "  # Add LSTM layer and dropout after regularisation\n",
        "  model.add(LSTM(units = LSTM_LAYER_UNIT_SIZE, return_sequences = True))\n",
        "  model.add(Dropout(DROPOUT_REGULARISATION_SIZE))\n",
        "  # Add LSTM layer and dropout after regularisation\n",
        "  model.add(LSTM(units = LSTM_LAYER_UNIT_SIZE, return_sequences = True))\n",
        "  model.add(Dropout(DROPOUT_REGULARISATION_SIZE))\n",
        "  # Add LSTM layer and dropout after regularisation\n",
        "  model.add(LSTM(units = LSTM_LAYER_UNIT_SIZE))\n",
        "  model.add(Dropout(DROPOUT_REGULARISATION_SIZE))\n",
        "  # Add Output layer\n",
        "  model.add(Dense(units = 1))\n",
        "  # Compiling the RNN\n",
        "  model.compile(optimizer = 'adam', loss = 'mean_squared_error')\n",
        "  # Fitting the RNN to the Training set\n",
        "  history = model.fit(x=x_train,\n",
        "            y=y_train, \n",
        "            epochs=params['epoch_size'],\n",
        "            batch_size=params['batch_size'],\n",
        "            shuffle=False,\n",
        "            verbose=0)\n",
        "  return history, model"
      ],
      "execution_count": 20,
      "outputs": [
        {
          "output_type": "stream",
          "name": "stdout",
          "text": [
            "time: 27.1 ms (started: 2021-11-22 20:21:54 +00:00)\n"
          ]
        }
      ]
    },
    {
      "cell_type": "code",
      "metadata": {
        "colab": {
          "base_uri": "https://localhost:8080/"
        },
        "id": "MSicRmJ-9AbR",
        "outputId": "437200b1-01d0-45f8-d9b9-9a02fa6bfab6"
      },
      "source": [
        "t = talos.Scan(train_x, train_y, params=p, model=model, experiment_name='Stock Predictor')"
      ],
      "execution_count": 21,
      "outputs": [
        {
          "output_type": "stream",
          "name": "stderr",
          "text": [
            "100%|██████████| 15/15 [41:17<00:00, 165.18s/it]"
          ]
        },
        {
          "output_type": "stream",
          "name": "stdout",
          "text": [
            "time: 41min 17s (started: 2021-11-22 20:21:55 +00:00)\n"
          ]
        },
        {
          "output_type": "stream",
          "name": "stderr",
          "text": [
            "\n"
          ]
        }
      ]
    },
    {
      "cell_type": "code",
      "metadata": {
        "colab": {
          "base_uri": "https://localhost:8080/"
        },
        "id": "OIXC15D98_oB",
        "outputId": "1c12e593-f8d7-4d62-8f31-c68f42da295d"
      },
      "source": [
        "r = talos.Reporting(t)"
      ],
      "execution_count": 22,
      "outputs": [
        {
          "output_type": "stream",
          "name": "stdout",
          "text": [
            "time: 1.32 ms (started: 2021-11-22 21:03:12 +00:00)\n"
          ]
        }
      ]
    },
    {
      "cell_type": "code",
      "metadata": {
        "colab": {
          "base_uri": "https://localhost:8080/",
          "height": 538
        },
        "id": "4uHmWKmVMPh3",
        "outputId": "0baeaf35-842b-4d69-8341-caff57e37cb5"
      },
      "source": [
        "r.data"
      ],
      "execution_count": 23,
      "outputs": [
        {
          "output_type": "execute_result",
          "data": {
            "text/html": [
              "<div>\n",
              "<style scoped>\n",
              "    .dataframe tbody tr th:only-of-type {\n",
              "        vertical-align: middle;\n",
              "    }\n",
              "\n",
              "    .dataframe tbody tr th {\n",
              "        vertical-align: top;\n",
              "    }\n",
              "\n",
              "    .dataframe thead th {\n",
              "        text-align: right;\n",
              "    }\n",
              "</style>\n",
              "<table border=\"1\" class=\"dataframe\">\n",
              "  <thead>\n",
              "    <tr style=\"text-align: right;\">\n",
              "      <th></th>\n",
              "      <th>start</th>\n",
              "      <th>end</th>\n",
              "      <th>duration</th>\n",
              "      <th>round_epochs</th>\n",
              "      <th>loss</th>\n",
              "      <th>batch_size</th>\n",
              "      <th>epoch_size</th>\n",
              "    </tr>\n",
              "  </thead>\n",
              "  <tbody>\n",
              "    <tr>\n",
              "      <th>0</th>\n",
              "      <td>11/22/21-202155</td>\n",
              "      <td>11/22/21-202258</td>\n",
              "      <td>63.327282</td>\n",
              "      <td>10</td>\n",
              "      <td>0.007380</td>\n",
              "      <td>8</td>\n",
              "      <td>10</td>\n",
              "    </tr>\n",
              "    <tr>\n",
              "      <th>1</th>\n",
              "      <td>11/22/21-202258</td>\n",
              "      <td>11/22/21-202457</td>\n",
              "      <td>119.142407</td>\n",
              "      <td>25</td>\n",
              "      <td>0.004830</td>\n",
              "      <td>8</td>\n",
              "      <td>25</td>\n",
              "    </tr>\n",
              "    <tr>\n",
              "      <th>2</th>\n",
              "      <td>11/22/21-202458</td>\n",
              "      <td>11/22/21-202927</td>\n",
              "      <td>269.304664</td>\n",
              "      <td>50</td>\n",
              "      <td>0.003242</td>\n",
              "      <td>8</td>\n",
              "      <td>50</td>\n",
              "    </tr>\n",
              "    <tr>\n",
              "      <th>3</th>\n",
              "      <td>11/22/21-202927</td>\n",
              "      <td>11/22/21-203508</td>\n",
              "      <td>340.667292</td>\n",
              "      <td>75</td>\n",
              "      <td>0.002827</td>\n",
              "      <td>8</td>\n",
              "      <td>75</td>\n",
              "    </tr>\n",
              "    <tr>\n",
              "      <th>4</th>\n",
              "      <td>11/22/21-203508</td>\n",
              "      <td>11/22/21-204338</td>\n",
              "      <td>509.541918</td>\n",
              "      <td>100</td>\n",
              "      <td>0.002729</td>\n",
              "      <td>8</td>\n",
              "      <td>100</td>\n",
              "    </tr>\n",
              "    <tr>\n",
              "      <th>5</th>\n",
              "      <td>11/22/21-204338</td>\n",
              "      <td>11/22/21-204427</td>\n",
              "      <td>48.387788</td>\n",
              "      <td>10</td>\n",
              "      <td>0.008583</td>\n",
              "      <td>16</td>\n",
              "      <td>10</td>\n",
              "    </tr>\n",
              "    <tr>\n",
              "      <th>6</th>\n",
              "      <td>11/22/21-204427</td>\n",
              "      <td>11/22/21-204533</td>\n",
              "      <td>66.295636</td>\n",
              "      <td>25</td>\n",
              "      <td>0.005570</td>\n",
              "      <td>16</td>\n",
              "      <td>25</td>\n",
              "    </tr>\n",
              "    <tr>\n",
              "      <th>7</th>\n",
              "      <td>11/22/21-204534</td>\n",
              "      <td>11/22/21-204803</td>\n",
              "      <td>149.452429</td>\n",
              "      <td>50</td>\n",
              "      <td>0.003887</td>\n",
              "      <td>16</td>\n",
              "      <td>50</td>\n",
              "    </tr>\n",
              "    <tr>\n",
              "      <th>8</th>\n",
              "      <td>11/22/21-204804</td>\n",
              "      <td>11/22/21-205133</td>\n",
              "      <td>209.578266</td>\n",
              "      <td>75</td>\n",
              "      <td>0.002962</td>\n",
              "      <td>16</td>\n",
              "      <td>75</td>\n",
              "    </tr>\n",
              "    <tr>\n",
              "      <th>9</th>\n",
              "      <td>11/22/21-205134</td>\n",
              "      <td>11/22/21-205536</td>\n",
              "      <td>242.024914</td>\n",
              "      <td>100</td>\n",
              "      <td>0.003049</td>\n",
              "      <td>16</td>\n",
              "      <td>100</td>\n",
              "    </tr>\n",
              "    <tr>\n",
              "      <th>10</th>\n",
              "      <td>11/22/21-205536</td>\n",
              "      <td>11/22/21-205604</td>\n",
              "      <td>27.964407</td>\n",
              "      <td>10</td>\n",
              "      <td>0.010538</td>\n",
              "      <td>32</td>\n",
              "      <td>10</td>\n",
              "    </tr>\n",
              "    <tr>\n",
              "      <th>11</th>\n",
              "      <td>11/22/21-205604</td>\n",
              "      <td>11/22/21-205642</td>\n",
              "      <td>37.915876</td>\n",
              "      <td>25</td>\n",
              "      <td>0.006107</td>\n",
              "      <td>32</td>\n",
              "      <td>25</td>\n",
              "    </tr>\n",
              "    <tr>\n",
              "      <th>12</th>\n",
              "      <td>11/22/21-205643</td>\n",
              "      <td>11/22/21-205812</td>\n",
              "      <td>89.469966</td>\n",
              "      <td>50</td>\n",
              "      <td>0.004784</td>\n",
              "      <td>32</td>\n",
              "      <td>50</td>\n",
              "    </tr>\n",
              "    <tr>\n",
              "      <th>13</th>\n",
              "      <td>11/22/21-205813</td>\n",
              "      <td>11/22/21-210042</td>\n",
              "      <td>149.485615</td>\n",
              "      <td>75</td>\n",
              "      <td>0.004069</td>\n",
              "      <td>32</td>\n",
              "      <td>75</td>\n",
              "    </tr>\n",
              "    <tr>\n",
              "      <th>14</th>\n",
              "      <td>11/22/21-210042</td>\n",
              "      <td>11/22/21-210312</td>\n",
              "      <td>149.372243</td>\n",
              "      <td>100</td>\n",
              "      <td>0.003578</td>\n",
              "      <td>32</td>\n",
              "      <td>100</td>\n",
              "    </tr>\n",
              "  </tbody>\n",
              "</table>\n",
              "</div>"
            ],
            "text/plain": [
              "              start              end  ...  batch_size  epoch_size\n",
              "0   11/22/21-202155  11/22/21-202258  ...           8          10\n",
              "1   11/22/21-202258  11/22/21-202457  ...           8          25\n",
              "2   11/22/21-202458  11/22/21-202927  ...           8          50\n",
              "3   11/22/21-202927  11/22/21-203508  ...           8          75\n",
              "4   11/22/21-203508  11/22/21-204338  ...           8         100\n",
              "5   11/22/21-204338  11/22/21-204427  ...          16          10\n",
              "6   11/22/21-204427  11/22/21-204533  ...          16          25\n",
              "7   11/22/21-204534  11/22/21-204803  ...          16          50\n",
              "8   11/22/21-204804  11/22/21-205133  ...          16          75\n",
              "9   11/22/21-205134  11/22/21-205536  ...          16         100\n",
              "10  11/22/21-205536  11/22/21-205604  ...          32          10\n",
              "11  11/22/21-205604  11/22/21-205642  ...          32          25\n",
              "12  11/22/21-205643  11/22/21-205812  ...          32          50\n",
              "13  11/22/21-205813  11/22/21-210042  ...          32          75\n",
              "14  11/22/21-210042  11/22/21-210312  ...          32         100\n",
              "\n",
              "[15 rows x 7 columns]"
            ]
          },
          "metadata": {},
          "execution_count": 23
        },
        {
          "output_type": "stream",
          "name": "stdout",
          "text": [
            "time: 26.9 ms (started: 2021-11-22 21:03:12 +00:00)\n"
          ]
        }
      ]
    },
    {
      "cell_type": "code",
      "metadata": {
        "colab": {
          "base_uri": "https://localhost:8080/"
        },
        "id": "Go8mWXynMdhV",
        "outputId": "6f716545-8793-41dd-b258-2b9ab8c7af64"
      },
      "source": [
        "r.low('loss')"
      ],
      "execution_count": 24,
      "outputs": [
        {
          "output_type": "execute_result",
          "data": {
            "text/plain": [
              "0.0027286952827125788"
            ]
          },
          "metadata": {},
          "execution_count": 24
        },
        {
          "output_type": "stream",
          "name": "stdout",
          "text": [
            "time: 5.02 ms (started: 2021-11-22 21:03:12 +00:00)\n"
          ]
        }
      ]
    },
    {
      "cell_type": "code",
      "metadata": {
        "colab": {
          "base_uri": "https://localhost:8080/",
          "height": 428
        },
        "id": "tLNz7RrcNJzQ",
        "outputId": "d1cd2703-8395-4432-a63f-8298b8f16a47"
      },
      "source": [
        "r.plot_line('loss')"
      ],
      "execution_count": 25,
      "outputs": [
        {
          "output_type": "display_data",
          "data": {
            "image/png": "[encoded data removed]",
            "text/plain": [
              "<Figure size 864x475.2 with 1 Axes>"
            ]
          },
          "metadata": {}
        },
        {
          "output_type": "stream",
          "name": "stdout",
          "text": [
            "time: 358 ms (started: 2021-11-22 21:03:12 +00:00)\n"
          ]
        }
      ]
    },
    {
      "cell_type": "code",
      "metadata": {
        "colab": {
          "base_uri": "https://localhost:8080/",
          "height": 538
        },
        "id": "I8cvm_UtNkji",
        "outputId": "a8ddcb1c-ff16-4fa0-e017-862ca6141092"
      },
      "source": [
        "r.table(['loss'])"
      ],
      "execution_count": 26,
      "outputs": [
        {
          "output_type": "execute_result",
          "data": {
            "text/html": [
              "<div>\n",
              "<style scoped>\n",
              "    .dataframe tbody tr th:only-of-type {\n",
              "        vertical-align: middle;\n",
              "    }\n",
              "\n",
              "    .dataframe tbody tr th {\n",
              "        vertical-align: top;\n",
              "    }\n",
              "\n",
              "    .dataframe thead th {\n",
              "        text-align: right;\n",
              "    }\n",
              "</style>\n",
              "<table border=\"1\" class=\"dataframe\">\n",
              "  <thead>\n",
              "    <tr style=\"text-align: right;\">\n",
              "      <th></th>\n",
              "      <th>round_epochs</th>\n",
              "      <th>start</th>\n",
              "      <th>end</th>\n",
              "      <th>batch_size</th>\n",
              "      <th>epoch_size</th>\n",
              "      <th>duration</th>\n",
              "      <th>loss</th>\n",
              "    </tr>\n",
              "  </thead>\n",
              "  <tbody>\n",
              "    <tr>\n",
              "      <th>10</th>\n",
              "      <td>10</td>\n",
              "      <td>11/22/21-205536</td>\n",
              "      <td>11/22/21-205604</td>\n",
              "      <td>32</td>\n",
              "      <td>10</td>\n",
              "      <td>27.964407</td>\n",
              "      <td>0.010538</td>\n",
              "    </tr>\n",
              "    <tr>\n",
              "      <th>5</th>\n",
              "      <td>10</td>\n",
              "      <td>11/22/21-204338</td>\n",
              "      <td>11/22/21-204427</td>\n",
              "      <td>16</td>\n",
              "      <td>10</td>\n",
              "      <td>48.387788</td>\n",
              "      <td>0.008583</td>\n",
              "    </tr>\n",
              "    <tr>\n",
              "      <th>0</th>\n",
              "      <td>10</td>\n",
              "      <td>11/22/21-202155</td>\n",
              "      <td>11/22/21-202258</td>\n",
              "      <td>8</td>\n",
              "      <td>10</td>\n",
              "      <td>63.327282</td>\n",
              "      <td>0.007380</td>\n",
              "    </tr>\n",
              "    <tr>\n",
              "      <th>11</th>\n",
              "      <td>25</td>\n",
              "      <td>11/22/21-205604</td>\n",
              "      <td>11/22/21-205642</td>\n",
              "      <td>32</td>\n",
              "      <td>25</td>\n",
              "      <td>37.915876</td>\n",
              "      <td>0.006107</td>\n",
              "    </tr>\n",
              "    <tr>\n",
              "      <th>6</th>\n",
              "      <td>25</td>\n",
              "      <td>11/22/21-204427</td>\n",
              "      <td>11/22/21-204533</td>\n",
              "      <td>16</td>\n",
              "      <td>25</td>\n",
              "      <td>66.295636</td>\n",
              "      <td>0.005570</td>\n",
              "    </tr>\n",
              "    <tr>\n",
              "      <th>1</th>\n",
              "      <td>25</td>\n",
              "      <td>11/22/21-202258</td>\n",
              "      <td>11/22/21-202457</td>\n",
              "      <td>8</td>\n",
              "      <td>25</td>\n",
              "      <td>119.142407</td>\n",
              "      <td>0.004830</td>\n",
              "    </tr>\n",
              "    <tr>\n",
              "      <th>12</th>\n",
              "      <td>50</td>\n",
              "      <td>11/22/21-205643</td>\n",
              "      <td>11/22/21-205812</td>\n",
              "      <td>32</td>\n",
              "      <td>50</td>\n",
              "      <td>89.469966</td>\n",
              "      <td>0.004784</td>\n",
              "    </tr>\n",
              "    <tr>\n",
              "      <th>13</th>\n",
              "      <td>75</td>\n",
              "      <td>11/22/21-205813</td>\n",
              "      <td>11/22/21-210042</td>\n",
              "      <td>32</td>\n",
              "      <td>75</td>\n",
              "      <td>149.485615</td>\n",
              "      <td>0.004069</td>\n",
              "    </tr>\n",
              "    <tr>\n",
              "      <th>7</th>\n",
              "      <td>50</td>\n",
              "      <td>11/22/21-204534</td>\n",
              "      <td>11/22/21-204803</td>\n",
              "      <td>16</td>\n",
              "      <td>50</td>\n",
              "      <td>149.452429</td>\n",
              "      <td>0.003887</td>\n",
              "    </tr>\n",
              "    <tr>\n",
              "      <th>14</th>\n",
              "      <td>100</td>\n",
              "      <td>11/22/21-210042</td>\n",
              "      <td>11/22/21-210312</td>\n",
              "      <td>32</td>\n",
              "      <td>100</td>\n",
              "      <td>149.372243</td>\n",
              "      <td>0.003578</td>\n",
              "    </tr>\n",
              "    <tr>\n",
              "      <th>2</th>\n",
              "      <td>50</td>\n",
              "      <td>11/22/21-202458</td>\n",
              "      <td>11/22/21-202927</td>\n",
              "      <td>8</td>\n",
              "      <td>50</td>\n",
              "      <td>269.304664</td>\n",
              "      <td>0.003242</td>\n",
              "    </tr>\n",
              "    <tr>\n",
              "      <th>9</th>\n",
              "      <td>100</td>\n",
              "      <td>11/22/21-205134</td>\n",
              "      <td>11/22/21-205536</td>\n",
              "      <td>16</td>\n",
              "      <td>100</td>\n",
              "      <td>242.024914</td>\n",
              "      <td>0.003049</td>\n",
              "    </tr>\n",
              "    <tr>\n",
              "      <th>8</th>\n",
              "      <td>75</td>\n",
              "      <td>11/22/21-204804</td>\n",
              "      <td>11/22/21-205133</td>\n",
              "      <td>16</td>\n",
              "      <td>75</td>\n",
              "      <td>209.578266</td>\n",
              "      <td>0.002962</td>\n",
              "    </tr>\n",
              "    <tr>\n",
              "      <th>3</th>\n",
              "      <td>75</td>\n",
              "      <td>11/22/21-202927</td>\n",
              "      <td>11/22/21-203508</td>\n",
              "      <td>8</td>\n",
              "      <td>75</td>\n",
              "      <td>340.667292</td>\n",
              "      <td>0.002827</td>\n",
              "    </tr>\n",
              "    <tr>\n",
              "      <th>4</th>\n",
              "      <td>100</td>\n",
              "      <td>11/22/21-203508</td>\n",
              "      <td>11/22/21-204338</td>\n",
              "      <td>8</td>\n",
              "      <td>100</td>\n",
              "      <td>509.541918</td>\n",
              "      <td>0.002729</td>\n",
              "    </tr>\n",
              "  </tbody>\n",
              "</table>\n",
              "</div>"
            ],
            "text/plain": [
              "    round_epochs            start  ...    duration      loss\n",
              "10            10  11/22/21-205536  ...   27.964407  0.010538\n",
              "5             10  11/22/21-204338  ...   48.387788  0.008583\n",
              "0             10  11/22/21-202155  ...   63.327282  0.007380\n",
              "11            25  11/22/21-205604  ...   37.915876  0.006107\n",
              "6             25  11/22/21-204427  ...   66.295636  0.005570\n",
              "1             25  11/22/21-202258  ...  119.142407  0.004830\n",
              "12            50  11/22/21-205643  ...   89.469966  0.004784\n",
              "13            75  11/22/21-205813  ...  149.485615  0.004069\n",
              "7             50  11/22/21-204534  ...  149.452429  0.003887\n",
              "14           100  11/22/21-210042  ...  149.372243  0.003578\n",
              "2             50  11/22/21-202458  ...  269.304664  0.003242\n",
              "9            100  11/22/21-205134  ...  242.024914  0.003049\n",
              "8             75  11/22/21-204804  ...  209.578266  0.002962\n",
              "3             75  11/22/21-202927  ...  340.667292  0.002827\n",
              "4            100  11/22/21-203508  ...  509.541918  0.002729\n",
              "\n",
              "[15 rows x 7 columns]"
            ]
          },
          "metadata": {},
          "execution_count": 26
        },
        {
          "output_type": "stream",
          "name": "stdout",
          "text": [
            "time: 30.1 ms (started: 2021-11-22 21:03:13 +00:00)\n"
          ]
        }
      ]
    },
    {
      "cell_type": "code",
      "metadata": {
        "colab": {
          "base_uri": "https://localhost:8080/"
        },
        "id": "m75fToAUPbAM",
        "outputId": "ce81d7e4-6622-45d9-8754-8f7cf22ca1e8"
      },
      "source": [
        "r.best_params('loss', [], n=1, ascending=True)"
      ],
      "execution_count": 27,
      "outputs": [
        {
          "output_type": "execute_result",
          "data": {
            "text/plain": [
              "array([[100, '11/22/21-203508', '11/22/21-204338', 8, 100,\n",
              "        509.5419182777405, 0]], dtype=object)"
            ]
          },
          "metadata": {},
          "execution_count": 27
        },
        {
          "output_type": "stream",
          "name": "stdout",
          "text": [
            "time: 12.3 ms (started: 2021-11-22 21:03:13 +00:00)\n"
          ]
        }
      ]
    },
    {
      "cell_type": "code",
      "metadata": {
        "colab": {
          "base_uri": "https://localhost:8080/"
        },
        "id": "48x0lPbJUEpd",
        "outputId": "b96cd654-8c6f-4233-e75e-d16fa2b57b7a"
      },
      "source": [
        "inputs = train_set[-60:].append(test_set)"
      ],
      "execution_count": 28,
      "outputs": [
        {
          "output_type": "stream",
          "name": "stdout",
          "text": [
            "time: 2.83 ms (started: 2021-11-22 21:03:13 +00:00)\n"
          ]
        }
      ]
    },
    {
      "cell_type": "code",
      "metadata": {
        "colab": {
          "base_uri": "https://localhost:8080/"
        },
        "id": "xBCX8BZbUehD",
        "outputId": "ea580920-2070-4c55-ed63-540edbd3d8f5"
      },
      "source": [
        "inputs.shape"
      ],
      "execution_count": 29,
      "outputs": [
        {
          "output_type": "execute_result",
          "data": {
            "text/plain": [
              "(312, 1)"
            ]
          },
          "metadata": {},
          "execution_count": 29
        },
        {
          "output_type": "stream",
          "name": "stdout",
          "text": [
            "time: 4.91 ms (started: 2021-11-22 21:03:13 +00:00)\n"
          ]
        }
      ]
    },
    {
      "cell_type": "code",
      "metadata": {
        "colab": {
          "base_uri": "https://localhost:8080/",
          "height": 256
        },
        "id": "gS9fD8HAUnMf",
        "outputId": "d8075ab7-a26a-4256-e4d6-89f4c80976a9"
      },
      "source": [
        "inputs.head()"
      ],
      "execution_count": 30,
      "outputs": [
        {
          "output_type": "execute_result",
          "data": {
            "text/html": [
              "<div>\n",
              "<style scoped>\n",
              "    .dataframe tbody tr th:only-of-type {\n",
              "        vertical-align: middle;\n",
              "    }\n",
              "\n",
              "    .dataframe tbody tr th {\n",
              "        vertical-align: top;\n",
              "    }\n",
              "\n",
              "    .dataframe thead th {\n",
              "        text-align: right;\n",
              "    }\n",
              "</style>\n",
              "<table border=\"1\" class=\"dataframe\">\n",
              "  <thead>\n",
              "    <tr style=\"text-align: right;\">\n",
              "      <th></th>\n",
              "      <th>Close</th>\n",
              "    </tr>\n",
              "    <tr>\n",
              "      <th>Date</th>\n",
              "      <th></th>\n",
              "    </tr>\n",
              "  </thead>\n",
              "  <tbody>\n",
              "    <tr>\n",
              "      <th>2020-08-28</th>\n",
              "      <td>50.430000</td>\n",
              "    </tr>\n",
              "    <tr>\n",
              "      <th>2020-08-31</th>\n",
              "      <td>50.950001</td>\n",
              "    </tr>\n",
              "    <tr>\n",
              "      <th>2020-09-01</th>\n",
              "      <td>50.790001</td>\n",
              "    </tr>\n",
              "    <tr>\n",
              "      <th>2020-09-02</th>\n",
              "      <td>52.250000</td>\n",
              "    </tr>\n",
              "    <tr>\n",
              "      <th>2020-09-03</th>\n",
              "      <td>50.389999</td>\n",
              "    </tr>\n",
              "  </tbody>\n",
              "</table>\n",
              "</div>"
            ],
            "text/plain": [
              "                Close\n",
              "Date                 \n",
              "2020-08-28  50.430000\n",
              "2020-08-31  50.950001\n",
              "2020-09-01  50.790001\n",
              "2020-09-02  52.250000\n",
              "2020-09-03  50.389999"
            ]
          },
          "metadata": {},
          "execution_count": 30
        },
        {
          "output_type": "stream",
          "name": "stdout",
          "text": [
            "time: 15.8 ms (started: 2021-11-22 21:03:13 +00:00)\n"
          ]
        }
      ]
    },
    {
      "cell_type": "code",
      "metadata": {
        "colab": {
          "base_uri": "https://localhost:8080/"
        },
        "id": "r0SNz0WCUpsW",
        "outputId": "36729d7d-9725-4e40-8f38-a4ddf2dfe369"
      },
      "source": [
        "inputs = inputs.values.reshape(-1, 1)"
      ],
      "execution_count": 31,
      "outputs": [
        {
          "output_type": "stream",
          "name": "stdout",
          "text": [
            "time: 2.47 ms (started: 2021-11-22 21:03:13 +00:00)\n"
          ]
        }
      ]
    },
    {
      "cell_type": "code",
      "metadata": {
        "colab": {
          "base_uri": "https://localhost:8080/"
        },
        "id": "j2e1AxaZVRRI",
        "outputId": "8d555a7e-2991-4f9f-dddc-0ab67d40ece1"
      },
      "source": [
        "inputs = scaler.transform(inputs)"
      ],
      "execution_count": 32,
      "outputs": [
        {
          "output_type": "stream",
          "name": "stdout",
          "text": [
            "time: 3.8 ms (started: 2021-11-22 21:03:13 +00:00)\n"
          ]
        }
      ]
    },
    {
      "cell_type": "code",
      "metadata": {
        "colab": {
          "base_uri": "https://localhost:8080/",
          "height": 225
        },
        "id": "SFFxi0wQVcNS",
        "outputId": "c70a548e-163d-4a27-884d-662be59e083a"
      },
      "source": [
        "pd.DataFrame(inputs).head()"
      ],
      "execution_count": 33,
      "outputs": [
        {
          "output_type": "execute_result",
          "data": {
            "text/html": [
              "<div>\n",
              "<style scoped>\n",
              "    .dataframe tbody tr th:only-of-type {\n",
              "        vertical-align: middle;\n",
              "    }\n",
              "\n",
              "    .dataframe tbody tr th {\n",
              "        vertical-align: top;\n",
              "    }\n",
              "\n",
              "    .dataframe thead th {\n",
              "        text-align: right;\n",
              "    }\n",
              "</style>\n",
              "<table border=\"1\" class=\"dataframe\">\n",
              "  <thead>\n",
              "    <tr style=\"text-align: right;\">\n",
              "      <th></th>\n",
              "      <th>0</th>\n",
              "    </tr>\n",
              "  </thead>\n",
              "  <tbody>\n",
              "    <tr>\n",
              "      <th>0</th>\n",
              "      <td>0.484719</td>\n",
              "    </tr>\n",
              "    <tr>\n",
              "      <th>1</th>\n",
              "      <td>0.499572</td>\n",
              "    </tr>\n",
              "    <tr>\n",
              "      <th>2</th>\n",
              "      <td>0.495001</td>\n",
              "    </tr>\n",
              "    <tr>\n",
              "      <th>3</th>\n",
              "      <td>0.536704</td>\n",
              "    </tr>\n",
              "    <tr>\n",
              "      <th>4</th>\n",
              "      <td>0.483576</td>\n",
              "    </tr>\n",
              "  </tbody>\n",
              "</table>\n",
              "</div>"
            ],
            "text/plain": [
              "          0\n",
              "0  0.484719\n",
              "1  0.499572\n",
              "2  0.495001\n",
              "3  0.536704\n",
              "4  0.483576"
            ]
          },
          "metadata": {},
          "execution_count": 33
        },
        {
          "output_type": "stream",
          "name": "stdout",
          "text": [
            "time: 11 ms (started: 2021-11-22 21:03:13 +00:00)\n"
          ]
        }
      ]
    },
    {
      "cell_type": "code",
      "metadata": {
        "colab": {
          "base_uri": "https://localhost:8080/"
        },
        "id": "sVVTQPE2ViHU",
        "outputId": "da963a56-d9c5-4aae-f379-dfd9f0054b34"
      },
      "source": [
        "test_x = []\n",
        "for i in range(WINDOW_SIZE, inputs.shape[0]):\n",
        "    test_x.append(inputs[i-WINDOW_SIZE:i, 0])"
      ],
      "execution_count": 34,
      "outputs": [
        {
          "output_type": "stream",
          "name": "stdout",
          "text": [
            "time: 3.15 ms (started: 2021-11-22 21:03:13 +00:00)\n"
          ]
        }
      ]
    },
    {
      "cell_type": "code",
      "metadata": {
        "colab": {
          "base_uri": "https://localhost:8080/"
        },
        "id": "QjGlcpAJVtw0",
        "outputId": "99078849-5714-4768-ada8-7bcd2a3bb26d"
      },
      "source": [
        "test_x = np.array(test_x)"
      ],
      "execution_count": 35,
      "outputs": [
        {
          "output_type": "stream",
          "name": "stdout",
          "text": [
            "time: 1.79 ms (started: 2021-11-22 21:03:13 +00:00)\n"
          ]
        }
      ]
    },
    {
      "cell_type": "code",
      "metadata": {
        "colab": {
          "base_uri": "https://localhost:8080/"
        },
        "id": "xn-hfbHBVvEN",
        "outputId": "346ac224-7880-40c7-ec06-c9abca94a372"
      },
      "source": [
        "test_x = np.reshape(test_x, (test_x.shape[0], test_x.shape[1], 1))"
      ],
      "execution_count": 36,
      "outputs": [
        {
          "output_type": "stream",
          "name": "stdout",
          "text": [
            "time: 1.51 ms (started: 2021-11-22 21:03:13 +00:00)\n"
          ]
        }
      ]
    },
    {
      "cell_type": "code",
      "metadata": {
        "colab": {
          "base_uri": "https://localhost:8080/"
        },
        "id": "PHruqwOTVyE6",
        "outputId": "c4c38ee9-c443-4646-d921-18a3cfe5f511"
      },
      "source": [
        "test_x.shape"
      ],
      "execution_count": 37,
      "outputs": [
        {
          "output_type": "execute_result",
          "data": {
            "text/plain": [
              "(252, 60, 1)"
            ]
          },
          "metadata": {},
          "execution_count": 37
        },
        {
          "output_type": "stream",
          "name": "stdout",
          "text": [
            "time: 17.4 ms (started: 2021-11-22 21:03:13 +00:00)\n"
          ]
        }
      ]
    },
    {
      "cell_type": "code",
      "metadata": {
        "id": "1X57ahflSCIQ"
      },
      "source": [
        ""
      ],
      "execution_count": 37,
      "outputs": []
    },
    {
      "cell_type": "code",
      "metadata": {
        "colab": {
          "base_uri": "https://localhost:8080/"
        },
        "id": "RA0vMwuISCaY",
        "outputId": "93c17a13-c078-4bcb-97d2-8eddb02141fe"
      },
      "source": [
        "p = talos.Predict(t)"
      ],
      "execution_count": 38,
      "outputs": [
        {
          "output_type": "stream",
          "name": "stdout",
          "text": [
            "time: 1.21 ms (started: 2021-11-22 21:03:13 +00:00)\n"
          ]
        }
      ]
    },
    {
      "cell_type": "code",
      "metadata": {
        "colab": {
          "base_uri": "https://localhost:8080/"
        },
        "id": "21Y5GFgtSMFY",
        "outputId": "d4051e5c-c96c-48c0-bca9-1f5323ec6450"
      },
      "source": [
        "predicted_stock_price = p.predict(test_x, metric='loss', asc=True)"
      ],
      "execution_count": 39,
      "outputs": [
        {
          "output_type": "stream",
          "name": "stdout",
          "text": [
            "time: 3.19 s (started: 2021-11-22 21:03:13 +00:00)\n"
          ]
        }
      ]
    },
    {
      "cell_type": "code",
      "metadata": {
        "colab": {
          "base_uri": "https://localhost:8080/"
        },
        "id": "WtEV-5FsSvGK",
        "outputId": "30c1968d-0bb9-4634-8b40-71ae3e892d5b"
      },
      "source": [
        "predicted_stock_price.shape"
      ],
      "execution_count": 40,
      "outputs": [
        {
          "output_type": "execute_result",
          "data": {
            "text/plain": [
              "(252, 1)"
            ]
          },
          "metadata": {},
          "execution_count": 40
        },
        {
          "output_type": "stream",
          "name": "stdout",
          "text": [
            "time: 6.39 ms (started: 2021-11-22 21:03:16 +00:00)\n"
          ]
        }
      ]
    },
    {
      "cell_type": "code",
      "metadata": {
        "colab": {
          "base_uri": "https://localhost:8080/"
        },
        "id": "hRyVnIywSxPi",
        "outputId": "551ea491-1193-47f6-ccd0-c0fdb540ba3d"
      },
      "source": [
        "predicted_stock_price = scaler.inverse_transform(predicted_stock_price)"
      ],
      "execution_count": 41,
      "outputs": [
        {
          "output_type": "stream",
          "name": "stdout",
          "text": [
            "time: 890 µs (started: 2021-11-22 21:03:16 +00:00)\n"
          ]
        }
      ]
    },
    {
      "cell_type": "code",
      "metadata": {
        "colab": {
          "base_uri": "https://localhost:8080/",
          "height": 225
        },
        "id": "KsYQYrE_S43V",
        "outputId": "acdb76b0-762d-4368-f293-90b5473d4ead"
      },
      "source": [
        "prices['Date']=prices.index\n",
        "prices = prices.reset_index(drop=True)\n",
        "prices.head()"
      ],
      "execution_count": 42,
      "outputs": [
        {
          "output_type": "execute_result",
          "data": {
            "text/html": [
              "<div>\n",
              "<style scoped>\n",
              "    .dataframe tbody tr th:only-of-type {\n",
              "        vertical-align: middle;\n",
              "    }\n",
              "\n",
              "    .dataframe tbody tr th {\n",
              "        vertical-align: top;\n",
              "    }\n",
              "\n",
              "    .dataframe thead th {\n",
              "        text-align: right;\n",
              "    }\n",
              "</style>\n",
              "<table border=\"1\" class=\"dataframe\">\n",
              "  <thead>\n",
              "    <tr style=\"text-align: right;\">\n",
              "      <th></th>\n",
              "      <th>Open</th>\n",
              "      <th>High</th>\n",
              "      <th>Low</th>\n",
              "      <th>Close</th>\n",
              "      <th>Adj Close</th>\n",
              "      <th>Volume</th>\n",
              "      <th>Date</th>\n",
              "    </tr>\n",
              "  </thead>\n",
              "  <tbody>\n",
              "    <tr>\n",
              "      <th>0</th>\n",
              "      <td>35.180000</td>\n",
              "      <td>35.500000</td>\n",
              "      <td>35.110001</td>\n",
              "      <td>35.480000</td>\n",
              "      <td>31.230696</td>\n",
              "      <td>22327400</td>\n",
              "      <td>2016-11-22</td>\n",
              "    </tr>\n",
              "    <tr>\n",
              "      <th>1</th>\n",
              "      <td>35.480000</td>\n",
              "      <td>35.520000</td>\n",
              "      <td>35.099998</td>\n",
              "      <td>35.200001</td>\n",
              "      <td>30.984226</td>\n",
              "      <td>15843100</td>\n",
              "      <td>2016-11-23</td>\n",
              "    </tr>\n",
              "    <tr>\n",
              "      <th>2</th>\n",
              "      <td>35.110001</td>\n",
              "      <td>35.450001</td>\n",
              "      <td>35.110001</td>\n",
              "      <td>35.439999</td>\n",
              "      <td>31.195494</td>\n",
              "      <td>6372800</td>\n",
              "      <td>2016-11-25</td>\n",
              "    </tr>\n",
              "    <tr>\n",
              "      <th>3</th>\n",
              "      <td>35.430000</td>\n",
              "      <td>35.660000</td>\n",
              "      <td>35.209999</td>\n",
              "      <td>35.509998</td>\n",
              "      <td>31.257105</td>\n",
              "      <td>13549000</td>\n",
              "      <td>2016-11-28</td>\n",
              "    </tr>\n",
              "    <tr>\n",
              "      <th>4</th>\n",
              "      <td>35.639999</td>\n",
              "      <td>35.639999</td>\n",
              "      <td>35.270000</td>\n",
              "      <td>35.310001</td>\n",
              "      <td>31.081055</td>\n",
              "      <td>19581000</td>\n",
              "      <td>2016-11-29</td>\n",
              "    </tr>\n",
              "  </tbody>\n",
              "</table>\n",
              "</div>"
            ],
            "text/plain": [
              "        Open       High        Low      Close  Adj Close    Volume       Date\n",
              "0  35.180000  35.500000  35.110001  35.480000  31.230696  22327400 2016-11-22\n",
              "1  35.480000  35.520000  35.099998  35.200001  30.984226  15843100 2016-11-23\n",
              "2  35.110001  35.450001  35.110001  35.439999  31.195494   6372800 2016-11-25\n",
              "3  35.430000  35.660000  35.209999  35.509998  31.257105  13549000 2016-11-28\n",
              "4  35.639999  35.639999  35.270000  35.310001  31.081055  19581000 2016-11-29"
            ]
          },
          "metadata": {},
          "execution_count": 42
        },
        {
          "output_type": "stream",
          "name": "stdout",
          "text": [
            "time: 29.7 ms (started: 2021-11-22 21:03:16 +00:00)\n"
          ]
        }
      ]
    },
    {
      "cell_type": "code",
      "metadata": {
        "colab": {
          "base_uri": "https://localhost:8080/",
          "height": 370
        },
        "id": "CkEC7b5dTFdV",
        "outputId": "3a5c5281-a9a4-44a9-c9f1-281af3efbb6f"
      },
      "source": [
        "plt.plot(prices.loc[num_records_train:, 'Date'],test_set.values, color = 'red', label = 'Real Stock Price')\n",
        "plt.plot(prices.loc[num_records_train:, 'Date'],predicted_stock_price, color = 'blue', label = 'Predicted Stock Price')\n",
        "plt.title('Stock Price Prediction')\n",
        "plt.xlabel('Time')\n",
        "plt.ylabel('Stock Price')\n",
        "plt.legend()\n",
        "plt.xticks(rotation=90)\n",
        "plt.show()"
      ],
      "execution_count": 43,
      "outputs": [
        {
          "output_type": "display_data",
          "data": {
            "image/png": "[encoded data removed]",
            "text/plain": [
              "<Figure size 432x288 with 1 Axes>"
            ]
          },
          "metadata": {}
        },
        {
          "output_type": "stream",
          "name": "stdout",
          "text": [
            "time: 351 ms (started: 2021-11-22 21:03:16 +00:00)\n"
          ]
        }
      ]
    }
  ]
}